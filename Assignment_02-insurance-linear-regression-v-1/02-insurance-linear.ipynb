{
 "cells": [
  {
   "cell_type": "markdown",
   "metadata": {
    "_cell_guid": "b1076dfc-b9ad-4769-8c92-a6c4dae69d19",
    "_uuid": "8f2839f25d086af736a60e9eeb907d3b93b6e0e5"
   },
   "source": [
    "# Insurance cost prediction using linear regression\n",
    "\n",
    "In this assignment we're going to use information like a person's age, sex, BMI, no. of children and smoking habit to predict the price of yearly medical bills. This kind of model is useful for insurance companies to determine the yearly insurance premium for a person. The dataset for this problem is taken from: https://www.kaggle.com/mirichoi0218/insurance\n",
    "\n",
    "\n",
    "We will create a model with the following steps:\n",
    "1. Download and explore the dataset\n",
    "2. Prepare the dataset for training\n",
    "3. Create a linear regression model\n",
    "4. Train the model to fit the data\n",
    "5. Make predictions using the trained model\n",
    "\n",
    "\n",
    "This assignment builds upon the concepts from the first 2 lectures. It will help to review these Jupyter notebooks:\n",
    "- PyTorch basics: https://jovian.ml/aakashns/01-pytorch-basics\n",
    "- Linear Regression: https://jovian.ml/aakashns/02-linear-regression\n",
    "- Logistic Regression: https://jovian.ml/aakashns/03-logistic-regression\n",
    "- Linear regression (minimal): https://jovian.ml/aakashns/housing-linear-minimal\n",
    "- Logistic regression (minimal): https://jovian.ml/aakashns/mnist-logistic-minimal\n",
    "\n",
    "As you go through this notebook, you will find a **???** in certain places. Your job is to replace the **???** with appropriate code or values, to ensure that the notebook runs properly end-to-end . In some cases, you'll be required to choose some hyperparameters (learning rate, batch size etc.). Try to experiment with the hypeparameters to get the lowest loss.\n"
   ]
  },
  {
   "cell_type": "code",
   "execution_count": 282,
   "metadata": {},
   "outputs": [],
   "source": [
    "# Uncomment and run the commands below if imports fail\n",
    "# !conda install numpy pytorch torchvision cpuonly -c pytorch -y\n",
    "# !pip install matplotlib --upgrade --quiet\n",
    "#!pip install jovian --upgrade --quiet"
   ]
  },
  {
   "cell_type": "code",
   "execution_count": 283,
   "metadata": {},
   "outputs": [
    {
     "output_type": "stream",
     "name": "stdout",
     "text": "d:\\Repos\\PhD\\2020_jovian_deep_learning\\Assignment_02-insurance-linear-regression-v-1\n"
    }
   ],
   "source": [
    "import os\n",
    "cwd = os.getcwd()\n",
    "print(cwd)"
   ]
  },
  {
   "cell_type": "code",
   "execution_count": 284,
   "metadata": {},
   "outputs": [],
   "source": [
    "import torch\n",
    "import jovian\n",
    "import torchvision\n",
    "import torch.nn as nn\n",
    "import pandas as pd\n",
    "import matplotlib.pyplot as plt\n",
    "import torch.nn.functional as F\n",
    "from torchvision.datasets.utils import download_url\n",
    "from torch.utils.data import DataLoader, TensorDataset, random_split"
   ]
  },
  {
   "cell_type": "code",
   "execution_count": 285,
   "metadata": {},
   "outputs": [],
   "source": [
    "project_name='02-insurance-linear-regression' # will be used by jovian.commit"
   ]
  },
  {
   "cell_type": "code",
   "execution_count": 286,
   "metadata": {},
   "outputs": [],
   "source": [
    "CUDA_ENABLED = True"
   ]
  },
  {
   "cell_type": "markdown",
   "metadata": {},
   "source": [
    "## Step 1: Download and explore the data\n",
    "\n",
    "Let us begin by downloading the data. We'll use the `download_url` function from PyTorch to get the data as a CSV (comma-separated values) file. "
   ]
  },
  {
   "cell_type": "code",
   "execution_count": 287,
   "metadata": {
    "_cell_guid": "79c7e3d0-c299-4dcb-8224-4455121ee9b0",
    "_uuid": "d629ff2d2480ee46fbb7e2d37f6b5fab8052498a"
   },
   "outputs": [
    {
     "output_type": "stream",
     "name": "stdout",
     "text": "Using downloaded and verified file: ../datasets/insurance.csv\n"
    }
   ],
   "source": [
    "DATASET_URL = \"https://hub.jovian.ml/wp-content/uploads/2020/05/insurance.csv\"\n",
    "DATA_FILENAME = \"insurance.csv\"\n",
    "PATH = '../datasets/'\n",
    "download_url(DATASET_URL, PATH)"
   ]
  },
  {
   "cell_type": "markdown",
   "metadata": {},
   "source": [
    "To load the dataset into memory, we'll use the `read_csv` function from the `pandas` library. The data will be loaded as a Pandas dataframe. See this short tutorial to learn more: https://data36.com/pandas-tutorial-1-basics-reading-data-files-dataframes-data-selection/"
   ]
  },
  {
   "cell_type": "code",
   "execution_count": 288,
   "metadata": {},
   "outputs": [
    {
     "output_type": "execute_result",
     "data": {
      "text/plain": "   age     sex     bmi  children smoker     region      charges\n0   19  female  27.900         0    yes  southwest  16884.92400\n1   18    male  33.770         1     no  southeast   1725.55230\n2   28    male  33.000         3     no  southeast   4449.46200\n3   33    male  22.705         0     no  northwest  21984.47061\n4   32    male  28.880         0     no  northwest   3866.85520",
      "text/html": "<div>\n<style scoped>\n    .dataframe tbody tr th:only-of-type {\n        vertical-align: middle;\n    }\n\n    .dataframe tbody tr th {\n        vertical-align: top;\n    }\n\n    .dataframe thead th {\n        text-align: right;\n    }\n</style>\n<table border=\"1\" class=\"dataframe\">\n  <thead>\n    <tr style=\"text-align: right;\">\n      <th></th>\n      <th>age</th>\n      <th>sex</th>\n      <th>bmi</th>\n      <th>children</th>\n      <th>smoker</th>\n      <th>region</th>\n      <th>charges</th>\n    </tr>\n  </thead>\n  <tbody>\n    <tr>\n      <th>0</th>\n      <td>19</td>\n      <td>female</td>\n      <td>27.900</td>\n      <td>0</td>\n      <td>yes</td>\n      <td>southwest</td>\n      <td>16884.92400</td>\n    </tr>\n    <tr>\n      <th>1</th>\n      <td>18</td>\n      <td>male</td>\n      <td>33.770</td>\n      <td>1</td>\n      <td>no</td>\n      <td>southeast</td>\n      <td>1725.55230</td>\n    </tr>\n    <tr>\n      <th>2</th>\n      <td>28</td>\n      <td>male</td>\n      <td>33.000</td>\n      <td>3</td>\n      <td>no</td>\n      <td>southeast</td>\n      <td>4449.46200</td>\n    </tr>\n    <tr>\n      <th>3</th>\n      <td>33</td>\n      <td>male</td>\n      <td>22.705</td>\n      <td>0</td>\n      <td>no</td>\n      <td>northwest</td>\n      <td>21984.47061</td>\n    </tr>\n    <tr>\n      <th>4</th>\n      <td>32</td>\n      <td>male</td>\n      <td>28.880</td>\n      <td>0</td>\n      <td>no</td>\n      <td>northwest</td>\n      <td>3866.85520</td>\n    </tr>\n  </tbody>\n</table>\n</div>"
     },
     "metadata": {},
     "execution_count": 288
    }
   ],
   "source": [
    "dataframe_raw = pd.read_csv(PATH + DATA_FILENAME)\n",
    "dataframe_raw.head()"
   ]
  },
  {
   "cell_type": "markdown",
   "metadata": {},
   "source": [
    "We're going to do a slight customization of the data, so that you every participant receives a slightly different version of the dataset. Fill in your name below as a string (enter at least 5 characters)"
   ]
  },
  {
   "cell_type": "code",
   "execution_count": 289,
   "metadata": {},
   "outputs": [],
   "source": [
    "your_name = 'Leandro' # at least 5 characters"
   ]
  },
  {
   "cell_type": "markdown",
   "metadata": {},
   "source": [
    "The `customize_dataset` function will customize the dataset slightly using your name as a source of random numbers."
   ]
  },
  {
   "cell_type": "code",
   "execution_count": 290,
   "metadata": {},
   "outputs": [],
   "source": [
    "def customize_dataset(dataframe_raw, rand_str):\n",
    "    dataframe = dataframe_raw.copy(deep=True)\n",
    "    # drop some rows\n",
    "    dataframe = dataframe.sample(int(0.95*len(dataframe)), random_state=int(ord(rand_str[0])))\n",
    "    # scale input\n",
    "    dataframe.bmi = dataframe.bmi * ord(rand_str[1])/100.\n",
    "    # scale target\n",
    "    dataframe.charges = dataframe.charges * ord(rand_str[2])/100.\n",
    "    # drop column\n",
    "    if ord(rand_str[3]) % 2 == 1:\n",
    "        dataframe = dataframe.drop(['region'], axis=1)\n",
    "    return dataframe"
   ]
  },
  {
   "cell_type": "code",
   "execution_count": 291,
   "metadata": {},
   "outputs": [
    {
     "output_type": "execute_result",
     "data": {
      "text/plain": "      age     sex       bmi  children smoker     region       charges\n515    58    male  36.05700         0     no  southwest  11021.872350\n412    26  female  17.36695         2    yes  northeast  14021.974728\n1076   47  female  32.32000         1     no  southwest   8294.806590\n976    48    male  40.55150         0     no  southeast   7570.035685\n1210   36    male  31.18375         1     no  northwest   5212.163322",
      "text/html": "<div>\n<style scoped>\n    .dataframe tbody tr th:only-of-type {\n        vertical-align: middle;\n    }\n\n    .dataframe tbody tr th {\n        vertical-align: top;\n    }\n\n    .dataframe thead th {\n        text-align: right;\n    }\n</style>\n<table border=\"1\" class=\"dataframe\">\n  <thead>\n    <tr style=\"text-align: right;\">\n      <th></th>\n      <th>age</th>\n      <th>sex</th>\n      <th>bmi</th>\n      <th>children</th>\n      <th>smoker</th>\n      <th>region</th>\n      <th>charges</th>\n    </tr>\n  </thead>\n  <tbody>\n    <tr>\n      <th>515</th>\n      <td>58</td>\n      <td>male</td>\n      <td>36.05700</td>\n      <td>0</td>\n      <td>no</td>\n      <td>southwest</td>\n      <td>11021.872350</td>\n    </tr>\n    <tr>\n      <th>412</th>\n      <td>26</td>\n      <td>female</td>\n      <td>17.36695</td>\n      <td>2</td>\n      <td>yes</td>\n      <td>northeast</td>\n      <td>14021.974728</td>\n    </tr>\n    <tr>\n      <th>1076</th>\n      <td>47</td>\n      <td>female</td>\n      <td>32.32000</td>\n      <td>1</td>\n      <td>no</td>\n      <td>southwest</td>\n      <td>8294.806590</td>\n    </tr>\n    <tr>\n      <th>976</th>\n      <td>48</td>\n      <td>male</td>\n      <td>40.55150</td>\n      <td>0</td>\n      <td>no</td>\n      <td>southeast</td>\n      <td>7570.035685</td>\n    </tr>\n    <tr>\n      <th>1210</th>\n      <td>36</td>\n      <td>male</td>\n      <td>31.18375</td>\n      <td>1</td>\n      <td>no</td>\n      <td>northwest</td>\n      <td>5212.163322</td>\n    </tr>\n  </tbody>\n</table>\n</div>"
     },
     "metadata": {},
     "execution_count": 291
    }
   ],
   "source": [
    "dataframe = customize_dataset(dataframe_raw, your_name)\n",
    "dataframe.head()"
   ]
  },
  {
   "cell_type": "markdown",
   "metadata": {},
   "source": [
    "Let us answer some basic questions about the dataset. \n",
    "\n",
    "\n",
    "**Q: How many rows does the dataset have?**"
   ]
  },
  {
   "cell_type": "code",
   "execution_count": 292,
   "metadata": {},
   "outputs": [
    {
     "output_type": "stream",
     "name": "stdout",
     "text": "1271\n"
    }
   ],
   "source": [
    "num_rows = len(dataframe)\n",
    "print(num_rows)"
   ]
  },
  {
   "cell_type": "markdown",
   "metadata": {},
   "source": [
    "**Q: How many columns doe the dataset have**"
   ]
  },
  {
   "cell_type": "code",
   "execution_count": 293,
   "metadata": {},
   "outputs": [
    {
     "output_type": "stream",
     "name": "stdout",
     "text": "7\n"
    }
   ],
   "source": [
    "(_, num_cols) = dataframe.shape\n",
    "print(num_cols)"
   ]
  },
  {
   "cell_type": "markdown",
   "metadata": {},
   "source": [
    "**Q: What are the column titles of the input variables?**"
   ]
  },
  {
   "cell_type": "code",
   "execution_count": 294,
   "metadata": {},
   "outputs": [],
   "source": [
    "N_outputs = 1   # last N columns defined as outputs\n",
    "input_cols = [column for column in list(dataframe.columns)[:-N_outputs]]"
   ]
  },
  {
   "cell_type": "markdown",
   "metadata": {},
   "source": [
    "**Q: Which of the input columns are non-numeric or categorial variables ?**\n",
    "\n",
    "Hint: `sex` is one of them. List the columns that are not numbers."
   ]
  },
  {
   "cell_type": "code",
   "execution_count": 295,
   "metadata": {},
   "outputs": [
    {
     "output_type": "stream",
     "name": "stdout",
     "text": "['age', 'sex', 'bmi', 'children', 'smoker', 'region']\n"
    }
   ],
   "source": [
    "print(input_cols)"
   ]
  },
  {
   "cell_type": "code",
   "execution_count": 296,
   "metadata": {},
   "outputs": [
    {
     "output_type": "stream",
     "name": "stdout",
     "text": "Index(['age', 'bmi', 'children', 'charges'], dtype='object')\n"
    }
   ],
   "source": [
    "# numeric columns\n",
    "num_cols = dataframe._get_numeric_data().columns\n",
    "print(num_cols)"
   ]
  },
  {
   "cell_type": "code",
   "execution_count": 297,
   "metadata": {},
   "outputs": [
    {
     "output_type": "stream",
     "name": "stdout",
     "text": "['sex', 'smoker', 'region']\n"
    }
   ],
   "source": [
    "categorical_cols = [column for column in input_cols if not(column in num_cols)]\n",
    "print(categorical_cols)"
   ]
  },
  {
   "cell_type": "markdown",
   "metadata": {},
   "source": [
    "**Q: What are the column titles of output/target variable(s)?**"
   ]
  },
  {
   "cell_type": "code",
   "execution_count": 298,
   "metadata": {},
   "outputs": [
    {
     "output_type": "stream",
     "name": "stdout",
     "text": "['charges']\n"
    }
   ],
   "source": [
    "output_cols = [column for column in list(dataframe.columns)[-N_outputs:]]\n",
    "print(output_cols)"
   ]
  },
  {
   "cell_type": "markdown",
   "metadata": {},
   "source": [
    "**Q: (Optional) What is the minimum, maximum and average value of the `charges` column? Can you show the distribution of values in a graph?**\n",
    "Use this data visualization cheatsheet for referece: https://jovian.ml/aakashns/dataviz-cheatsheet"
   ]
  },
  {
   "cell_type": "code",
   "execution_count": 299,
   "metadata": {},
   "outputs": [
    {
     "output_type": "stream",
     "name": "stdout",
     "text": "max value:  [61857.3151697]\nmin value:  [1088.217683]\navg value:  [12823.24345788]\n"
    }
   ],
   "source": [
    "# Write your answer here\n",
    "max_value = max(dataframe[output_cols].values)\n",
    "min_value = min(dataframe[output_cols].values)\n",
    "avg_value = sum(dataframe[output_cols].values) / len(dataframe[output_cols].values)\n",
    "\n",
    "print(\"max value: \",  max_value)\n",
    "print(\"min value: \",  min_value)\n",
    "print(\"avg value: \",  avg_value)"
   ]
  },
  {
   "cell_type": "code",
   "execution_count": 300,
   "metadata": {},
   "outputs": [
    {
     "output_type": "execute_result",
     "data": {
      "text/plain": "<matplotlib.axes._subplots.AxesSubplot at 0x1de0499deb8>"
     },
     "metadata": {},
     "execution_count": 300
    },
    {
     "output_type": "display_data",
     "data": {
      "text/plain": "<Figure size 432x288 with 1 Axes>",
      "image/svg+xml": "<?xml version=\"1.0\" encoding=\"utf-8\" standalone=\"no\"?>\r\n<!DOCTYPE svg PUBLIC \"-//W3C//DTD SVG 1.1//EN\"\r\n  \"http://www.w3.org/Graphics/SVG/1.1/DTD/svg11.dtd\">\r\n<!-- Created with matplotlib (https://matplotlib.org/) -->\r\n<svg height=\"263.63625pt\" version=\"1.1\" viewBox=\"0 0 397.553125 263.63625\" width=\"397.553125pt\" xmlns=\"http://www.w3.org/2000/svg\" xmlns:xlink=\"http://www.w3.org/1999/xlink\">\r\n <defs>\r\n  <style type=\"text/css\">\r\n*{stroke-linecap:butt;stroke-linejoin:round;}\r\n  </style>\r\n </defs>\r\n <g id=\"figure_1\">\r\n  <g id=\"patch_1\">\r\n   <path d=\"M 0 263.63625 \r\nL 397.553125 263.63625 \r\nL 397.553125 0 \r\nL 0 0 \r\nz\r\n\" style=\"fill:none;\"/>\r\n  </g>\r\n  <g id=\"axes_1\">\r\n   <g id=\"patch_2\">\r\n    <path d=\"M 55.553125 239.758125 \r\nL 390.353125 239.758125 \r\nL 390.353125 22.318125 \r\nL 55.553125 22.318125 \r\nz\r\n\" style=\"fill:#ffffff;\"/>\r\n   </g>\r\n   <g id=\"patch_3\">\r\n    <path clip-path=\"url(#p45e1eae630)\" d=\"M 103.799952 239.758125 \r\nL 112.017413 239.758125 \r\nL 112.017413 32.672411 \r\nL 103.799952 32.672411 \r\nz\r\n\" style=\"fill:#1f77b4;opacity:0.4;\"/>\r\n   </g>\r\n   <g id=\"patch_4\">\r\n    <path clip-path=\"url(#p45e1eae630)\" d=\"M 112.017413 239.758125 \r\nL 120.234873 239.758125 \r\nL 120.234873 67.186696 \r\nL 112.017413 67.186696 \r\nz\r\n\" style=\"fill:#1f77b4;opacity:0.4;\"/>\r\n   </g>\r\n   <g id=\"patch_5\">\r\n    <path clip-path=\"url(#p45e1eae630)\" d=\"M 120.234873 239.758125 \r\nL 128.452333 239.758125 \r\nL 128.452333 104.659349 \r\nL 120.234873 104.659349 \r\nz\r\n\" style=\"fill:#1f77b4;opacity:0.4;\"/>\r\n   </g>\r\n   <g id=\"patch_6\">\r\n    <path clip-path=\"url(#p45e1eae630)\" d=\"M 128.452333 239.758125 \r\nL 136.669793 239.758125 \r\nL 136.669793 105.645472 \r\nL 128.452333 105.645472 \r\nz\r\n\" style=\"fill:#1f77b4;opacity:0.4;\"/>\r\n   </g>\r\n   <g id=\"patch_7\">\r\n    <path clip-path=\"url(#p45e1eae630)\" d=\"M 136.669793 239.758125 \r\nL 144.887253 239.758125 \r\nL 144.887253 100.71486 \r\nL 136.669793 100.71486 \r\nz\r\n\" style=\"fill:#1f77b4;opacity:0.4;\"/>\r\n   </g>\r\n   <g id=\"patch_8\">\r\n    <path clip-path=\"url(#p45e1eae630)\" d=\"M 144.887253 239.758125 \r\nL 153.104713 239.758125 \r\nL 153.104713 136.215268 \r\nL 144.887253 136.215268 \r\nz\r\n\" style=\"fill:#1f77b4;opacity:0.4;\"/>\r\n   </g>\r\n   <g id=\"patch_9\">\r\n    <path clip-path=\"url(#p45e1eae630)\" d=\"M 153.104713 239.758125 \r\nL 161.322174 239.758125 \r\nL 161.322174 197.35486 \r\nL 153.104713 197.35486 \r\nz\r\n\" style=\"fill:#1f77b4;opacity:0.4;\"/>\r\n   </g>\r\n   <g id=\"patch_10\">\r\n    <path clip-path=\"url(#p45e1eae630)\" d=\"M 161.322174 239.758125 \r\nL 169.539634 239.758125 \r\nL 169.539634 204.257717 \r\nL 161.322174 204.257717 \r\nz\r\n\" style=\"fill:#1f77b4;opacity:0.4;\"/>\r\n   </g>\r\n   <g id=\"patch_11\">\r\n    <path clip-path=\"url(#p45e1eae630)\" d=\"M 169.539634 239.758125 \r\nL 177.757094 239.758125 \r\nL 177.757094 201.299349 \r\nL 169.539634 201.299349 \r\nz\r\n\" style=\"fill:#1f77b4;opacity:0.4;\"/>\r\n   </g>\r\n   <g id=\"patch_12\">\r\n    <path clip-path=\"url(#p45e1eae630)\" d=\"M 177.757094 239.758125 \r\nL 185.974554 239.758125 \r\nL 185.974554 208.202207 \r\nL 177.757094 208.202207 \r\nz\r\n\" style=\"fill:#1f77b4;opacity:0.4;\"/>\r\n   </g>\r\n   <g id=\"patch_13\">\r\n    <path clip-path=\"url(#p45e1eae630)\" d=\"M 185.974554 239.758125 \r\nL 194.192014 239.758125 \r\nL 194.192014 213.132819 \r\nL 185.974554 213.132819 \r\nz\r\n\" style=\"fill:#1f77b4;opacity:0.4;\"/>\r\n   </g>\r\n   <g id=\"patch_14\">\r\n    <path clip-path=\"url(#p45e1eae630)\" d=\"M 194.192014 239.758125 \r\nL 202.409475 239.758125 \r\nL 202.409475 222.007921 \r\nL 194.192014 222.007921 \r\nz\r\n\" style=\"fill:#1f77b4;opacity:0.4;\"/>\r\n   </g>\r\n   <g id=\"patch_15\">\r\n    <path clip-path=\"url(#p45e1eae630)\" d=\"M 202.409475 239.758125 \r\nL 210.626935 239.758125 \r\nL 210.626935 221.021798 \r\nL 202.409475 221.021798 \r\nz\r\n\" style=\"fill:#1f77b4;opacity:0.4;\"/>\r\n   </g>\r\n   <g id=\"patch_16\">\r\n    <path clip-path=\"url(#p45e1eae630)\" d=\"M 210.626935 239.758125 \r\nL 218.844395 239.758125 \r\nL 218.844395 232.855268 \r\nL 210.626935 232.855268 \r\nz\r\n\" style=\"fill:#1f77b4;opacity:0.4;\"/>\r\n   </g>\r\n   <g id=\"patch_17\">\r\n    <path clip-path=\"url(#p45e1eae630)\" d=\"M 218.844395 239.758125 \r\nL 227.061855 239.758125 \r\nL 227.061855 231.869145 \r\nL 218.844395 231.869145 \r\nz\r\n\" style=\"fill:#1f77b4;opacity:0.4;\"/>\r\n   </g>\r\n   <g id=\"patch_18\">\r\n    <path clip-path=\"url(#p45e1eae630)\" d=\"M 227.061855 239.758125 \r\nL 235.279315 239.758125 \r\nL 235.279315 222.007921 \r\nL 227.061855 222.007921 \r\nz\r\n\" style=\"fill:#1f77b4;opacity:0.4;\"/>\r\n   </g>\r\n   <g id=\"patch_19\">\r\n    <path clip-path=\"url(#p45e1eae630)\" d=\"M 235.279315 239.758125 \r\nL 243.496775 239.758125 \r\nL 243.496775 217.077309 \r\nL 235.279315 217.077309 \r\nz\r\n\" style=\"fill:#1f77b4;opacity:0.4;\"/>\r\n   </g>\r\n   <g id=\"patch_20\">\r\n    <path clip-path=\"url(#p45e1eae630)\" d=\"M 243.496775 239.758125 \r\nL 251.714236 239.758125 \r\nL 251.714236 217.077309 \r\nL 243.496775 217.077309 \r\nz\r\n\" style=\"fill:#1f77b4;opacity:0.4;\"/>\r\n   </g>\r\n   <g id=\"patch_21\">\r\n    <path clip-path=\"url(#p45e1eae630)\" d=\"M 251.714236 239.758125 \r\nL 259.931696 239.758125 \r\nL 259.931696 221.021798 \r\nL 251.714236 221.021798 \r\nz\r\n\" style=\"fill:#1f77b4;opacity:0.4;\"/>\r\n   </g>\r\n   <g id=\"patch_22\">\r\n    <path clip-path=\"url(#p45e1eae630)\" d=\"M 259.931696 239.758125 \r\nL 268.149156 239.758125 \r\nL 268.149156 225.952411 \r\nL 259.931696 225.952411 \r\nz\r\n\" style=\"fill:#1f77b4;opacity:0.4;\"/>\r\n   </g>\r\n   <g id=\"patch_23\">\r\n    <path clip-path=\"url(#p45e1eae630)\" d=\"M 268.149156 239.758125 \r\nL 276.366616 239.758125 \r\nL 276.366616 226.938533 \r\nL 268.149156 226.938533 \r\nz\r\n\" style=\"fill:#1f77b4;opacity:0.4;\"/>\r\n   </g>\r\n   <g id=\"patch_24\">\r\n    <path clip-path=\"url(#p45e1eae630)\" d=\"M 276.366616 239.758125 \r\nL 284.584076 239.758125 \r\nL 284.584076 224.966288 \r\nL 276.366616 224.966288 \r\nz\r\n\" style=\"fill:#1f77b4;opacity:0.4;\"/>\r\n   </g>\r\n   <g id=\"patch_25\">\r\n    <path clip-path=\"url(#p45e1eae630)\" d=\"M 284.584076 239.758125 \r\nL 292.801537 239.758125 \r\nL 292.801537 233.84139 \r\nL 284.584076 233.84139 \r\nz\r\n\" style=\"fill:#1f77b4;opacity:0.4;\"/>\r\n   </g>\r\n   <g id=\"patch_26\">\r\n    <path clip-path=\"url(#p45e1eae630)\" d=\"M 292.801537 239.758125 \r\nL 301.018997 239.758125 \r\nL 301.018997 237.78588 \r\nL 292.801537 237.78588 \r\nz\r\n\" style=\"fill:#1f77b4;opacity:0.4;\"/>\r\n   </g>\r\n   <g id=\"patch_27\">\r\n    <path clip-path=\"url(#p45e1eae630)\" d=\"M 301.018997 239.758125 \r\nL 309.236457 239.758125 \r\nL 309.236457 239.758125 \r\nL 301.018997 239.758125 \r\nz\r\n\" style=\"fill:#1f77b4;opacity:0.4;\"/>\r\n   </g>\r\n   <g id=\"patch_28\">\r\n    <path clip-path=\"url(#p45e1eae630)\" d=\"M 309.236457 239.758125 \r\nL 317.453917 239.758125 \r\nL 317.453917 238.772003 \r\nL 309.236457 238.772003 \r\nz\r\n\" style=\"fill:#1f77b4;opacity:0.4;\"/>\r\n   </g>\r\n   <g id=\"patch_29\">\r\n    <path clip-path=\"url(#p45e1eae630)\" d=\"M 317.453917 239.758125 \r\nL 325.671377 239.758125 \r\nL 325.671377 238.772003 \r\nL 317.453917 238.772003 \r\nz\r\n\" style=\"fill:#1f77b4;opacity:0.4;\"/>\r\n   </g>\r\n   <g id=\"patch_30\">\r\n    <path clip-path=\"url(#p45e1eae630)\" d=\"M 325.671377 239.758125 \r\nL 333.888837 239.758125 \r\nL 333.888837 238.772003 \r\nL 325.671377 238.772003 \r\nz\r\n\" style=\"fill:#1f77b4;opacity:0.4;\"/>\r\n   </g>\r\n   <g id=\"patch_31\">\r\n    <path clip-path=\"url(#p45e1eae630)\" d=\"M 333.888837 239.758125 \r\nL 342.106298 239.758125 \r\nL 342.106298 237.78588 \r\nL 333.888837 237.78588 \r\nz\r\n\" style=\"fill:#1f77b4;opacity:0.4;\"/>\r\n   </g>\r\n   <g id=\"matplotlib.axis_1\">\r\n    <g id=\"xtick_1\">\r\n     <g id=\"line2d_1\">\r\n      <defs>\r\n       <path d=\"M 0 0 \r\nL 0 3.5 \r\n\" id=\"m4463d14657\" style=\"stroke:#000000;stroke-width:0.8;\"/>\r\n      </defs>\r\n      <g>\r\n       <use style=\"stroke:#000000;stroke-width:0.8;\" x=\"60.317447\" xlink:href=\"#m4463d14657\" y=\"239.758125\"/>\r\n      </g>\r\n     </g>\r\n     <g id=\"text_1\">\r\n      <!-- −10000 -->\r\n      <defs>\r\n       <path d=\"M 10.59375 35.5 \r\nL 73.1875 35.5 \r\nL 73.1875 27.203125 \r\nL 10.59375 27.203125 \r\nz\r\n\" id=\"DejaVuSans-8722\"/>\r\n       <path d=\"M 12.40625 8.296875 \r\nL 28.515625 8.296875 \r\nL 28.515625 63.921875 \r\nL 10.984375 60.40625 \r\nL 10.984375 69.390625 \r\nL 28.421875 72.90625 \r\nL 38.28125 72.90625 \r\nL 38.28125 8.296875 \r\nL 54.390625 8.296875 \r\nL 54.390625 0 \r\nL 12.40625 0 \r\nz\r\n\" id=\"DejaVuSans-49\"/>\r\n       <path d=\"M 31.78125 66.40625 \r\nQ 24.171875 66.40625 20.328125 58.90625 \r\nQ 16.5 51.421875 16.5 36.375 \r\nQ 16.5 21.390625 20.328125 13.890625 \r\nQ 24.171875 6.390625 31.78125 6.390625 \r\nQ 39.453125 6.390625 43.28125 13.890625 \r\nQ 47.125 21.390625 47.125 36.375 \r\nQ 47.125 51.421875 43.28125 58.90625 \r\nQ 39.453125 66.40625 31.78125 66.40625 \r\nz\r\nM 31.78125 74.21875 \r\nQ 44.046875 74.21875 50.515625 64.515625 \r\nQ 56.984375 54.828125 56.984375 36.375 \r\nQ 56.984375 17.96875 50.515625 8.265625 \r\nQ 44.046875 -1.421875 31.78125 -1.421875 \r\nQ 19.53125 -1.421875 13.0625 8.265625 \r\nQ 6.59375 17.96875 6.59375 36.375 \r\nQ 6.59375 54.828125 13.0625 64.515625 \r\nQ 19.53125 74.21875 31.78125 74.21875 \r\nz\r\n\" id=\"DejaVuSans-48\"/>\r\n      </defs>\r\n      <g transform=\"translate(40.221353 254.356563)scale(0.1 -0.1)\">\r\n       <use xlink:href=\"#DejaVuSans-8722\"/>\r\n       <use x=\"83.789062\" xlink:href=\"#DejaVuSans-49\"/>\r\n       <use x=\"147.412109\" xlink:href=\"#DejaVuSans-48\"/>\r\n       <use x=\"211.035156\" xlink:href=\"#DejaVuSans-48\"/>\r\n       <use x=\"274.658203\" xlink:href=\"#DejaVuSans-48\"/>\r\n       <use x=\"338.28125\" xlink:href=\"#DejaVuSans-48\"/>\r\n      </g>\r\n     </g>\r\n    </g>\r\n    <g id=\"xtick_2\">\r\n     <g id=\"line2d_2\">\r\n      <g>\r\n       <use style=\"stroke:#000000;stroke-width:0.8;\" x=\"99.532501\" xlink:href=\"#m4463d14657\" y=\"239.758125\"/>\r\n      </g>\r\n     </g>\r\n     <g id=\"text_2\">\r\n      <!-- 0 -->\r\n      <g transform=\"translate(96.351251 254.356563)scale(0.1 -0.1)\">\r\n       <use xlink:href=\"#DejaVuSans-48\"/>\r\n      </g>\r\n     </g>\r\n    </g>\r\n    <g id=\"xtick_3\">\r\n     <g id=\"line2d_3\">\r\n      <g>\r\n       <use style=\"stroke:#000000;stroke-width:0.8;\" x=\"138.747555\" xlink:href=\"#m4463d14657\" y=\"239.758125\"/>\r\n      </g>\r\n     </g>\r\n     <g id=\"text_3\">\r\n      <!-- 10000 -->\r\n      <g transform=\"translate(122.841305 254.356563)scale(0.1 -0.1)\">\r\n       <use xlink:href=\"#DejaVuSans-49\"/>\r\n       <use x=\"63.623047\" xlink:href=\"#DejaVuSans-48\"/>\r\n       <use x=\"127.246094\" xlink:href=\"#DejaVuSans-48\"/>\r\n       <use x=\"190.869141\" xlink:href=\"#DejaVuSans-48\"/>\r\n       <use x=\"254.492188\" xlink:href=\"#DejaVuSans-48\"/>\r\n      </g>\r\n     </g>\r\n    </g>\r\n    <g id=\"xtick_4\">\r\n     <g id=\"line2d_4\">\r\n      <g>\r\n       <use style=\"stroke:#000000;stroke-width:0.8;\" x=\"177.962609\" xlink:href=\"#m4463d14657\" y=\"239.758125\"/>\r\n      </g>\r\n     </g>\r\n     <g id=\"text_4\">\r\n      <!-- 20000 -->\r\n      <defs>\r\n       <path d=\"M 19.1875 8.296875 \r\nL 53.609375 8.296875 \r\nL 53.609375 0 \r\nL 7.328125 0 \r\nL 7.328125 8.296875 \r\nQ 12.9375 14.109375 22.625 23.890625 \r\nQ 32.328125 33.6875 34.8125 36.53125 \r\nQ 39.546875 41.84375 41.421875 45.53125 \r\nQ 43.3125 49.21875 43.3125 52.78125 \r\nQ 43.3125 58.59375 39.234375 62.25 \r\nQ 35.15625 65.921875 28.609375 65.921875 \r\nQ 23.96875 65.921875 18.8125 64.3125 \r\nQ 13.671875 62.703125 7.8125 59.421875 \r\nL 7.8125 69.390625 \r\nQ 13.765625 71.78125 18.9375 73 \r\nQ 24.125 74.21875 28.421875 74.21875 \r\nQ 39.75 74.21875 46.484375 68.546875 \r\nQ 53.21875 62.890625 53.21875 53.421875 \r\nQ 53.21875 48.921875 51.53125 44.890625 \r\nQ 49.859375 40.875 45.40625 35.40625 \r\nQ 44.1875 33.984375 37.640625 27.21875 \r\nQ 31.109375 20.453125 19.1875 8.296875 \r\nz\r\n\" id=\"DejaVuSans-50\"/>\r\n      </defs>\r\n      <g transform=\"translate(162.056359 254.356563)scale(0.1 -0.1)\">\r\n       <use xlink:href=\"#DejaVuSans-50\"/>\r\n       <use x=\"63.623047\" xlink:href=\"#DejaVuSans-48\"/>\r\n       <use x=\"127.246094\" xlink:href=\"#DejaVuSans-48\"/>\r\n       <use x=\"190.869141\" xlink:href=\"#DejaVuSans-48\"/>\r\n       <use x=\"254.492188\" xlink:href=\"#DejaVuSans-48\"/>\r\n      </g>\r\n     </g>\r\n    </g>\r\n    <g id=\"xtick_5\">\r\n     <g id=\"line2d_5\">\r\n      <g>\r\n       <use style=\"stroke:#000000;stroke-width:0.8;\" x=\"217.177663\" xlink:href=\"#m4463d14657\" y=\"239.758125\"/>\r\n      </g>\r\n     </g>\r\n     <g id=\"text_5\">\r\n      <!-- 30000 -->\r\n      <defs>\r\n       <path d=\"M 40.578125 39.3125 \r\nQ 47.65625 37.796875 51.625 33 \r\nQ 55.609375 28.21875 55.609375 21.1875 \r\nQ 55.609375 10.40625 48.1875 4.484375 \r\nQ 40.765625 -1.421875 27.09375 -1.421875 \r\nQ 22.515625 -1.421875 17.65625 -0.515625 \r\nQ 12.796875 0.390625 7.625 2.203125 \r\nL 7.625 11.71875 \r\nQ 11.71875 9.328125 16.59375 8.109375 \r\nQ 21.484375 6.890625 26.8125 6.890625 \r\nQ 36.078125 6.890625 40.9375 10.546875 \r\nQ 45.796875 14.203125 45.796875 21.1875 \r\nQ 45.796875 27.640625 41.28125 31.265625 \r\nQ 36.765625 34.90625 28.71875 34.90625 \r\nL 20.21875 34.90625 \r\nL 20.21875 43.015625 \r\nL 29.109375 43.015625 \r\nQ 36.375 43.015625 40.234375 45.921875 \r\nQ 44.09375 48.828125 44.09375 54.296875 \r\nQ 44.09375 59.90625 40.109375 62.90625 \r\nQ 36.140625 65.921875 28.71875 65.921875 \r\nQ 24.65625 65.921875 20.015625 65.03125 \r\nQ 15.375 64.15625 9.8125 62.3125 \r\nL 9.8125 71.09375 \r\nQ 15.4375 72.65625 20.34375 73.4375 \r\nQ 25.25 74.21875 29.59375 74.21875 \r\nQ 40.828125 74.21875 47.359375 69.109375 \r\nQ 53.90625 64.015625 53.90625 55.328125 \r\nQ 53.90625 49.265625 50.4375 45.09375 \r\nQ 46.96875 40.921875 40.578125 39.3125 \r\nz\r\n\" id=\"DejaVuSans-51\"/>\r\n      </defs>\r\n      <g transform=\"translate(201.271413 254.356563)scale(0.1 -0.1)\">\r\n       <use xlink:href=\"#DejaVuSans-51\"/>\r\n       <use x=\"63.623047\" xlink:href=\"#DejaVuSans-48\"/>\r\n       <use x=\"127.246094\" xlink:href=\"#DejaVuSans-48\"/>\r\n       <use x=\"190.869141\" xlink:href=\"#DejaVuSans-48\"/>\r\n       <use x=\"254.492188\" xlink:href=\"#DejaVuSans-48\"/>\r\n      </g>\r\n     </g>\r\n    </g>\r\n    <g id=\"xtick_6\">\r\n     <g id=\"line2d_6\">\r\n      <g>\r\n       <use style=\"stroke:#000000;stroke-width:0.8;\" x=\"256.392718\" xlink:href=\"#m4463d14657\" y=\"239.758125\"/>\r\n      </g>\r\n     </g>\r\n     <g id=\"text_6\">\r\n      <!-- 40000 -->\r\n      <defs>\r\n       <path d=\"M 37.796875 64.3125 \r\nL 12.890625 25.390625 \r\nL 37.796875 25.390625 \r\nz\r\nM 35.203125 72.90625 \r\nL 47.609375 72.90625 \r\nL 47.609375 25.390625 \r\nL 58.015625 25.390625 \r\nL 58.015625 17.1875 \r\nL 47.609375 17.1875 \r\nL 47.609375 0 \r\nL 37.796875 0 \r\nL 37.796875 17.1875 \r\nL 4.890625 17.1875 \r\nL 4.890625 26.703125 \r\nz\r\n\" id=\"DejaVuSans-52\"/>\r\n      </defs>\r\n      <g transform=\"translate(240.486468 254.356563)scale(0.1 -0.1)\">\r\n       <use xlink:href=\"#DejaVuSans-52\"/>\r\n       <use x=\"63.623047\" xlink:href=\"#DejaVuSans-48\"/>\r\n       <use x=\"127.246094\" xlink:href=\"#DejaVuSans-48\"/>\r\n       <use x=\"190.869141\" xlink:href=\"#DejaVuSans-48\"/>\r\n       <use x=\"254.492188\" xlink:href=\"#DejaVuSans-48\"/>\r\n      </g>\r\n     </g>\r\n    </g>\r\n    <g id=\"xtick_7\">\r\n     <g id=\"line2d_7\">\r\n      <g>\r\n       <use style=\"stroke:#000000;stroke-width:0.8;\" x=\"295.607772\" xlink:href=\"#m4463d14657\" y=\"239.758125\"/>\r\n      </g>\r\n     </g>\r\n     <g id=\"text_7\">\r\n      <!-- 50000 -->\r\n      <defs>\r\n       <path d=\"M 10.796875 72.90625 \r\nL 49.515625 72.90625 \r\nL 49.515625 64.59375 \r\nL 19.828125 64.59375 \r\nL 19.828125 46.734375 \r\nQ 21.96875 47.46875 24.109375 47.828125 \r\nQ 26.265625 48.1875 28.421875 48.1875 \r\nQ 40.625 48.1875 47.75 41.5 \r\nQ 54.890625 34.8125 54.890625 23.390625 \r\nQ 54.890625 11.625 47.5625 5.09375 \r\nQ 40.234375 -1.421875 26.90625 -1.421875 \r\nQ 22.3125 -1.421875 17.546875 -0.640625 \r\nQ 12.796875 0.140625 7.71875 1.703125 \r\nL 7.71875 11.625 \r\nQ 12.109375 9.234375 16.796875 8.0625 \r\nQ 21.484375 6.890625 26.703125 6.890625 \r\nQ 35.15625 6.890625 40.078125 11.328125 \r\nQ 45.015625 15.765625 45.015625 23.390625 \r\nQ 45.015625 31 40.078125 35.4375 \r\nQ 35.15625 39.890625 26.703125 39.890625 \r\nQ 22.75 39.890625 18.8125 39.015625 \r\nQ 14.890625 38.140625 10.796875 36.28125 \r\nz\r\n\" id=\"DejaVuSans-53\"/>\r\n      </defs>\r\n      <g transform=\"translate(279.701522 254.356563)scale(0.1 -0.1)\">\r\n       <use xlink:href=\"#DejaVuSans-53\"/>\r\n       <use x=\"63.623047\" xlink:href=\"#DejaVuSans-48\"/>\r\n       <use x=\"127.246094\" xlink:href=\"#DejaVuSans-48\"/>\r\n       <use x=\"190.869141\" xlink:href=\"#DejaVuSans-48\"/>\r\n       <use x=\"254.492188\" xlink:href=\"#DejaVuSans-48\"/>\r\n      </g>\r\n     </g>\r\n    </g>\r\n    <g id=\"xtick_8\">\r\n     <g id=\"line2d_8\">\r\n      <g>\r\n       <use style=\"stroke:#000000;stroke-width:0.8;\" x=\"334.822826\" xlink:href=\"#m4463d14657\" y=\"239.758125\"/>\r\n      </g>\r\n     </g>\r\n     <g id=\"text_8\">\r\n      <!-- 60000 -->\r\n      <defs>\r\n       <path d=\"M 33.015625 40.375 \r\nQ 26.375 40.375 22.484375 35.828125 \r\nQ 18.609375 31.296875 18.609375 23.390625 \r\nQ 18.609375 15.53125 22.484375 10.953125 \r\nQ 26.375 6.390625 33.015625 6.390625 \r\nQ 39.65625 6.390625 43.53125 10.953125 \r\nQ 47.40625 15.53125 47.40625 23.390625 \r\nQ 47.40625 31.296875 43.53125 35.828125 \r\nQ 39.65625 40.375 33.015625 40.375 \r\nz\r\nM 52.59375 71.296875 \r\nL 52.59375 62.3125 \r\nQ 48.875 64.0625 45.09375 64.984375 \r\nQ 41.3125 65.921875 37.59375 65.921875 \r\nQ 27.828125 65.921875 22.671875 59.328125 \r\nQ 17.53125 52.734375 16.796875 39.40625 \r\nQ 19.671875 43.65625 24.015625 45.921875 \r\nQ 28.375 48.1875 33.59375 48.1875 \r\nQ 44.578125 48.1875 50.953125 41.515625 \r\nQ 57.328125 34.859375 57.328125 23.390625 \r\nQ 57.328125 12.15625 50.6875 5.359375 \r\nQ 44.046875 -1.421875 33.015625 -1.421875 \r\nQ 20.359375 -1.421875 13.671875 8.265625 \r\nQ 6.984375 17.96875 6.984375 36.375 \r\nQ 6.984375 53.65625 15.1875 63.9375 \r\nQ 23.390625 74.21875 37.203125 74.21875 \r\nQ 40.921875 74.21875 44.703125 73.484375 \r\nQ 48.484375 72.75 52.59375 71.296875 \r\nz\r\n\" id=\"DejaVuSans-54\"/>\r\n      </defs>\r\n      <g transform=\"translate(318.916576 254.356563)scale(0.1 -0.1)\">\r\n       <use xlink:href=\"#DejaVuSans-54\"/>\r\n       <use x=\"63.623047\" xlink:href=\"#DejaVuSans-48\"/>\r\n       <use x=\"127.246094\" xlink:href=\"#DejaVuSans-48\"/>\r\n       <use x=\"190.869141\" xlink:href=\"#DejaVuSans-48\"/>\r\n       <use x=\"254.492188\" xlink:href=\"#DejaVuSans-48\"/>\r\n      </g>\r\n     </g>\r\n    </g>\r\n    <g id=\"xtick_9\">\r\n     <g id=\"line2d_9\">\r\n      <g>\r\n       <use style=\"stroke:#000000;stroke-width:0.8;\" x=\"374.03788\" xlink:href=\"#m4463d14657\" y=\"239.758125\"/>\r\n      </g>\r\n     </g>\r\n     <g id=\"text_9\">\r\n      <!-- 70000 -->\r\n      <defs>\r\n       <path d=\"M 8.203125 72.90625 \r\nL 55.078125 72.90625 \r\nL 55.078125 68.703125 \r\nL 28.609375 0 \r\nL 18.3125 0 \r\nL 43.21875 64.59375 \r\nL 8.203125 64.59375 \r\nz\r\n\" id=\"DejaVuSans-55\"/>\r\n      </defs>\r\n      <g transform=\"translate(358.13163 254.356563)scale(0.1 -0.1)\">\r\n       <use xlink:href=\"#DejaVuSans-55\"/>\r\n       <use x=\"63.623047\" xlink:href=\"#DejaVuSans-48\"/>\r\n       <use x=\"127.246094\" xlink:href=\"#DejaVuSans-48\"/>\r\n       <use x=\"190.869141\" xlink:href=\"#DejaVuSans-48\"/>\r\n       <use x=\"254.492188\" xlink:href=\"#DejaVuSans-48\"/>\r\n      </g>\r\n     </g>\r\n    </g>\r\n   </g>\r\n   <g id=\"matplotlib.axis_2\">\r\n    <g id=\"ytick_1\">\r\n     <g id=\"line2d_10\">\r\n      <defs>\r\n       <path d=\"M 0 0 \r\nL -3.5 0 \r\n\" id=\"m36949d9cd4\" style=\"stroke:#000000;stroke-width:0.8;\"/>\r\n      </defs>\r\n      <g>\r\n       <use style=\"stroke:#000000;stroke-width:0.8;\" x=\"55.553125\" xlink:href=\"#m36949d9cd4\" y=\"239.758125\"/>\r\n      </g>\r\n     </g>\r\n     <g id=\"text_10\">\r\n      <!-- 0.00000 -->\r\n      <defs>\r\n       <path d=\"M 10.6875 12.40625 \r\nL 21 12.40625 \r\nL 21 0 \r\nL 10.6875 0 \r\nz\r\n\" id=\"DejaVuSans-46\"/>\r\n      </defs>\r\n      <g transform=\"translate(7.2 243.557344)scale(0.1 -0.1)\">\r\n       <use xlink:href=\"#DejaVuSans-48\"/>\r\n       <use x=\"63.623047\" xlink:href=\"#DejaVuSans-46\"/>\r\n       <use x=\"95.410156\" xlink:href=\"#DejaVuSans-48\"/>\r\n       <use x=\"159.033203\" xlink:href=\"#DejaVuSans-48\"/>\r\n       <use x=\"222.65625\" xlink:href=\"#DejaVuSans-48\"/>\r\n       <use x=\"286.279297\" xlink:href=\"#DejaVuSans-48\"/>\r\n       <use x=\"349.902344\" xlink:href=\"#DejaVuSans-48\"/>\r\n      </g>\r\n     </g>\r\n    </g>\r\n    <g id=\"ytick_2\">\r\n     <g id=\"line2d_11\">\r\n      <g>\r\n       <use style=\"stroke:#000000;stroke-width:0.8;\" x=\"55.553125\" xlink:href=\"#m36949d9cd4\" y=\"213.494106\"/>\r\n      </g>\r\n     </g>\r\n     <g id=\"text_11\">\r\n      <!-- 0.00001 -->\r\n      <g transform=\"translate(7.2 217.293325)scale(0.1 -0.1)\">\r\n       <use xlink:href=\"#DejaVuSans-48\"/>\r\n       <use x=\"63.623047\" xlink:href=\"#DejaVuSans-46\"/>\r\n       <use x=\"95.410156\" xlink:href=\"#DejaVuSans-48\"/>\r\n       <use x=\"159.033203\" xlink:href=\"#DejaVuSans-48\"/>\r\n       <use x=\"222.65625\" xlink:href=\"#DejaVuSans-48\"/>\r\n       <use x=\"286.279297\" xlink:href=\"#DejaVuSans-48\"/>\r\n       <use x=\"349.902344\" xlink:href=\"#DejaVuSans-49\"/>\r\n      </g>\r\n     </g>\r\n    </g>\r\n    <g id=\"ytick_3\">\r\n     <g id=\"line2d_12\">\r\n      <g>\r\n       <use style=\"stroke:#000000;stroke-width:0.8;\" x=\"55.553125\" xlink:href=\"#m36949d9cd4\" y=\"187.230087\"/>\r\n      </g>\r\n     </g>\r\n     <g id=\"text_12\">\r\n      <!-- 0.00002 -->\r\n      <g transform=\"translate(7.2 191.029306)scale(0.1 -0.1)\">\r\n       <use xlink:href=\"#DejaVuSans-48\"/>\r\n       <use x=\"63.623047\" xlink:href=\"#DejaVuSans-46\"/>\r\n       <use x=\"95.410156\" xlink:href=\"#DejaVuSans-48\"/>\r\n       <use x=\"159.033203\" xlink:href=\"#DejaVuSans-48\"/>\r\n       <use x=\"222.65625\" xlink:href=\"#DejaVuSans-48\"/>\r\n       <use x=\"286.279297\" xlink:href=\"#DejaVuSans-48\"/>\r\n       <use x=\"349.902344\" xlink:href=\"#DejaVuSans-50\"/>\r\n      </g>\r\n     </g>\r\n    </g>\r\n    <g id=\"ytick_4\">\r\n     <g id=\"line2d_13\">\r\n      <g>\r\n       <use style=\"stroke:#000000;stroke-width:0.8;\" x=\"55.553125\" xlink:href=\"#m36949d9cd4\" y=\"160.966068\"/>\r\n      </g>\r\n     </g>\r\n     <g id=\"text_13\">\r\n      <!-- 0.00003 -->\r\n      <g transform=\"translate(7.2 164.765287)scale(0.1 -0.1)\">\r\n       <use xlink:href=\"#DejaVuSans-48\"/>\r\n       <use x=\"63.623047\" xlink:href=\"#DejaVuSans-46\"/>\r\n       <use x=\"95.410156\" xlink:href=\"#DejaVuSans-48\"/>\r\n       <use x=\"159.033203\" xlink:href=\"#DejaVuSans-48\"/>\r\n       <use x=\"222.65625\" xlink:href=\"#DejaVuSans-48\"/>\r\n       <use x=\"286.279297\" xlink:href=\"#DejaVuSans-48\"/>\r\n       <use x=\"349.902344\" xlink:href=\"#DejaVuSans-51\"/>\r\n      </g>\r\n     </g>\r\n    </g>\r\n    <g id=\"ytick_5\">\r\n     <g id=\"line2d_14\">\r\n      <g>\r\n       <use style=\"stroke:#000000;stroke-width:0.8;\" x=\"55.553125\" xlink:href=\"#m36949d9cd4\" y=\"134.702049\"/>\r\n      </g>\r\n     </g>\r\n     <g id=\"text_14\">\r\n      <!-- 0.00004 -->\r\n      <g transform=\"translate(7.2 138.501268)scale(0.1 -0.1)\">\r\n       <use xlink:href=\"#DejaVuSans-48\"/>\r\n       <use x=\"63.623047\" xlink:href=\"#DejaVuSans-46\"/>\r\n       <use x=\"95.410156\" xlink:href=\"#DejaVuSans-48\"/>\r\n       <use x=\"159.033203\" xlink:href=\"#DejaVuSans-48\"/>\r\n       <use x=\"222.65625\" xlink:href=\"#DejaVuSans-48\"/>\r\n       <use x=\"286.279297\" xlink:href=\"#DejaVuSans-48\"/>\r\n       <use x=\"349.902344\" xlink:href=\"#DejaVuSans-52\"/>\r\n      </g>\r\n     </g>\r\n    </g>\r\n    <g id=\"ytick_6\">\r\n     <g id=\"line2d_15\">\r\n      <g>\r\n       <use style=\"stroke:#000000;stroke-width:0.8;\" x=\"55.553125\" xlink:href=\"#m36949d9cd4\" y=\"108.43803\"/>\r\n      </g>\r\n     </g>\r\n     <g id=\"text_15\">\r\n      <!-- 0.00005 -->\r\n      <g transform=\"translate(7.2 112.237249)scale(0.1 -0.1)\">\r\n       <use xlink:href=\"#DejaVuSans-48\"/>\r\n       <use x=\"63.623047\" xlink:href=\"#DejaVuSans-46\"/>\r\n       <use x=\"95.410156\" xlink:href=\"#DejaVuSans-48\"/>\r\n       <use x=\"159.033203\" xlink:href=\"#DejaVuSans-48\"/>\r\n       <use x=\"222.65625\" xlink:href=\"#DejaVuSans-48\"/>\r\n       <use x=\"286.279297\" xlink:href=\"#DejaVuSans-48\"/>\r\n       <use x=\"349.902344\" xlink:href=\"#DejaVuSans-53\"/>\r\n      </g>\r\n     </g>\r\n    </g>\r\n    <g id=\"ytick_7\">\r\n     <g id=\"line2d_16\">\r\n      <g>\r\n       <use style=\"stroke:#000000;stroke-width:0.8;\" x=\"55.553125\" xlink:href=\"#m36949d9cd4\" y=\"82.174011\"/>\r\n      </g>\r\n     </g>\r\n     <g id=\"text_16\">\r\n      <!-- 0.00006 -->\r\n      <g transform=\"translate(7.2 85.973229)scale(0.1 -0.1)\">\r\n       <use xlink:href=\"#DejaVuSans-48\"/>\r\n       <use x=\"63.623047\" xlink:href=\"#DejaVuSans-46\"/>\r\n       <use x=\"95.410156\" xlink:href=\"#DejaVuSans-48\"/>\r\n       <use x=\"159.033203\" xlink:href=\"#DejaVuSans-48\"/>\r\n       <use x=\"222.65625\" xlink:href=\"#DejaVuSans-48\"/>\r\n       <use x=\"286.279297\" xlink:href=\"#DejaVuSans-48\"/>\r\n       <use x=\"349.902344\" xlink:href=\"#DejaVuSans-54\"/>\r\n      </g>\r\n     </g>\r\n    </g>\r\n    <g id=\"ytick_8\">\r\n     <g id=\"line2d_17\">\r\n      <g>\r\n       <use style=\"stroke:#000000;stroke-width:0.8;\" x=\"55.553125\" xlink:href=\"#m36949d9cd4\" y=\"55.909992\"/>\r\n      </g>\r\n     </g>\r\n     <g id=\"text_17\">\r\n      <!-- 0.00007 -->\r\n      <g transform=\"translate(7.2 59.70921)scale(0.1 -0.1)\">\r\n       <use xlink:href=\"#DejaVuSans-48\"/>\r\n       <use x=\"63.623047\" xlink:href=\"#DejaVuSans-46\"/>\r\n       <use x=\"95.410156\" xlink:href=\"#DejaVuSans-48\"/>\r\n       <use x=\"159.033203\" xlink:href=\"#DejaVuSans-48\"/>\r\n       <use x=\"222.65625\" xlink:href=\"#DejaVuSans-48\"/>\r\n       <use x=\"286.279297\" xlink:href=\"#DejaVuSans-48\"/>\r\n       <use x=\"349.902344\" xlink:href=\"#DejaVuSans-55\"/>\r\n      </g>\r\n     </g>\r\n    </g>\r\n    <g id=\"ytick_9\">\r\n     <g id=\"line2d_18\">\r\n      <g>\r\n       <use style=\"stroke:#000000;stroke-width:0.8;\" x=\"55.553125\" xlink:href=\"#m36949d9cd4\" y=\"29.645973\"/>\r\n      </g>\r\n     </g>\r\n     <g id=\"text_18\">\r\n      <!-- 0.00008 -->\r\n      <defs>\r\n       <path d=\"M 31.78125 34.625 \r\nQ 24.75 34.625 20.71875 30.859375 \r\nQ 16.703125 27.09375 16.703125 20.515625 \r\nQ 16.703125 13.921875 20.71875 10.15625 \r\nQ 24.75 6.390625 31.78125 6.390625 \r\nQ 38.8125 6.390625 42.859375 10.171875 \r\nQ 46.921875 13.96875 46.921875 20.515625 \r\nQ 46.921875 27.09375 42.890625 30.859375 \r\nQ 38.875 34.625 31.78125 34.625 \r\nz\r\nM 21.921875 38.8125 \r\nQ 15.578125 40.375 12.03125 44.71875 \r\nQ 8.5 49.078125 8.5 55.328125 \r\nQ 8.5 64.0625 14.71875 69.140625 \r\nQ 20.953125 74.21875 31.78125 74.21875 \r\nQ 42.671875 74.21875 48.875 69.140625 \r\nQ 55.078125 64.0625 55.078125 55.328125 \r\nQ 55.078125 49.078125 51.53125 44.71875 \r\nQ 48 40.375 41.703125 38.8125 \r\nQ 48.828125 37.15625 52.796875 32.3125 \r\nQ 56.78125 27.484375 56.78125 20.515625 \r\nQ 56.78125 9.90625 50.3125 4.234375 \r\nQ 43.84375 -1.421875 31.78125 -1.421875 \r\nQ 19.734375 -1.421875 13.25 4.234375 \r\nQ 6.78125 9.90625 6.78125 20.515625 \r\nQ 6.78125 27.484375 10.78125 32.3125 \r\nQ 14.796875 37.15625 21.921875 38.8125 \r\nz\r\nM 18.3125 54.390625 \r\nQ 18.3125 48.734375 21.84375 45.5625 \r\nQ 25.390625 42.390625 31.78125 42.390625 \r\nQ 38.140625 42.390625 41.71875 45.5625 \r\nQ 45.3125 48.734375 45.3125 54.390625 \r\nQ 45.3125 60.0625 41.71875 63.234375 \r\nQ 38.140625 66.40625 31.78125 66.40625 \r\nQ 25.390625 66.40625 21.84375 63.234375 \r\nQ 18.3125 60.0625 18.3125 54.390625 \r\nz\r\n\" id=\"DejaVuSans-56\"/>\r\n      </defs>\r\n      <g transform=\"translate(7.2 33.445191)scale(0.1 -0.1)\">\r\n       <use xlink:href=\"#DejaVuSans-48\"/>\r\n       <use x=\"63.623047\" xlink:href=\"#DejaVuSans-46\"/>\r\n       <use x=\"95.410156\" xlink:href=\"#DejaVuSans-48\"/>\r\n       <use x=\"159.033203\" xlink:href=\"#DejaVuSans-48\"/>\r\n       <use x=\"222.65625\" xlink:href=\"#DejaVuSans-48\"/>\r\n       <use x=\"286.279297\" xlink:href=\"#DejaVuSans-48\"/>\r\n       <use x=\"349.902344\" xlink:href=\"#DejaVuSans-56\"/>\r\n      </g>\r\n     </g>\r\n    </g>\r\n   </g>\r\n   <g id=\"line2d_19\">\r\n    <path clip-path=\"url(#p45e1eae630)\" d=\"M 70.771307 239.482432 \r\nL 73.845687 239.093788 \r\nL 76.920067 238.269559 \r\nL 79.994447 236.654462 \r\nL 83.068827 233.731381 \r\nL 86.143208 228.847476 \r\nL 89.217588 221.319024 \r\nL 92.291968 210.621336 \r\nL 95.366348 196.625079 \r\nL 98.440728 179.792778 \r\nL 101.515108 161.231836 \r\nL 104.589489 142.538389 \r\nL 107.663869 125.453508 \r\nL 110.738249 111.44632 \r\nL 113.812629 101.381783 \r\nL 116.887009 95.394942 \r\nL 119.961389 92.998974 \r\nL 123.03577 93.356386 \r\nL 126.11015 95.592201 \r\nL 129.18453 99.039469 \r\nL 132.25891 103.358221 \r\nL 135.33329 108.523569 \r\nL 138.40767 114.714467 \r\nL 141.482051 122.149922 \r\nL 144.556431 130.923249 \r\nL 147.630811 140.882772 \r\nL 150.705191 151.596897 \r\nL 153.779571 162.418072 \r\nL 156.853951 172.626815 \r\nL 159.928332 181.605975 \r\nL 163.002712 188.982728 \r\nL 166.077092 194.689506 \r\nL 169.151472 198.929651 \r\nL 172.225852 202.07192 \r\nL 175.300232 204.521872 \r\nL 178.374613 206.618199 \r\nL 181.448993 208.581944 \r\nL 184.523373 210.519248 \r\nL 187.597753 212.457618 \r\nL 190.672133 214.389231 \r\nL 193.746513 216.301367 \r\nL 196.820894 218.186598 \r\nL 199.895274 220.036319 \r\nL 202.969654 221.826624 \r\nL 206.044034 223.505895 \r\nL 209.118414 224.991257 \r\nL 212.192794 226.177767 \r\nL 215.267175 226.960023 \r\nL 218.341555 227.260832 \r\nL 221.415935 227.057436 \r\nL 224.490315 226.395198 \r\nL 227.564695 225.382998 \r\nL 230.639075 224.172072 \r\nL 233.713456 222.926522 \r\nL 236.787836 221.79569 \r\nL 239.862216 220.895514 \r\nL 242.936596 220.300505 \r\nL 246.010976 220.043664 \r\nL 249.085356 220.120466 \r\nL 252.159737 220.494577 \r\nL 255.234117 221.105259 \r\nL 258.308497 221.877652 \r\nL 261.382877 222.736569 \r\nL 264.457257 223.622412 \r\nL 267.531637 224.505396 \r\nL 270.606018 225.392755 \r\nL 273.680398 226.324292 \r\nL 276.754778 227.355206 \r\nL 279.829158 228.530692 \r\nL 282.903538 229.861713 \r\nL 285.977918 231.312332 \r\nL 289.052299 232.804662 \r\nL 292.126679 234.239492 \r\nL 295.201059 235.523577 \r\nL 298.275439 236.592274 \r\nL 301.349819 237.419753 \r\nL 304.424199 238.015736 \r\nL 307.49858 238.413524 \r\nL 310.57296 238.656168 \r\nL 313.64734 238.786032 \r\nL 316.72172 238.839528 \r\nL 319.7961 238.845991 \r\nL 322.87048 238.828568 \r\nL 325.944861 238.80546 \r\nL 329.019241 238.790859 \r\nL 332.093621 238.795464 \r\nL 335.168001 238.82659 \r\nL 338.242381 238.887764 \r\nL 341.316761 238.97801 \r\nL 344.391142 239.091438 \r\nL 347.465522 239.217918 \r\nL 350.539902 239.345127 \r\nL 353.614282 239.461429 \r\nL 356.688662 239.558498 \r\nL 359.763042 239.632651 \r\nL 362.837423 239.684598 \r\nL 365.911803 239.718016 \r\nL 368.986183 239.73778 \r\nL 372.060563 239.748538 \r\nL 375.134943 239.753931 \r\n\" style=\"fill:none;stroke:#1f77b4;stroke-linecap:square;stroke-width:1.5;\"/>\r\n   </g>\r\n   <g id=\"patch_32\">\r\n    <path d=\"M 55.553125 239.758125 \r\nL 55.553125 22.318125 \r\n\" style=\"fill:none;stroke:#000000;stroke-linecap:square;stroke-linejoin:miter;stroke-width:0.8;\"/>\r\n   </g>\r\n   <g id=\"patch_33\">\r\n    <path d=\"M 390.353125 239.758125 \r\nL 390.353125 22.318125 \r\n\" style=\"fill:none;stroke:#000000;stroke-linecap:square;stroke-linejoin:miter;stroke-width:0.8;\"/>\r\n   </g>\r\n   <g id=\"patch_34\">\r\n    <path d=\"M 55.553125 239.758125 \r\nL 390.353125 239.758125 \r\n\" style=\"fill:none;stroke:#000000;stroke-linecap:square;stroke-linejoin:miter;stroke-width:0.8;\"/>\r\n   </g>\r\n   <g id=\"patch_35\">\r\n    <path d=\"M 55.553125 22.318125 \r\nL 390.353125 22.318125 \r\n\" style=\"fill:none;stroke:#000000;stroke-linecap:square;stroke-linejoin:miter;stroke-width:0.8;\"/>\r\n   </g>\r\n   <g id=\"text_19\">\r\n    <!-- Distribution of charges -->\r\n    <defs>\r\n     <path d=\"M 19.671875 64.796875 \r\nL 19.671875 8.109375 \r\nL 31.59375 8.109375 \r\nQ 46.6875 8.109375 53.6875 14.9375 \r\nQ 60.6875 21.78125 60.6875 36.53125 \r\nQ 60.6875 51.171875 53.6875 57.984375 \r\nQ 46.6875 64.796875 31.59375 64.796875 \r\nz\r\nM 9.8125 72.90625 \r\nL 30.078125 72.90625 \r\nQ 51.265625 72.90625 61.171875 64.09375 \r\nQ 71.09375 55.28125 71.09375 36.53125 \r\nQ 71.09375 17.671875 61.125 8.828125 \r\nQ 51.171875 0 30.078125 0 \r\nL 9.8125 0 \r\nz\r\n\" id=\"DejaVuSans-68\"/>\r\n     <path d=\"M 9.421875 54.6875 \r\nL 18.40625 54.6875 \r\nL 18.40625 0 \r\nL 9.421875 0 \r\nz\r\nM 9.421875 75.984375 \r\nL 18.40625 75.984375 \r\nL 18.40625 64.59375 \r\nL 9.421875 64.59375 \r\nz\r\n\" id=\"DejaVuSans-105\"/>\r\n     <path d=\"M 44.28125 53.078125 \r\nL 44.28125 44.578125 \r\nQ 40.484375 46.53125 36.375 47.5 \r\nQ 32.28125 48.484375 27.875 48.484375 \r\nQ 21.1875 48.484375 17.84375 46.4375 \r\nQ 14.5 44.390625 14.5 40.28125 \r\nQ 14.5 37.15625 16.890625 35.375 \r\nQ 19.28125 33.59375 26.515625 31.984375 \r\nL 29.59375 31.296875 \r\nQ 39.15625 29.25 43.1875 25.515625 \r\nQ 47.21875 21.78125 47.21875 15.09375 \r\nQ 47.21875 7.46875 41.1875 3.015625 \r\nQ 35.15625 -1.421875 24.609375 -1.421875 \r\nQ 20.21875 -1.421875 15.453125 -0.5625 \r\nQ 10.6875 0.296875 5.421875 2 \r\nL 5.421875 11.28125 \r\nQ 10.40625 8.6875 15.234375 7.390625 \r\nQ 20.0625 6.109375 24.8125 6.109375 \r\nQ 31.15625 6.109375 34.5625 8.28125 \r\nQ 37.984375 10.453125 37.984375 14.40625 \r\nQ 37.984375 18.0625 35.515625 20.015625 \r\nQ 33.0625 21.96875 24.703125 23.78125 \r\nL 21.578125 24.515625 \r\nQ 13.234375 26.265625 9.515625 29.90625 \r\nQ 5.8125 33.546875 5.8125 39.890625 \r\nQ 5.8125 47.609375 11.28125 51.796875 \r\nQ 16.75 56 26.8125 56 \r\nQ 31.78125 56 36.171875 55.265625 \r\nQ 40.578125 54.546875 44.28125 53.078125 \r\nz\r\n\" id=\"DejaVuSans-115\"/>\r\n     <path d=\"M 18.3125 70.21875 \r\nL 18.3125 54.6875 \r\nL 36.8125 54.6875 \r\nL 36.8125 47.703125 \r\nL 18.3125 47.703125 \r\nL 18.3125 18.015625 \r\nQ 18.3125 11.328125 20.140625 9.421875 \r\nQ 21.96875 7.515625 27.59375 7.515625 \r\nL 36.8125 7.515625 \r\nL 36.8125 0 \r\nL 27.59375 0 \r\nQ 17.1875 0 13.234375 3.875 \r\nQ 9.28125 7.765625 9.28125 18.015625 \r\nL 9.28125 47.703125 \r\nL 2.6875 47.703125 \r\nL 2.6875 54.6875 \r\nL 9.28125 54.6875 \r\nL 9.28125 70.21875 \r\nz\r\n\" id=\"DejaVuSans-116\"/>\r\n     <path d=\"M 41.109375 46.296875 \r\nQ 39.59375 47.171875 37.8125 47.578125 \r\nQ 36.03125 48 33.890625 48 \r\nQ 26.265625 48 22.1875 43.046875 \r\nQ 18.109375 38.09375 18.109375 28.8125 \r\nL 18.109375 0 \r\nL 9.078125 0 \r\nL 9.078125 54.6875 \r\nL 18.109375 54.6875 \r\nL 18.109375 46.1875 \r\nQ 20.953125 51.171875 25.484375 53.578125 \r\nQ 30.03125 56 36.53125 56 \r\nQ 37.453125 56 38.578125 55.875 \r\nQ 39.703125 55.765625 41.0625 55.515625 \r\nz\r\n\" id=\"DejaVuSans-114\"/>\r\n     <path d=\"M 48.6875 27.296875 \r\nQ 48.6875 37.203125 44.609375 42.84375 \r\nQ 40.53125 48.484375 33.40625 48.484375 \r\nQ 26.265625 48.484375 22.1875 42.84375 \r\nQ 18.109375 37.203125 18.109375 27.296875 \r\nQ 18.109375 17.390625 22.1875 11.75 \r\nQ 26.265625 6.109375 33.40625 6.109375 \r\nQ 40.53125 6.109375 44.609375 11.75 \r\nQ 48.6875 17.390625 48.6875 27.296875 \r\nz\r\nM 18.109375 46.390625 \r\nQ 20.953125 51.265625 25.265625 53.625 \r\nQ 29.59375 56 35.59375 56 \r\nQ 45.5625 56 51.78125 48.09375 \r\nQ 58.015625 40.1875 58.015625 27.296875 \r\nQ 58.015625 14.40625 51.78125 6.484375 \r\nQ 45.5625 -1.421875 35.59375 -1.421875 \r\nQ 29.59375 -1.421875 25.265625 0.953125 \r\nQ 20.953125 3.328125 18.109375 8.203125 \r\nL 18.109375 0 \r\nL 9.078125 0 \r\nL 9.078125 75.984375 \r\nL 18.109375 75.984375 \r\nz\r\n\" id=\"DejaVuSans-98\"/>\r\n     <path d=\"M 8.5 21.578125 \r\nL 8.5 54.6875 \r\nL 17.484375 54.6875 \r\nL 17.484375 21.921875 \r\nQ 17.484375 14.15625 20.5 10.265625 \r\nQ 23.53125 6.390625 29.59375 6.390625 \r\nQ 36.859375 6.390625 41.078125 11.03125 \r\nQ 45.3125 15.671875 45.3125 23.6875 \r\nL 45.3125 54.6875 \r\nL 54.296875 54.6875 \r\nL 54.296875 0 \r\nL 45.3125 0 \r\nL 45.3125 8.40625 \r\nQ 42.046875 3.421875 37.71875 1 \r\nQ 33.40625 -1.421875 27.6875 -1.421875 \r\nQ 18.265625 -1.421875 13.375 4.4375 \r\nQ 8.5 10.296875 8.5 21.578125 \r\nz\r\nM 31.109375 56 \r\nz\r\n\" id=\"DejaVuSans-117\"/>\r\n     <path d=\"M 30.609375 48.390625 \r\nQ 23.390625 48.390625 19.1875 42.75 \r\nQ 14.984375 37.109375 14.984375 27.296875 \r\nQ 14.984375 17.484375 19.15625 11.84375 \r\nQ 23.34375 6.203125 30.609375 6.203125 \r\nQ 37.796875 6.203125 41.984375 11.859375 \r\nQ 46.1875 17.53125 46.1875 27.296875 \r\nQ 46.1875 37.015625 41.984375 42.703125 \r\nQ 37.796875 48.390625 30.609375 48.390625 \r\nz\r\nM 30.609375 56 \r\nQ 42.328125 56 49.015625 48.375 \r\nQ 55.71875 40.765625 55.71875 27.296875 \r\nQ 55.71875 13.875 49.015625 6.21875 \r\nQ 42.328125 -1.421875 30.609375 -1.421875 \r\nQ 18.84375 -1.421875 12.171875 6.21875 \r\nQ 5.515625 13.875 5.515625 27.296875 \r\nQ 5.515625 40.765625 12.171875 48.375 \r\nQ 18.84375 56 30.609375 56 \r\nz\r\n\" id=\"DejaVuSans-111\"/>\r\n     <path d=\"M 54.890625 33.015625 \r\nL 54.890625 0 \r\nL 45.90625 0 \r\nL 45.90625 32.71875 \r\nQ 45.90625 40.484375 42.875 44.328125 \r\nQ 39.84375 48.1875 33.796875 48.1875 \r\nQ 26.515625 48.1875 22.3125 43.546875 \r\nQ 18.109375 38.921875 18.109375 30.90625 \r\nL 18.109375 0 \r\nL 9.078125 0 \r\nL 9.078125 54.6875 \r\nL 18.109375 54.6875 \r\nL 18.109375 46.1875 \r\nQ 21.34375 51.125 25.703125 53.5625 \r\nQ 30.078125 56 35.796875 56 \r\nQ 45.21875 56 50.046875 50.171875 \r\nQ 54.890625 44.34375 54.890625 33.015625 \r\nz\r\n\" id=\"DejaVuSans-110\"/>\r\n     <path id=\"DejaVuSans-32\"/>\r\n     <path d=\"M 37.109375 75.984375 \r\nL 37.109375 68.5 \r\nL 28.515625 68.5 \r\nQ 23.6875 68.5 21.796875 66.546875 \r\nQ 19.921875 64.59375 19.921875 59.515625 \r\nL 19.921875 54.6875 \r\nL 34.71875 54.6875 \r\nL 34.71875 47.703125 \r\nL 19.921875 47.703125 \r\nL 19.921875 0 \r\nL 10.890625 0 \r\nL 10.890625 47.703125 \r\nL 2.296875 47.703125 \r\nL 2.296875 54.6875 \r\nL 10.890625 54.6875 \r\nL 10.890625 58.5 \r\nQ 10.890625 67.625 15.140625 71.796875 \r\nQ 19.390625 75.984375 28.609375 75.984375 \r\nz\r\n\" id=\"DejaVuSans-102\"/>\r\n     <path d=\"M 48.78125 52.59375 \r\nL 48.78125 44.1875 \r\nQ 44.96875 46.296875 41.140625 47.34375 \r\nQ 37.3125 48.390625 33.40625 48.390625 \r\nQ 24.65625 48.390625 19.8125 42.84375 \r\nQ 14.984375 37.3125 14.984375 27.296875 \r\nQ 14.984375 17.28125 19.8125 11.734375 \r\nQ 24.65625 6.203125 33.40625 6.203125 \r\nQ 37.3125 6.203125 41.140625 7.25 \r\nQ 44.96875 8.296875 48.78125 10.40625 \r\nL 48.78125 2.09375 \r\nQ 45.015625 0.34375 40.984375 -0.53125 \r\nQ 36.96875 -1.421875 32.421875 -1.421875 \r\nQ 20.0625 -1.421875 12.78125 6.34375 \r\nQ 5.515625 14.109375 5.515625 27.296875 \r\nQ 5.515625 40.671875 12.859375 48.328125 \r\nQ 20.21875 56 33.015625 56 \r\nQ 37.15625 56 41.109375 55.140625 \r\nQ 45.0625 54.296875 48.78125 52.59375 \r\nz\r\n\" id=\"DejaVuSans-99\"/>\r\n     <path d=\"M 54.890625 33.015625 \r\nL 54.890625 0 \r\nL 45.90625 0 \r\nL 45.90625 32.71875 \r\nQ 45.90625 40.484375 42.875 44.328125 \r\nQ 39.84375 48.1875 33.796875 48.1875 \r\nQ 26.515625 48.1875 22.3125 43.546875 \r\nQ 18.109375 38.921875 18.109375 30.90625 \r\nL 18.109375 0 \r\nL 9.078125 0 \r\nL 9.078125 75.984375 \r\nL 18.109375 75.984375 \r\nL 18.109375 46.1875 \r\nQ 21.34375 51.125 25.703125 53.5625 \r\nQ 30.078125 56 35.796875 56 \r\nQ 45.21875 56 50.046875 50.171875 \r\nQ 54.890625 44.34375 54.890625 33.015625 \r\nz\r\n\" id=\"DejaVuSans-104\"/>\r\n     <path d=\"M 34.28125 27.484375 \r\nQ 23.390625 27.484375 19.1875 25 \r\nQ 14.984375 22.515625 14.984375 16.5 \r\nQ 14.984375 11.71875 18.140625 8.90625 \r\nQ 21.296875 6.109375 26.703125 6.109375 \r\nQ 34.1875 6.109375 38.703125 11.40625 \r\nQ 43.21875 16.703125 43.21875 25.484375 \r\nL 43.21875 27.484375 \r\nz\r\nM 52.203125 31.203125 \r\nL 52.203125 0 \r\nL 43.21875 0 \r\nL 43.21875 8.296875 \r\nQ 40.140625 3.328125 35.546875 0.953125 \r\nQ 30.953125 -1.421875 24.3125 -1.421875 \r\nQ 15.921875 -1.421875 10.953125 3.296875 \r\nQ 6 8.015625 6 15.921875 \r\nQ 6 25.140625 12.171875 29.828125 \r\nQ 18.359375 34.515625 30.609375 34.515625 \r\nL 43.21875 34.515625 \r\nL 43.21875 35.40625 \r\nQ 43.21875 41.609375 39.140625 45 \r\nQ 35.0625 48.390625 27.6875 48.390625 \r\nQ 23 48.390625 18.546875 47.265625 \r\nQ 14.109375 46.140625 10.015625 43.890625 \r\nL 10.015625 52.203125 \r\nQ 14.9375 54.109375 19.578125 55.046875 \r\nQ 24.21875 56 28.609375 56 \r\nQ 40.484375 56 46.34375 49.84375 \r\nQ 52.203125 43.703125 52.203125 31.203125 \r\nz\r\n\" id=\"DejaVuSans-97\"/>\r\n     <path d=\"M 45.40625 27.984375 \r\nQ 45.40625 37.75 41.375 43.109375 \r\nQ 37.359375 48.484375 30.078125 48.484375 \r\nQ 22.859375 48.484375 18.828125 43.109375 \r\nQ 14.796875 37.75 14.796875 27.984375 \r\nQ 14.796875 18.265625 18.828125 12.890625 \r\nQ 22.859375 7.515625 30.078125 7.515625 \r\nQ 37.359375 7.515625 41.375 12.890625 \r\nQ 45.40625 18.265625 45.40625 27.984375 \r\nz\r\nM 54.390625 6.78125 \r\nQ 54.390625 -7.171875 48.1875 -13.984375 \r\nQ 42 -20.796875 29.203125 -20.796875 \r\nQ 24.46875 -20.796875 20.265625 -20.09375 \r\nQ 16.0625 -19.390625 12.109375 -17.921875 \r\nL 12.109375 -9.1875 \r\nQ 16.0625 -11.328125 19.921875 -12.34375 \r\nQ 23.78125 -13.375 27.78125 -13.375 \r\nQ 36.625 -13.375 41.015625 -8.765625 \r\nQ 45.40625 -4.15625 45.40625 5.171875 \r\nL 45.40625 9.625 \r\nQ 42.625 4.78125 38.28125 2.390625 \r\nQ 33.9375 0 27.875 0 \r\nQ 17.828125 0 11.671875 7.65625 \r\nQ 5.515625 15.328125 5.515625 27.984375 \r\nQ 5.515625 40.671875 11.671875 48.328125 \r\nQ 17.828125 56 27.875 56 \r\nQ 33.9375 56 38.28125 53.609375 \r\nQ 42.625 51.21875 45.40625 46.390625 \r\nL 45.40625 54.6875 \r\nL 54.390625 54.6875 \r\nz\r\n\" id=\"DejaVuSans-103\"/>\r\n     <path d=\"M 56.203125 29.59375 \r\nL 56.203125 25.203125 \r\nL 14.890625 25.203125 \r\nQ 15.484375 15.921875 20.484375 11.0625 \r\nQ 25.484375 6.203125 34.421875 6.203125 \r\nQ 39.59375 6.203125 44.453125 7.46875 \r\nQ 49.3125 8.734375 54.109375 11.28125 \r\nL 54.109375 2.78125 \r\nQ 49.265625 0.734375 44.1875 -0.34375 \r\nQ 39.109375 -1.421875 33.890625 -1.421875 \r\nQ 20.796875 -1.421875 13.15625 6.1875 \r\nQ 5.515625 13.8125 5.515625 26.8125 \r\nQ 5.515625 40.234375 12.765625 48.109375 \r\nQ 20.015625 56 32.328125 56 \r\nQ 43.359375 56 49.78125 48.890625 \r\nQ 56.203125 41.796875 56.203125 29.59375 \r\nz\r\nM 47.21875 32.234375 \r\nQ 47.125 39.59375 43.09375 43.984375 \r\nQ 39.0625 48.390625 32.421875 48.390625 \r\nQ 24.90625 48.390625 20.390625 44.140625 \r\nQ 15.875 39.890625 15.1875 32.171875 \r\nz\r\n\" id=\"DejaVuSans-101\"/>\r\n    </defs>\r\n    <g transform=\"translate(154.482813 16.318125)scale(0.12 -0.12)\">\r\n     <use xlink:href=\"#DejaVuSans-68\"/>\r\n     <use x=\"77.001953\" xlink:href=\"#DejaVuSans-105\"/>\r\n     <use x=\"104.785156\" xlink:href=\"#DejaVuSans-115\"/>\r\n     <use x=\"156.884766\" xlink:href=\"#DejaVuSans-116\"/>\r\n     <use x=\"196.09375\" xlink:href=\"#DejaVuSans-114\"/>\r\n     <use x=\"237.207031\" xlink:href=\"#DejaVuSans-105\"/>\r\n     <use x=\"264.990234\" xlink:href=\"#DejaVuSans-98\"/>\r\n     <use x=\"328.466797\" xlink:href=\"#DejaVuSans-117\"/>\r\n     <use x=\"391.845703\" xlink:href=\"#DejaVuSans-116\"/>\r\n     <use x=\"431.054688\" xlink:href=\"#DejaVuSans-105\"/>\r\n     <use x=\"458.837891\" xlink:href=\"#DejaVuSans-111\"/>\r\n     <use x=\"520.019531\" xlink:href=\"#DejaVuSans-110\"/>\r\n     <use x=\"583.398438\" xlink:href=\"#DejaVuSans-32\"/>\r\n     <use x=\"615.185547\" xlink:href=\"#DejaVuSans-111\"/>\r\n     <use x=\"676.367188\" xlink:href=\"#DejaVuSans-102\"/>\r\n     <use x=\"711.572266\" xlink:href=\"#DejaVuSans-32\"/>\r\n     <use x=\"743.359375\" xlink:href=\"#DejaVuSans-99\"/>\r\n     <use x=\"798.339844\" xlink:href=\"#DejaVuSans-104\"/>\r\n     <use x=\"861.71875\" xlink:href=\"#DejaVuSans-97\"/>\r\n     <use x=\"922.998047\" xlink:href=\"#DejaVuSans-114\"/>\r\n     <use x=\"964.095703\" xlink:href=\"#DejaVuSans-103\"/>\r\n     <use x=\"1027.572266\" xlink:href=\"#DejaVuSans-101\"/>\r\n     <use x=\"1089.095703\" xlink:href=\"#DejaVuSans-115\"/>\r\n    </g>\r\n   </g>\r\n  </g>\r\n </g>\r\n <defs>\r\n  <clipPath id=\"p45e1eae630\">\r\n   <rect height=\"217.44\" width=\"334.8\" x=\"55.553125\" y=\"22.318125\"/>\r\n  </clipPath>\r\n </defs>\r\n</svg>\r\n",
      "image/png": "[encoded data removed]"
     },
     "metadata": {
      "needs_background": "light"
     }
    }
   ],
   "source": [
    "import seaborn as sns\n",
    "plt.title(\"Distribution of charges\")\n",
    "\n",
    "sns.distplot(dataframe[output_cols].values, kde=True)"
   ]
  },
  {
   "cell_type": "markdown",
   "metadata": {},
   "source": [
    "Remember to commit your notebook to Jovian after every step, so that you don't lose your work."
   ]
  },
  {
   "cell_type": "code",
   "execution_count": 301,
   "metadata": {},
   "outputs": [
    {
     "output_type": "stream",
     "name": "stdout",
     "text": "d:\\Repos\\PhD\\2020_jovian_deep_learning\\Assignment_02-insurance-linear-regression-v-1\n"
    }
   ],
   "source": [
    "print(os.getcwd())"
   ]
  },
  {
   "cell_type": "code",
   "execution_count": 302,
   "metadata": {},
   "outputs": [],
   "source": [
    "#jovian.commit(project=project_name, environment=None)\n",
    "# jovian.commit(message=\"Assignment week 2 - first part: data analysis\", filename=\"02-insurance-linear\", project=\"leosf/\" + project, environment=None)\n"
   ]
  },
  {
   "cell_type": "markdown",
   "metadata": {},
   "source": [
    "## Step 2: Prepare the dataset for training\n",
    "\n",
    "We need to convert the data from the Pandas dataframe into a PyTorch tensors for training. To do this, the first step is to convert it numpy arrays. If you've filled out `input_cols`, `categorial_cols` and `output_cols` correctly, this following function will perform the conversion to numpy arrays."
   ]
  },
  {
   "cell_type": "code",
   "execution_count": 303,
   "metadata": {},
   "outputs": [],
   "source": [
    "def dataframe_to_arrays(dataframe):\n",
    "    # Make a copy of the original dataframe\n",
    "    dataframe1 = dataframe.copy(deep=True)\n",
    "    # Convert non-numeric categorical columns to numbers\n",
    "    for col in categorical_cols:\n",
    "        dataframe1[col] = dataframe1[col].astype('category').cat.codes\n",
    "    # Extract input & outupts as numpy arrays\n",
    "    inputs_array = dataframe1[input_cols].to_numpy()\n",
    "    targets_array = dataframe1[output_cols].to_numpy()\n",
    "    return inputs_array, targets_array"
   ]
  },
  {
   "cell_type": "markdown",
   "metadata": {},
   "source": [
    "Read through the [Pandas documentation](https://pandas.pydata.org/pandas-docs/stable/user_guide/categorical.html) to understand how we're converting categorical variables into numbers."
   ]
  },
  {
   "cell_type": "code",
   "execution_count": 304,
   "metadata": {},
   "outputs": [
    {
     "output_type": "execute_result",
     "data": {
      "text/plain": "(array([[58.     ,  1.     , 36.057  ,  0.     ,  0.     ,  3.     ],\n        [26.     ,  0.     , 17.36695,  2.     ,  1.     ,  0.     ],\n        [47.     ,  0.     , 32.32   ,  1.     ,  0.     ,  3.     ],\n        ...,\n        [58.     ,  0.     , 25.452  ,  0.     ,  0.     ,  3.     ],\n        [45.     ,  1.     , 34.037  ,  1.     ,  0.     ,  3.     ],\n        [64.     ,  0.     , 32.14325,  2.     ,  0.     ,  0.     ]]),\n array([[11021.87235  ],\n        [14021.9747285],\n        [ 8294.80659  ],\n        ...,\n        [11482.0452   ],\n        [ 7222.54046  ],\n        [15587.0122075]]))"
     },
     "metadata": {},
     "execution_count": 304
    }
   ],
   "source": [
    "inputs_array, targets_array = dataframe_to_arrays(dataframe)\n",
    "inputs_array, targets_array"
   ]
  },
  {
   "cell_type": "markdown",
   "metadata": {},
   "source": [
    "**Q: Convert the numpy arrays `inputs_array` and `targets_array` into PyTorch tensors. Make sure that the data type is `torch.float32`.**"
   ]
  },
  {
   "cell_type": "code",
   "execution_count": 305,
   "metadata": {},
   "outputs": [],
   "source": [
    "inputs = torch.tensor(inputs_array, dtype=torch.float32)\n",
    "targets = torch.tensor(targets_array, dtype=torch.float32)\n",
    "\n",
    "if CUDA_ENABLED:\n",
    "    inputs = inputs.cuda()\n",
    "    targets = targets.cuda()"
   ]
  },
  {
   "cell_type": "code",
   "execution_count": 306,
   "metadata": {},
   "outputs": [
    {
     "output_type": "execute_result",
     "data": {
      "text/plain": "(torch.float32, torch.float32)"
     },
     "metadata": {},
     "execution_count": 306
    }
   ],
   "source": [
    "inputs.dtype, targets.dtype"
   ]
  },
  {
   "cell_type": "markdown",
   "metadata": {},
   "source": [
    "Next, we need to create PyTorch datasets & data loaders for training & validation. We'll start by creating a `TensorDataset`."
   ]
  },
  {
   "cell_type": "code",
   "execution_count": 307,
   "metadata": {},
   "outputs": [],
   "source": [
    "dataset = TensorDataset(inputs, targets)"
   ]
  },
  {
   "cell_type": "markdown",
   "metadata": {},
   "source": [
    "**Q: Pick a number between `0.1` and `0.2` to determine the fraction of data that will be used for creating the validation set. Then use `random_split` to create training & validation datasets. **"
   ]
  },
  {
   "cell_type": "code",
   "execution_count": 308,
   "metadata": {},
   "outputs": [],
   "source": [
    "val_percent = 0.14 # between 0.1 and 0.2\n",
    "val_size = int(num_rows * val_percent)\n",
    "train_size = num_rows - val_size\n",
    "\n",
    "train_ds, val_ds = random_split(dataset, [train_size, val_size]) # Use the random_split function to split dataset into 2 parts of the desired length"
   ]
  },
  {
   "cell_type": "markdown",
   "metadata": {},
   "source": [
    "Finally, we can create data loaders for training & validation.\n",
    "\n",
    "**Q: Pick a batch size for the data loader.**"
   ]
  },
  {
   "cell_type": "code",
   "execution_count": 309,
   "metadata": {},
   "outputs": [],
   "source": [
    "batch_size = 8"
   ]
  },
  {
   "cell_type": "code",
   "execution_count": 310,
   "metadata": {},
   "outputs": [],
   "source": [
    "train_loader = DataLoader(train_ds, batch_size, shuffle=True)\n",
    "val_loader = DataLoader(val_ds, batch_size)"
   ]
  },
  {
   "cell_type": "markdown",
   "metadata": {},
   "source": [
    "Let's look at a batch of data to verify everything is working fine so far."
   ]
  },
  {
   "cell_type": "code",
   "execution_count": 311,
   "metadata": {},
   "outputs": [
    {
     "output_type": "stream",
     "name": "stdout",
     "text": "inputs: tensor([[43.0000,  1.0000, 25.7752,  5.0000,  0.0000,  2.0000],\n        [54.0000,  0.0000, 47.8841,  0.0000,  1.0000,  2.0000],\n        [19.0000,  0.0000, 35.0470,  2.0000,  1.0000,  3.0000],\n        [27.0000,  0.0000, 24.3410,  0.0000,  0.0000,  3.0000],\n        [18.0000,  0.0000, 37.2185,  0.0000,  0.0000,  2.0000],\n        [26.0000,  1.0000, 30.3000,  1.0000,  0.0000,  3.0000],\n        [48.0000,  1.0000, 28.2800,  1.0000,  1.0000,  3.0000],\n        [56.0000,  0.0000, 40.2182,  0.0000,  0.0000,  2.0000]],\n       device='cuda:0')\ntargets: tensor([[14043.9805],\n        [61857.3164],\n        [35305.6484],\n        [ 2884.9021],\n        [ 1580.9385],\n        [ 2816.9653],\n        [22861.2246],\n        [10757.9961]], device='cuda:0')\n"
    }
   ],
   "source": [
    "for xb, yb in train_loader:\n",
    "    print(\"inputs:\", xb)\n",
    "    print(\"targets:\", yb)\n",
    "    break"
   ]
  },
  {
   "cell_type": "markdown",
   "metadata": {},
   "source": [
    "Let's save our work by committing to Jovian."
   ]
  },
  {
   "cell_type": "code",
   "execution_count": 312,
   "metadata": {},
   "outputs": [],
   "source": [
    "# jovian.commit(project=project_name, environment=None)\n",
    "# jovian.commit(message=\"Assignment week 2 - preparing dataset\", filename=\"02-insurance-linear\", project=project_name, environment=None)"
   ]
  },
  {
   "cell_type": "markdown",
   "metadata": {},
   "source": [
    "## Step 3: Create a Linear Regression Model\n",
    "\n",
    "Our model itself is a fairly straightforward linear regression (we'll build more complex models in the next assignment). \n"
   ]
  },
  {
   "cell_type": "code",
   "execution_count": 313,
   "metadata": {},
   "outputs": [],
   "source": [
    "input_size = len(input_cols)\n",
    "output_size = len(output_cols)"
   ]
  },
  {
   "cell_type": "markdown",
   "metadata": {},
   "source": [
    "**Q: Complete the class definition below by filling out the constructor (`__init__`), `forward`, `training_step` and `validation_step` methods.**\n",
    "\n",
    "Hint: Think carefully about picking a good loss fuction (it's not cross entropy). Maybe try 2-3 of them and see which one works best. See https://pytorch.org/docs/stable/nn.functional.html#loss-functions"
   ]
  },
  {
   "cell_type": "code",
   "execution_count": 314,
   "metadata": {},
   "outputs": [],
   "source": [
    "class InsuranceModel(nn.Module):\n",
    "    def __init__(self):\n",
    "        super().__init__()\n",
    "        self.linear =  nn.Linear(input_size, output_size)                  # fill this (hint: use input_size & output_size defined above)\n",
    "        \n",
    "    def forward(self, xb):\n",
    "        out = self.linear(xb)                          # fill this\n",
    "        return out\n",
    "    \n",
    "    def training_step(self, batch):\n",
    "        inputs, targets = batch \n",
    "        if CUDA_ENABLED:\n",
    "            inputs = inputs.cuda()\n",
    "            targets = targets.cuda()\n",
    "        # Generate predictions\n",
    "        out = self(inputs)          \n",
    "        # Calcuate loss\n",
    "        loss = F.mse_loss(out, targets)                          # fill this\n",
    "        return loss\n",
    "    \n",
    "    def validation_step(self, batch):\n",
    "        inputs, targets = batch\n",
    "        if CUDA_ENABLED:\n",
    "            inputs = inputs.cuda()\n",
    "            targets = targets.cuda()\n",
    "        # Generate predictions\n",
    "        out = self(inputs)\n",
    "        # Calculate loss\n",
    "        loss = F.mse_loss(out, targets)                           # fill this    \n",
    "        return {'val_loss': loss.detach()}\n",
    "        \n",
    "    def validation_epoch_end(self, outputs):\n",
    "        batch_losses = [x['val_loss'] for x in outputs]\n",
    "        epoch_loss = torch.stack(batch_losses).mean()   # Combine losses\n",
    "        return {'val_loss': epoch_loss.item()}\n",
    "    \n",
    "    def epoch_end(self, epoch, result, num_epochs):\n",
    "        # Print result every 20th epoch\n",
    "        if (epoch+1) % 20 == 0 or epoch == num_epochs-1:\n",
    "            print(\"Epoch [{}], val_loss: {:.4f}\".format(epoch+1, result['val_loss']))"
   ]
  },
  {
   "cell_type": "markdown",
   "metadata": {},
   "source": [
    "Let us create a model using the `InsuranceModel` class. You may need to come back later and re-run the next cell to reinitialize the model, in case the loss becomes `nan` or `infinity`."
   ]
  },
  {
   "cell_type": "code",
   "execution_count": 315,
   "metadata": {},
   "outputs": [],
   "source": [
    "model = InsuranceModel()"
   ]
  },
  {
   "cell_type": "code",
   "execution_count": 316,
   "metadata": {},
   "outputs": [],
   "source": [
    "if CUDA_ENABLED:\n",
    "    model.cuda()"
   ]
  },
  {
   "cell_type": "markdown",
   "metadata": {},
   "source": [
    "Let's check out the weights and biases of the model using `model.parameters`."
   ]
  },
  {
   "cell_type": "code",
   "execution_count": 317,
   "metadata": {},
   "outputs": [
    {
     "output_type": "execute_result",
     "data": {
      "text/plain": "[Parameter containing:\n tensor([[-0.1096,  0.1684,  0.2488, -0.1321, -0.2320, -0.1624]],\n        device='cuda:0', requires_grad=True),\n Parameter containing:\n tensor([-0.3134], device='cuda:0', requires_grad=True)]"
     },
     "metadata": {},
     "execution_count": 317
    }
   ],
   "source": [
    "list(model.parameters())"
   ]
  },
  {
   "cell_type": "markdown",
   "metadata": {},
   "source": [
    "One final commit before we train the model."
   ]
  },
  {
   "cell_type": "code",
   "execution_count": 318,
   "metadata": {},
   "outputs": [],
   "source": [
    "# jovian.commit(project=project_name, environment=None)\n",
    "# jovian.commit(message=\"Assignment week 2 - building the model\", filename=\"02-insurance-linear\", project=project, environment=None)"
   ]
  },
  {
   "cell_type": "markdown",
   "metadata": {},
   "source": [
    "## Step 4: Train the model to fit the data\n",
    "\n",
    "To train our model, we'll use the same `fit` function explained in the lecture. That's the benefit of defining a generic training loop - you can use it for any problem."
   ]
  },
  {
   "cell_type": "code",
   "execution_count": 319,
   "metadata": {},
   "outputs": [],
   "source": [
    "def evaluate(model, val_loader):\n",
    "    outputs = [model.validation_step(batch) for batch in val_loader]\n",
    "    return model.validation_epoch_end(outputs)\n",
    "\n",
    "def fit(epochs, lr, model, train_loader, val_loader, opt_func=torch.optim.SGD):\n",
    "    history = []\n",
    "    optimizer = opt_func(model.parameters(), lr)\n",
    "    for epoch in range(epochs):\n",
    "        # Training Phase \n",
    "        for batch in train_loader:\n",
    "            loss = model.training_step(batch)\n",
    "            loss.backward()\n",
    "            optimizer.step()\n",
    "            optimizer.zero_grad()\n",
    "        # Validation phase\n",
    "        result = evaluate(model, val_loader)\n",
    "        model.epoch_end(epoch, result, epochs)\n",
    "        history.append(result)\n",
    "    return history"
   ]
  },
  {
   "cell_type": "markdown",
   "metadata": {},
   "source": [
    "**Q: Use the `evaluate` function to calculate the loss on the validation set before training.**"
   ]
  },
  {
   "cell_type": "code",
   "execution_count": 320,
   "metadata": {},
   "outputs": [
    {
     "output_type": "stream",
     "name": "stdout",
     "text": "{'val_loss': 318722464.0}\n"
    }
   ],
   "source": [
    "result = evaluate(model, val_loader) # Use the the evaluate function\n",
    "print(result)"
   ]
  },
  {
   "cell_type": "markdown",
   "metadata": {},
   "source": [
    "\n",
    "We are now ready to train the model. You may need to run the training loop many times, for different number of epochs and with different learning rates, to get a good result. Also, if your loss becomes too large (or `nan`), you may have to re-initialize the model by running the cell `model = InsuranceModel()`. Experiment with this for a while, and try to get to as low a loss as possible."
   ]
  },
  {
   "cell_type": "markdown",
   "metadata": {},
   "source": [
    "**Q: Train the model 4-5 times with different learning rates & for different number of epochs.**\n",
    "\n",
    "Hint: Vary learning rates by orders of 10 (e.g. `1e-2`, `1e-3`, `1e-4`, `1e-5`, `1e-6`) to figure out what works."
   ]
  },
  {
   "cell_type": "code",
   "execution_count": 321,
   "metadata": {},
   "outputs": [
    {
     "output_type": "stream",
     "name": "stdout",
     "text": "Epoch [20], val_loss: nan\nEpoch [40], val_loss: nan\nEpoch [60], val_loss: nan\nEpoch [80], val_loss: nan\nEpoch [100], val_loss: nan\nEpoch [120], val_loss: nan\nEpoch [140], val_loss: nan\nEpoch [160], val_loss: nan\nEpoch [180], val_loss: nan\nEpoch [200], val_loss: nan\nEpoch [220], val_loss: nan\nEpoch [240], val_loss: nan\nEpoch [260], val_loss: nan\nEpoch [280], val_loss: nan\nEpoch [300], val_loss: nan\nEpoch [320], val_loss: nan\nEpoch [340], val_loss: nan\nEpoch [360], val_loss: nan\nEpoch [380], val_loss: nan\nEpoch [400], val_loss: nan\n"
    }
   ],
   "source": [
    "epochs = 400\n",
    "lr = 1.1e-2\n",
    "history1 = fit(epochs, lr, model, train_loader, val_loader)"
   ]
  },
  {
   "cell_type": "code",
   "execution_count": 322,
   "metadata": {},
   "outputs": [],
   "source": [
    "model = InsuranceModel()\n",
    "if CUDA_ENABLED:\n",
    "    model.cuda()"
   ]
  },
  {
   "cell_type": "code",
   "execution_count": 323,
   "metadata": {},
   "outputs": [
    {
     "output_type": "stream",
     "name": "stdout",
     "text": "Epoch [20], val_loss: nan\nEpoch [40], val_loss: nan\nEpoch [60], val_loss: nan\nEpoch [80], val_loss: nan\nEpoch [100], val_loss: nan\nEpoch [120], val_loss: nan\nEpoch [140], val_loss: nan\nEpoch [160], val_loss: nan\nEpoch [180], val_loss: nan\nEpoch [200], val_loss: nan\nEpoch [220], val_loss: nan\nEpoch [240], val_loss: nan\nEpoch [260], val_loss: nan\nEpoch [280], val_loss: nan\nEpoch [300], val_loss: nan\nEpoch [320], val_loss: nan\nEpoch [340], val_loss: nan\nEpoch [360], val_loss: nan\nEpoch [380], val_loss: nan\nEpoch [400], val_loss: nan\n"
    }
   ],
   "source": [
    "epochs = 400\n",
    "lr = 1.2e-3\n",
    "history2 = fit(epochs, lr, model, train_loader, val_loader)"
   ]
  },
  {
   "cell_type": "code",
   "execution_count": 337,
   "metadata": {},
   "outputs": [],
   "source": [
    "model = InsuranceModel()\n",
    "if CUDA_ENABLED:\n",
    "    model.cuda()"
   ]
  },
  {
   "cell_type": "code",
   "execution_count": 338,
   "metadata": {},
   "outputs": [
    {
     "output_type": "stream",
     "name": "stdout",
     "text": "Epoch [20], val_loss: 110405664.0000\nEpoch [40], val_loss: 95453856.0000\nEpoch [60], val_loss: 84104104.0000\nEpoch [80], val_loss: 87070736.0000\nEpoch [100], val_loss: 67140040.0000\nEpoch [120], val_loss: 63807632.0000\nEpoch [140], val_loss: 67338712.0000\nEpoch [160], val_loss: 53692884.0000\nEpoch [180], val_loss: 60908412.0000\nEpoch [200], val_loss: 62670864.0000\nEpoch [220], val_loss: 50065224.0000\nEpoch [240], val_loss: 75513144.0000\nEpoch [260], val_loss: 46162172.0000\nEpoch [280], val_loss: 44025500.0000\nEpoch [300], val_loss: 47740248.0000\nEpoch [320], val_loss: 42189532.0000\nEpoch [340], val_loss: 48871872.0000\nEpoch [360], val_loss: 41643288.0000\nEpoch [380], val_loss: 41792144.0000\nEpoch [400], val_loss: 44572104.0000\nEpoch [420], val_loss: 49535028.0000\nEpoch [440], val_loss: 41341260.0000\nEpoch [460], val_loss: 41937304.0000\nEpoch [480], val_loss: 46173280.0000\nEpoch [500], val_loss: 41020276.0000\nEpoch [520], val_loss: 43019288.0000\nEpoch [540], val_loss: 44154700.0000\nEpoch [560], val_loss: 40300132.0000\nEpoch [580], val_loss: 45731400.0000\nEpoch [600], val_loss: 42651192.0000\nEpoch [620], val_loss: 40408620.0000\nEpoch [640], val_loss: 40452864.0000\nEpoch [660], val_loss: 45191148.0000\nEpoch [680], val_loss: 46932692.0000\nEpoch [700], val_loss: 41397216.0000\nEpoch [720], val_loss: 40565428.0000\nEpoch [740], val_loss: 40383476.0000\nEpoch [760], val_loss: 43072472.0000\nEpoch [780], val_loss: 40498212.0000\nEpoch [800], val_loss: 40496040.0000\nEpoch [820], val_loss: 40194792.0000\nEpoch [840], val_loss: 41789480.0000\nEpoch [860], val_loss: 45130936.0000\nEpoch [880], val_loss: 41212896.0000\nEpoch [900], val_loss: 41348964.0000\nEpoch [920], val_loss: 41077572.0000\nEpoch [940], val_loss: 42767300.0000\nEpoch [960], val_loss: 40517740.0000\nEpoch [980], val_loss: 41137980.0000\nEpoch [1000], val_loss: 41590352.0000\nEpoch [1020], val_loss: 40778056.0000\nEpoch [1040], val_loss: 40169432.0000\nEpoch [1060], val_loss: 45160900.0000\nEpoch [1080], val_loss: 44489844.0000\nEpoch [1100], val_loss: 42074976.0000\nEpoch [1120], val_loss: 42298948.0000\nEpoch [1140], val_loss: 63152776.0000\nEpoch [1160], val_loss: 47581248.0000\nEpoch [1180], val_loss: 49348096.0000\nEpoch [1200], val_loss: 42301184.0000\nEpoch [1220], val_loss: 40336080.0000\nEpoch [1240], val_loss: 55178960.0000\nEpoch [1260], val_loss: 51820740.0000\nEpoch [1280], val_loss: 44394324.0000\nEpoch [1300], val_loss: 46996496.0000\nEpoch [1320], val_loss: 40475660.0000\nEpoch [1340], val_loss: 43217984.0000\nEpoch [1360], val_loss: 41974480.0000\nEpoch [1380], val_loss: 41427152.0000\nEpoch [1400], val_loss: 46467936.0000\nEpoch [1420], val_loss: 41105268.0000\nEpoch [1440], val_loss: 46302944.0000\nEpoch [1460], val_loss: 40250392.0000\nEpoch [1480], val_loss: 42403016.0000\nEpoch [1500], val_loss: 40713780.0000\nEpoch [1520], val_loss: 43142296.0000\nEpoch [1540], val_loss: 45961320.0000\nEpoch [1560], val_loss: 46611240.0000\nEpoch [1580], val_loss: 42389128.0000\nEpoch [1600], val_loss: 59324752.0000\n"
    }
   ],
   "source": [
    "epochs = 1600\n",
    "lr = 1.3e-4\n",
    "history3 = fit(epochs, lr, model, train_loader, val_loader)"
   ]
  },
  {
   "cell_type": "code",
   "execution_count": 326,
   "metadata": {},
   "outputs": [],
   "source": [
    "model = InsuranceModel()\n",
    "if CUDA_ENABLED:\n",
    "    model.cuda()"
   ]
  },
  {
   "cell_type": "code",
   "execution_count": 327,
   "metadata": {},
   "outputs": [
    {
     "output_type": "stream",
     "name": "stdout",
     "text": "Epoch [20], val_loss: 126420368.0000\nEpoch [40], val_loss: 124103240.0000\nEpoch [60], val_loss: 122194224.0000\nEpoch [80], val_loss: 119784072.0000\nEpoch [100], val_loss: 121971088.0000\nEpoch [120], val_loss: 116395256.0000\nEpoch [140], val_loss: 115325296.0000\nEpoch [160], val_loss: 112766544.0000\nEpoch [180], val_loss: 110393432.0000\nEpoch [200], val_loss: 108937160.0000\nEpoch [220], val_loss: 106710240.0000\nEpoch [240], val_loss: 105037712.0000\nEpoch [260], val_loss: 104129808.0000\nEpoch [280], val_loss: 102880056.0000\nEpoch [300], val_loss: 100816120.0000\nEpoch [320], val_loss: 98768096.0000\nEpoch [340], val_loss: 97268984.0000\nEpoch [360], val_loss: 96345600.0000\nEpoch [380], val_loss: 94389704.0000\nEpoch [400], val_loss: 93352496.0000\n"
    }
   ],
   "source": [
    "epochs = 400\n",
    "lr = 1.4e-5\n",
    "history4 = fit(epochs, lr, model, train_loader, val_loader)"
   ]
  },
  {
   "cell_type": "code",
   "execution_count": 328,
   "metadata": {},
   "outputs": [],
   "source": [
    "model = InsuranceModel()\n",
    "if CUDA_ENABLED:\n",
    "    model.cuda()"
   ]
  },
  {
   "cell_type": "code",
   "execution_count": 329,
   "metadata": {},
   "outputs": [
    {
     "output_type": "stream",
     "name": "stdout",
     "text": "Epoch [20], val_loss: nan\nEpoch [40], val_loss: nan\nEpoch [60], val_loss: nan\nEpoch [80], val_loss: nan\nEpoch [100], val_loss: nan\nEpoch [120], val_loss: nan\nEpoch [140], val_loss: nan\nEpoch [160], val_loss: nan\nEpoch [180], val_loss: nan\nEpoch [200], val_loss: nan\nEpoch [220], val_loss: nan\nEpoch [240], val_loss: nan\nEpoch [260], val_loss: nan\nEpoch [280], val_loss: nan\nEpoch [300], val_loss: nan\nEpoch [320], val_loss: nan\nEpoch [340], val_loss: nan\nEpoch [360], val_loss: nan\nEpoch [380], val_loss: nan\nEpoch [400], val_loss: nan\n"
    }
   ],
   "source": [
    "epochs = 400\n",
    "lr = 1.5e-2\n",
    "history5 = fit(epochs, lr, model, train_loader, val_loader)"
   ]
  },
  {
   "cell_type": "markdown",
   "metadata": {},
   "source": [
    "**Q: What is the final validation loss of your model?**"
   ]
  },
  {
   "cell_type": "code",
   "execution_count": 339,
   "metadata": {},
   "outputs": [
    {
     "output_type": "stream",
     "name": "stdout",
     "text": "{'val_loss': 59324752.0}\n"
    }
   ],
   "source": [
    "#val_loss = [history1[-1], history2[-1], history3[-1], history4[-1], history5[-1]]\n",
    "val_loss = history3[-1]\n",
    "print(val_loss)"
   ]
  },
  {
   "cell_type": "markdown",
   "metadata": {},
   "source": [
    "Let's log the final validation loss to Jovian and commit the notebook"
   ]
  },
  {
   "cell_type": "code",
   "execution_count": 267,
   "metadata": {},
   "outputs": [],
   "source": [
    "#batch_size"
   ]
  },
  {
   "cell_type": "code",
   "execution_count": 342,
   "metadata": {},
   "outputs": [
    {
     "output_type": "stream",
     "name": "stdout",
     "text": "[jovian] Metrics logged.\n"
    }
   ],
   "source": [
    "jovian.log_metrics(val_loss=val_loss)"
   ]
  },
  {
   "cell_type": "code",
   "execution_count": 343,
   "metadata": {},
   "outputs": [
    {
     "output_type": "display_data",
     "data": {
      "text/plain": "<IPython.core.display.Javascript object>",
      "application/javascript": "window.require && require([\"base/js/namespace\"],function(Jupyter){Jupyter.notebook.save_checkpoint()})"
     },
     "metadata": {}
    },
    {
     "output_type": "stream",
     "name": "stdout",
     "text": "[jovian] Attempting to save notebook..\n[jovian] Updating notebook \"leosf/02-insurance-linear-regression\" on https://jovian.ml/\n[jovian] Uploading notebook..\n[jovian] Attaching records (metrics, hyperparameters, dataset etc.)\n[jovian] Committed successfully! https://jovian.ml/leosf/02-insurance-linear-regression\n"
    },
    {
     "output_type": "execute_result",
     "data": {
      "text/plain": "'https://jovian.ml/leosf/02-insurance-linear-regression'"
     },
     "metadata": {},
     "execution_count": 343
    }
   ],
   "source": [
    "# jovian.commit(project=project_name, environment=None)\n",
    "jovian.commit(message=\"training bs8 ep1600 lr1.3e-4\", filename=\"02-insurance-linear\", project=\"leosf/\" + project_name, environment=None)"
   ]
  },
  {
   "cell_type": "markdown",
   "metadata": {},
   "source": [
    "Now scroll back up, re-initialize the model, and try different set of values for batch size, number of epochs, learning rate etc. Commit each experiment and use the \"Compare\" and \"View Diff\" options on Jovian to compare the different results."
   ]
  },
  {
   "cell_type": "code",
   "execution_count": 341,
   "metadata": {},
   "outputs": [
    {
     "output_type": "execute_result",
     "data": {
      "text/plain": "[<matplotlib.lines.Line2D at 0x1de05b16ef0>]"
     },
     "metadata": {},
     "execution_count": 341
    },
    {
     "output_type": "display_data",
     "data": {
      "text/plain": "<Figure size 432x288 with 1 Axes>",
      "image/svg+xml": "<?xml version=\"1.0\" encoding=\"utf-8\" standalone=\"no\"?>\r\n<!DOCTYPE svg PUBLIC \"-//W3C//DTD SVG 1.1//EN\"\r\n  \"http://www.w3.org/Graphics/SVG/1.1/DTD/svg11.dtd\">\r\n<!-- Created with matplotlib (https://matplotlib.org/) -->\r\n<svg height=\"259.116562pt\" version=\"1.1\" viewBox=\"0 0 372.103125 259.116562\" width=\"372.103125pt\" xmlns=\"http://www.w3.org/2000/svg\" xmlns:xlink=\"http://www.w3.org/1999/xlink\">\r\n <defs>\r\n  <style type=\"text/css\">\r\n*{stroke-linecap:butt;stroke-linejoin:round;}\r\n  </style>\r\n </defs>\r\n <g id=\"figure_1\">\r\n  <g id=\"patch_1\">\r\n   <path d=\"M 0 259.116562 \r\nL 372.103125 259.116562 \r\nL 372.103125 0 \r\nL 0 0 \r\nz\r\n\" style=\"fill:none;\"/>\r\n  </g>\r\n  <g id=\"axes_1\">\r\n   <g id=\"patch_2\">\r\n    <path d=\"M 30.103125 235.238437 \r\nL 364.903125 235.238437 \r\nL 364.903125 17.798437 \r\nL 30.103125 17.798437 \r\nz\r\n\" style=\"fill:#ffffff;\"/>\r\n   </g>\r\n   <g id=\"matplotlib.axis_1\">\r\n    <g id=\"xtick_1\">\r\n     <g id=\"line2d_1\">\r\n      <defs>\r\n       <path d=\"M 0 0 \r\nL 0 3.5 \r\n\" id=\"mbd299d55d1\" style=\"stroke:#000000;stroke-width:0.8;\"/>\r\n      </defs>\r\n      <g>\r\n       <use style=\"stroke:#000000;stroke-width:0.8;\" x=\"45.321307\" xlink:href=\"#mbd299d55d1\" y=\"235.238437\"/>\r\n      </g>\r\n     </g>\r\n     <g id=\"text_1\">\r\n      <!-- 0 -->\r\n      <defs>\r\n       <path d=\"M 31.78125 66.40625 \r\nQ 24.171875 66.40625 20.328125 58.90625 \r\nQ 16.5 51.421875 16.5 36.375 \r\nQ 16.5 21.390625 20.328125 13.890625 \r\nQ 24.171875 6.390625 31.78125 6.390625 \r\nQ 39.453125 6.390625 43.28125 13.890625 \r\nQ 47.125 21.390625 47.125 36.375 \r\nQ 47.125 51.421875 43.28125 58.90625 \r\nQ 39.453125 66.40625 31.78125 66.40625 \r\nz\r\nM 31.78125 74.21875 \r\nQ 44.046875 74.21875 50.515625 64.515625 \r\nQ 56.984375 54.828125 56.984375 36.375 \r\nQ 56.984375 17.96875 50.515625 8.265625 \r\nQ 44.046875 -1.421875 31.78125 -1.421875 \r\nQ 19.53125 -1.421875 13.0625 8.265625 \r\nQ 6.59375 17.96875 6.59375 36.375 \r\nQ 6.59375 54.828125 13.0625 64.515625 \r\nQ 19.53125 74.21875 31.78125 74.21875 \r\nz\r\n\" id=\"DejaVuSans-48\"/>\r\n      </defs>\r\n      <g transform=\"translate(42.140057 249.836875)scale(0.1 -0.1)\">\r\n       <use xlink:href=\"#DejaVuSans-48\"/>\r\n      </g>\r\n     </g>\r\n    </g>\r\n    <g id=\"xtick_2\">\r\n     <g id=\"line2d_2\">\r\n      <g>\r\n       <use style=\"stroke:#000000;stroke-width:0.8;\" x=\"83.390555\" xlink:href=\"#mbd299d55d1\" y=\"235.238437\"/>\r\n      </g>\r\n     </g>\r\n     <g id=\"text_2\">\r\n      <!-- 200 -->\r\n      <defs>\r\n       <path d=\"M 19.1875 8.296875 \r\nL 53.609375 8.296875 \r\nL 53.609375 0 \r\nL 7.328125 0 \r\nL 7.328125 8.296875 \r\nQ 12.9375 14.109375 22.625 23.890625 \r\nQ 32.328125 33.6875 34.8125 36.53125 \r\nQ 39.546875 41.84375 41.421875 45.53125 \r\nQ 43.3125 49.21875 43.3125 52.78125 \r\nQ 43.3125 58.59375 39.234375 62.25 \r\nQ 35.15625 65.921875 28.609375 65.921875 \r\nQ 23.96875 65.921875 18.8125 64.3125 \r\nQ 13.671875 62.703125 7.8125 59.421875 \r\nL 7.8125 69.390625 \r\nQ 13.765625 71.78125 18.9375 73 \r\nQ 24.125 74.21875 28.421875 74.21875 \r\nQ 39.75 74.21875 46.484375 68.546875 \r\nQ 53.21875 62.890625 53.21875 53.421875 \r\nQ 53.21875 48.921875 51.53125 44.890625 \r\nQ 49.859375 40.875 45.40625 35.40625 \r\nQ 44.1875 33.984375 37.640625 27.21875 \r\nQ 31.109375 20.453125 19.1875 8.296875 \r\nz\r\n\" id=\"DejaVuSans-50\"/>\r\n      </defs>\r\n      <g transform=\"translate(73.846805 249.836875)scale(0.1 -0.1)\">\r\n       <use xlink:href=\"#DejaVuSans-50\"/>\r\n       <use x=\"63.623047\" xlink:href=\"#DejaVuSans-48\"/>\r\n       <use x=\"127.246094\" xlink:href=\"#DejaVuSans-48\"/>\r\n      </g>\r\n     </g>\r\n    </g>\r\n    <g id=\"xtick_3\">\r\n     <g id=\"line2d_3\">\r\n      <g>\r\n       <use style=\"stroke:#000000;stroke-width:0.8;\" x=\"121.459802\" xlink:href=\"#mbd299d55d1\" y=\"235.238437\"/>\r\n      </g>\r\n     </g>\r\n     <g id=\"text_3\">\r\n      <!-- 400 -->\r\n      <defs>\r\n       <path d=\"M 37.796875 64.3125 \r\nL 12.890625 25.390625 \r\nL 37.796875 25.390625 \r\nz\r\nM 35.203125 72.90625 \r\nL 47.609375 72.90625 \r\nL 47.609375 25.390625 \r\nL 58.015625 25.390625 \r\nL 58.015625 17.1875 \r\nL 47.609375 17.1875 \r\nL 47.609375 0 \r\nL 37.796875 0 \r\nL 37.796875 17.1875 \r\nL 4.890625 17.1875 \r\nL 4.890625 26.703125 \r\nz\r\n\" id=\"DejaVuSans-52\"/>\r\n      </defs>\r\n      <g transform=\"translate(111.916052 249.836875)scale(0.1 -0.1)\">\r\n       <use xlink:href=\"#DejaVuSans-52\"/>\r\n       <use x=\"63.623047\" xlink:href=\"#DejaVuSans-48\"/>\r\n       <use x=\"127.246094\" xlink:href=\"#DejaVuSans-48\"/>\r\n      </g>\r\n     </g>\r\n    </g>\r\n    <g id=\"xtick_4\">\r\n     <g id=\"line2d_4\">\r\n      <g>\r\n       <use style=\"stroke:#000000;stroke-width:0.8;\" x=\"159.52905\" xlink:href=\"#mbd299d55d1\" y=\"235.238437\"/>\r\n      </g>\r\n     </g>\r\n     <g id=\"text_4\">\r\n      <!-- 600 -->\r\n      <defs>\r\n       <path d=\"M 33.015625 40.375 \r\nQ 26.375 40.375 22.484375 35.828125 \r\nQ 18.609375 31.296875 18.609375 23.390625 \r\nQ 18.609375 15.53125 22.484375 10.953125 \r\nQ 26.375 6.390625 33.015625 6.390625 \r\nQ 39.65625 6.390625 43.53125 10.953125 \r\nQ 47.40625 15.53125 47.40625 23.390625 \r\nQ 47.40625 31.296875 43.53125 35.828125 \r\nQ 39.65625 40.375 33.015625 40.375 \r\nz\r\nM 52.59375 71.296875 \r\nL 52.59375 62.3125 \r\nQ 48.875 64.0625 45.09375 64.984375 \r\nQ 41.3125 65.921875 37.59375 65.921875 \r\nQ 27.828125 65.921875 22.671875 59.328125 \r\nQ 17.53125 52.734375 16.796875 39.40625 \r\nQ 19.671875 43.65625 24.015625 45.921875 \r\nQ 28.375 48.1875 33.59375 48.1875 \r\nQ 44.578125 48.1875 50.953125 41.515625 \r\nQ 57.328125 34.859375 57.328125 23.390625 \r\nQ 57.328125 12.15625 50.6875 5.359375 \r\nQ 44.046875 -1.421875 33.015625 -1.421875 \r\nQ 20.359375 -1.421875 13.671875 8.265625 \r\nQ 6.984375 17.96875 6.984375 36.375 \r\nQ 6.984375 53.65625 15.1875 63.9375 \r\nQ 23.390625 74.21875 37.203125 74.21875 \r\nQ 40.921875 74.21875 44.703125 73.484375 \r\nQ 48.484375 72.75 52.59375 71.296875 \r\nz\r\n\" id=\"DejaVuSans-54\"/>\r\n      </defs>\r\n      <g transform=\"translate(149.9853 249.836875)scale(0.1 -0.1)\">\r\n       <use xlink:href=\"#DejaVuSans-54\"/>\r\n       <use x=\"63.623047\" xlink:href=\"#DejaVuSans-48\"/>\r\n       <use x=\"127.246094\" xlink:href=\"#DejaVuSans-48\"/>\r\n      </g>\r\n     </g>\r\n    </g>\r\n    <g id=\"xtick_5\">\r\n     <g id=\"line2d_5\">\r\n      <g>\r\n       <use style=\"stroke:#000000;stroke-width:0.8;\" x=\"197.598298\" xlink:href=\"#mbd299d55d1\" y=\"235.238437\"/>\r\n      </g>\r\n     </g>\r\n     <g id=\"text_5\">\r\n      <!-- 800 -->\r\n      <defs>\r\n       <path d=\"M 31.78125 34.625 \r\nQ 24.75 34.625 20.71875 30.859375 \r\nQ 16.703125 27.09375 16.703125 20.515625 \r\nQ 16.703125 13.921875 20.71875 10.15625 \r\nQ 24.75 6.390625 31.78125 6.390625 \r\nQ 38.8125 6.390625 42.859375 10.171875 \r\nQ 46.921875 13.96875 46.921875 20.515625 \r\nQ 46.921875 27.09375 42.890625 30.859375 \r\nQ 38.875 34.625 31.78125 34.625 \r\nz\r\nM 21.921875 38.8125 \r\nQ 15.578125 40.375 12.03125 44.71875 \r\nQ 8.5 49.078125 8.5 55.328125 \r\nQ 8.5 64.0625 14.71875 69.140625 \r\nQ 20.953125 74.21875 31.78125 74.21875 \r\nQ 42.671875 74.21875 48.875 69.140625 \r\nQ 55.078125 64.0625 55.078125 55.328125 \r\nQ 55.078125 49.078125 51.53125 44.71875 \r\nQ 48 40.375 41.703125 38.8125 \r\nQ 48.828125 37.15625 52.796875 32.3125 \r\nQ 56.78125 27.484375 56.78125 20.515625 \r\nQ 56.78125 9.90625 50.3125 4.234375 \r\nQ 43.84375 -1.421875 31.78125 -1.421875 \r\nQ 19.734375 -1.421875 13.25 4.234375 \r\nQ 6.78125 9.90625 6.78125 20.515625 \r\nQ 6.78125 27.484375 10.78125 32.3125 \r\nQ 14.796875 37.15625 21.921875 38.8125 \r\nz\r\nM 18.3125 54.390625 \r\nQ 18.3125 48.734375 21.84375 45.5625 \r\nQ 25.390625 42.390625 31.78125 42.390625 \r\nQ 38.140625 42.390625 41.71875 45.5625 \r\nQ 45.3125 48.734375 45.3125 54.390625 \r\nQ 45.3125 60.0625 41.71875 63.234375 \r\nQ 38.140625 66.40625 31.78125 66.40625 \r\nQ 25.390625 66.40625 21.84375 63.234375 \r\nQ 18.3125 60.0625 18.3125 54.390625 \r\nz\r\n\" id=\"DejaVuSans-56\"/>\r\n      </defs>\r\n      <g transform=\"translate(188.054548 249.836875)scale(0.1 -0.1)\">\r\n       <use xlink:href=\"#DejaVuSans-56\"/>\r\n       <use x=\"63.623047\" xlink:href=\"#DejaVuSans-48\"/>\r\n       <use x=\"127.246094\" xlink:href=\"#DejaVuSans-48\"/>\r\n      </g>\r\n     </g>\r\n    </g>\r\n    <g id=\"xtick_6\">\r\n     <g id=\"line2d_6\">\r\n      <g>\r\n       <use style=\"stroke:#000000;stroke-width:0.8;\" x=\"235.667546\" xlink:href=\"#mbd299d55d1\" y=\"235.238437\"/>\r\n      </g>\r\n     </g>\r\n     <g id=\"text_6\">\r\n      <!-- 1000 -->\r\n      <defs>\r\n       <path d=\"M 12.40625 8.296875 \r\nL 28.515625 8.296875 \r\nL 28.515625 63.921875 \r\nL 10.984375 60.40625 \r\nL 10.984375 69.390625 \r\nL 28.421875 72.90625 \r\nL 38.28125 72.90625 \r\nL 38.28125 8.296875 \r\nL 54.390625 8.296875 \r\nL 54.390625 0 \r\nL 12.40625 0 \r\nz\r\n\" id=\"DejaVuSans-49\"/>\r\n      </defs>\r\n      <g transform=\"translate(222.942546 249.836875)scale(0.1 -0.1)\">\r\n       <use xlink:href=\"#DejaVuSans-49\"/>\r\n       <use x=\"63.623047\" xlink:href=\"#DejaVuSans-48\"/>\r\n       <use x=\"127.246094\" xlink:href=\"#DejaVuSans-48\"/>\r\n       <use x=\"190.869141\" xlink:href=\"#DejaVuSans-48\"/>\r\n      </g>\r\n     </g>\r\n    </g>\r\n    <g id=\"xtick_7\">\r\n     <g id=\"line2d_7\">\r\n      <g>\r\n       <use style=\"stroke:#000000;stroke-width:0.8;\" x=\"273.736794\" xlink:href=\"#mbd299d55d1\" y=\"235.238437\"/>\r\n      </g>\r\n     </g>\r\n     <g id=\"text_7\">\r\n      <!-- 1200 -->\r\n      <g transform=\"translate(261.011794 249.836875)scale(0.1 -0.1)\">\r\n       <use xlink:href=\"#DejaVuSans-49\"/>\r\n       <use x=\"63.623047\" xlink:href=\"#DejaVuSans-50\"/>\r\n       <use x=\"127.246094\" xlink:href=\"#DejaVuSans-48\"/>\r\n       <use x=\"190.869141\" xlink:href=\"#DejaVuSans-48\"/>\r\n      </g>\r\n     </g>\r\n    </g>\r\n    <g id=\"xtick_8\">\r\n     <g id=\"line2d_8\">\r\n      <g>\r\n       <use style=\"stroke:#000000;stroke-width:0.8;\" x=\"311.806042\" xlink:href=\"#mbd299d55d1\" y=\"235.238437\"/>\r\n      </g>\r\n     </g>\r\n     <g id=\"text_8\">\r\n      <!-- 1400 -->\r\n      <g transform=\"translate(299.081042 249.836875)scale(0.1 -0.1)\">\r\n       <use xlink:href=\"#DejaVuSans-49\"/>\r\n       <use x=\"63.623047\" xlink:href=\"#DejaVuSans-52\"/>\r\n       <use x=\"127.246094\" xlink:href=\"#DejaVuSans-48\"/>\r\n       <use x=\"190.869141\" xlink:href=\"#DejaVuSans-48\"/>\r\n      </g>\r\n     </g>\r\n    </g>\r\n    <g id=\"xtick_9\">\r\n     <g id=\"line2d_9\">\r\n      <g>\r\n       <use style=\"stroke:#000000;stroke-width:0.8;\" x=\"349.875289\" xlink:href=\"#mbd299d55d1\" y=\"235.238437\"/>\r\n      </g>\r\n     </g>\r\n     <g id=\"text_9\">\r\n      <!-- 1600 -->\r\n      <g transform=\"translate(337.150289 249.836875)scale(0.1 -0.1)\">\r\n       <use xlink:href=\"#DejaVuSans-49\"/>\r\n       <use x=\"63.623047\" xlink:href=\"#DejaVuSans-54\"/>\r\n       <use x=\"127.246094\" xlink:href=\"#DejaVuSans-48\"/>\r\n       <use x=\"190.869141\" xlink:href=\"#DejaVuSans-48\"/>\r\n      </g>\r\n     </g>\r\n    </g>\r\n   </g>\r\n   <g id=\"matplotlib.axis_2\">\r\n    <g id=\"ytick_1\">\r\n     <g id=\"line2d_10\">\r\n      <defs>\r\n       <path d=\"M 0 0 \r\nL -3.5 0 \r\n\" id=\"m658aab8d86\" style=\"stroke:#000000;stroke-width:0.8;\"/>\r\n      </defs>\r\n      <g>\r\n       <use style=\"stroke:#000000;stroke-width:0.8;\" x=\"30.103125\" xlink:href=\"#m658aab8d86\" y=\"225.132667\"/>\r\n      </g>\r\n     </g>\r\n     <g id=\"text_10\">\r\n      <!-- 0.4 -->\r\n      <defs>\r\n       <path d=\"M 10.6875 12.40625 \r\nL 21 12.40625 \r\nL 21 0 \r\nL 10.6875 0 \r\nz\r\n\" id=\"DejaVuSans-46\"/>\r\n      </defs>\r\n      <g transform=\"translate(7.2 228.931886)scale(0.1 -0.1)\">\r\n       <use xlink:href=\"#DejaVuSans-48\"/>\r\n       <use x=\"63.623047\" xlink:href=\"#DejaVuSans-46\"/>\r\n       <use x=\"95.410156\" xlink:href=\"#DejaVuSans-52\"/>\r\n      </g>\r\n     </g>\r\n    </g>\r\n    <g id=\"ytick_2\">\r\n     <g id=\"line2d_11\">\r\n      <g>\r\n       <use style=\"stroke:#000000;stroke-width:0.8;\" x=\"30.103125\" xlink:href=\"#m658aab8d86\" y=\"195.711765\"/>\r\n      </g>\r\n     </g>\r\n     <g id=\"text_11\">\r\n      <!-- 0.6 -->\r\n      <g transform=\"translate(7.2 199.510984)scale(0.1 -0.1)\">\r\n       <use xlink:href=\"#DejaVuSans-48\"/>\r\n       <use x=\"63.623047\" xlink:href=\"#DejaVuSans-46\"/>\r\n       <use x=\"95.410156\" xlink:href=\"#DejaVuSans-54\"/>\r\n      </g>\r\n     </g>\r\n    </g>\r\n    <g id=\"ytick_3\">\r\n     <g id=\"line2d_12\">\r\n      <g>\r\n       <use style=\"stroke:#000000;stroke-width:0.8;\" x=\"30.103125\" xlink:href=\"#m658aab8d86\" y=\"166.290863\"/>\r\n      </g>\r\n     </g>\r\n     <g id=\"text_12\">\r\n      <!-- 0.8 -->\r\n      <g transform=\"translate(7.2 170.090082)scale(0.1 -0.1)\">\r\n       <use xlink:href=\"#DejaVuSans-48\"/>\r\n       <use x=\"63.623047\" xlink:href=\"#DejaVuSans-46\"/>\r\n       <use x=\"95.410156\" xlink:href=\"#DejaVuSans-56\"/>\r\n      </g>\r\n     </g>\r\n    </g>\r\n    <g id=\"ytick_4\">\r\n     <g id=\"line2d_13\">\r\n      <g>\r\n       <use style=\"stroke:#000000;stroke-width:0.8;\" x=\"30.103125\" xlink:href=\"#m658aab8d86\" y=\"136.869961\"/>\r\n      </g>\r\n     </g>\r\n     <g id=\"text_13\">\r\n      <!-- 1.0 -->\r\n      <g transform=\"translate(7.2 140.66918)scale(0.1 -0.1)\">\r\n       <use xlink:href=\"#DejaVuSans-49\"/>\r\n       <use x=\"63.623047\" xlink:href=\"#DejaVuSans-46\"/>\r\n       <use x=\"95.410156\" xlink:href=\"#DejaVuSans-48\"/>\r\n      </g>\r\n     </g>\r\n    </g>\r\n    <g id=\"ytick_5\">\r\n     <g id=\"line2d_14\">\r\n      <g>\r\n       <use style=\"stroke:#000000;stroke-width:0.8;\" x=\"30.103125\" xlink:href=\"#m658aab8d86\" y=\"107.449059\"/>\r\n      </g>\r\n     </g>\r\n     <g id=\"text_14\">\r\n      <!-- 1.2 -->\r\n      <g transform=\"translate(7.2 111.248278)scale(0.1 -0.1)\">\r\n       <use xlink:href=\"#DejaVuSans-49\"/>\r\n       <use x=\"63.623047\" xlink:href=\"#DejaVuSans-46\"/>\r\n       <use x=\"95.410156\" xlink:href=\"#DejaVuSans-50\"/>\r\n      </g>\r\n     </g>\r\n    </g>\r\n    <g id=\"ytick_6\">\r\n     <g id=\"line2d_15\">\r\n      <g>\r\n       <use style=\"stroke:#000000;stroke-width:0.8;\" x=\"30.103125\" xlink:href=\"#m658aab8d86\" y=\"78.028157\"/>\r\n      </g>\r\n     </g>\r\n     <g id=\"text_15\">\r\n      <!-- 1.4 -->\r\n      <g transform=\"translate(7.2 81.827376)scale(0.1 -0.1)\">\r\n       <use xlink:href=\"#DejaVuSans-49\"/>\r\n       <use x=\"63.623047\" xlink:href=\"#DejaVuSans-46\"/>\r\n       <use x=\"95.410156\" xlink:href=\"#DejaVuSans-52\"/>\r\n      </g>\r\n     </g>\r\n    </g>\r\n    <g id=\"ytick_7\">\r\n     <g id=\"line2d_16\">\r\n      <g>\r\n       <use style=\"stroke:#000000;stroke-width:0.8;\" x=\"30.103125\" xlink:href=\"#m658aab8d86\" y=\"48.607255\"/>\r\n      </g>\r\n     </g>\r\n     <g id=\"text_16\">\r\n      <!-- 1.6 -->\r\n      <g transform=\"translate(7.2 52.406474)scale(0.1 -0.1)\">\r\n       <use xlink:href=\"#DejaVuSans-49\"/>\r\n       <use x=\"63.623047\" xlink:href=\"#DejaVuSans-46\"/>\r\n       <use x=\"95.410156\" xlink:href=\"#DejaVuSans-54\"/>\r\n      </g>\r\n     </g>\r\n    </g>\r\n    <g id=\"ytick_8\">\r\n     <g id=\"line2d_17\">\r\n      <g>\r\n       <use style=\"stroke:#000000;stroke-width:0.8;\" x=\"30.103125\" xlink:href=\"#m658aab8d86\" y=\"19.186353\"/>\r\n      </g>\r\n     </g>\r\n     <g id=\"text_17\">\r\n      <!-- 1.8 -->\r\n      <g transform=\"translate(7.2 22.985572)scale(0.1 -0.1)\">\r\n       <use xlink:href=\"#DejaVuSans-49\"/>\r\n       <use x=\"63.623047\" xlink:href=\"#DejaVuSans-46\"/>\r\n       <use x=\"95.410156\" xlink:href=\"#DejaVuSans-56\"/>\r\n      </g>\r\n     </g>\r\n    </g>\r\n    <g id=\"text_18\">\r\n     <!-- 1e8 -->\r\n     <defs>\r\n      <path d=\"M 56.203125 29.59375 \r\nL 56.203125 25.203125 \r\nL 14.890625 25.203125 \r\nQ 15.484375 15.921875 20.484375 11.0625 \r\nQ 25.484375 6.203125 34.421875 6.203125 \r\nQ 39.59375 6.203125 44.453125 7.46875 \r\nQ 49.3125 8.734375 54.109375 11.28125 \r\nL 54.109375 2.78125 \r\nQ 49.265625 0.734375 44.1875 -0.34375 \r\nQ 39.109375 -1.421875 33.890625 -1.421875 \r\nQ 20.796875 -1.421875 13.15625 6.1875 \r\nQ 5.515625 13.8125 5.515625 26.8125 \r\nQ 5.515625 40.234375 12.765625 48.109375 \r\nQ 20.015625 56 32.328125 56 \r\nQ 43.359375 56 49.78125 48.890625 \r\nQ 56.203125 41.796875 56.203125 29.59375 \r\nz\r\nM 47.21875 32.234375 \r\nQ 47.125 39.59375 43.09375 43.984375 \r\nQ 39.0625 48.390625 32.421875 48.390625 \r\nQ 24.90625 48.390625 20.390625 44.140625 \r\nQ 15.875 39.890625 15.1875 32.171875 \r\nz\r\n\" id=\"DejaVuSans-101\"/>\r\n     </defs>\r\n     <g transform=\"translate(30.103125 14.798437)scale(0.1 -0.1)\">\r\n      <use xlink:href=\"#DejaVuSans-49\"/>\r\n      <use x=\"63.623047\" xlink:href=\"#DejaVuSans-101\"/>\r\n      <use x=\"125.146484\" xlink:href=\"#DejaVuSans-56\"/>\r\n     </g>\r\n    </g>\r\n   </g>\r\n   <g id=\"line2d_18\">\r\n    <path clip-path=\"url(#pde39abe78c)\" d=\"M 45.321307 85.698375 \r\nL 45.511653 91.856793 \r\nL 45.701999 56.842142 \r\nL 45.892346 96.969487 \r\nL 46.273038 70.381453 \r\nL 46.463384 73.412865 \r\nL 46.65373 90.754768 \r\nL 46.844077 87.455838 \r\nL 47.034423 106.854804 \r\nL 47.224769 110.908569 \r\nL 47.415115 107.970315 \r\nL 47.795808 114.674986 \r\nL 47.986154 76.806719 \r\nL 48.1765 92.714165 \r\nL 48.366847 84.921922 \r\nL 48.557193 86.530986 \r\nL 48.937885 121.56276 \r\nL 49.128232 114.037729 \r\nL 49.318578 121.761316 \r\nL 49.508924 87.434325 \r\nL 49.69927 126.928297 \r\nL 49.889617 117.061409 \r\nL 50.079963 98.052929 \r\nL 50.270309 123.490983 \r\nL 50.460655 131.65646 \r\nL 50.651002 132.589043 \r\nL 50.841348 105.391561 \r\nL 51.22204 129.993449 \r\nL 51.412386 102.277065 \r\nL 51.602733 109.564704 \r\nL 51.793079 106.864148 \r\nL 51.983425 135.073274 \r\nL 52.173771 141.072337 \r\nL 52.364118 130.46343 \r\nL 52.554464 143.18158 \r\nL 52.74481 143.557544 \r\nL 52.935156 145.148191 \r\nL 53.125503 125.973883 \r\nL 53.315849 143.75783 \r\nL 53.506195 37.562295 \r\nL 53.696541 146.379397 \r\nL 53.886888 27.682074 \r\nL 54.077234 145.150451 \r\nL 54.457926 150.961255 \r\nL 54.648273 150.41312 \r\nL 54.838619 150.251094 \r\nL 55.028965 154.908211 \r\nL 55.219311 121.567373 \r\nL 55.409657 152.981636 \r\nL 55.600004 157.139821 \r\nL 55.79035 158.027179 \r\nL 55.980696 157.559634 \r\nL 56.171042 158.126634 \r\nL 56.361389 157.002473 \r\nL 56.742081 162.189048 \r\nL 56.932427 136.578271 \r\nL 57.31312 162.603965 \r\nL 57.503466 142.935539 \r\nL 57.693812 165.774362 \r\nL 57.884159 138.882939 \r\nL 58.264851 165.798899 \r\nL 58.455197 168.489358 \r\nL 58.645544 167.019078 \r\nL 58.83589 169.414716 \r\nL 59.216582 169.117777 \r\nL 59.406929 166.109101 \r\nL 59.597275 170.91337 \r\nL 59.787621 172.46338 \r\nL 59.977967 156.63284 \r\nL 60.168313 131.452184 \r\nL 60.35866 155.889492 \r\nL 60.549006 156.206261 \r\nL 60.739352 161.300172 \r\nL 60.929698 156.917635 \r\nL 61.120045 176.798303 \r\nL 61.310391 158.835807 \r\nL 61.500737 177.727639 \r\nL 61.691083 166.691729 \r\nL 61.88143 167.492142 \r\nL 62.262122 129.827656 \r\nL 62.642815 178.940345 \r\nL 62.833161 181.410924 \r\nL 63.023507 174.992966 \r\nL 63.213853 182.921864 \r\nL 63.4042 159.913024 \r\nL 63.594546 183.290049 \r\nL 63.784892 178.206305 \r\nL 63.975238 183.833618 \r\nL 64.165584 185.208444 \r\nL 64.355931 176.899123 \r\nL 64.546277 180.309723 \r\nL 64.736623 186.102157 \r\nL 64.926969 186.962948 \r\nL 65.117316 187.290044 \r\nL 65.307662 168.897579 \r\nL 65.498008 187.536103 \r\nL 65.688354 185.882624 \r\nL 65.878701 164.955696 \r\nL 66.069047 188.444114 \r\nL 66.259393 178.544657 \r\nL 66.449739 188.714274 \r\nL 66.640086 181.996459 \r\nL 66.830432 189.52858 \r\nL 67.020778 168.602899 \r\nL 67.211124 180.47235 \r\nL 67.401471 180.50556 \r\nL 67.591817 189.300557 \r\nL 67.782163 170.381216 \r\nL 67.972509 190.110567 \r\nL 68.162856 192.445604 \r\nL 68.353202 192.084474 \r\nL 68.543548 193.948635 \r\nL 68.733894 194.632954 \r\nL 68.92424 194.486232 \r\nL 69.114587 187.496008 \r\nL 69.304933 190.249245 \r\nL 69.495279 195.382575 \r\nL 69.685625 192.588642 \r\nL 70.066318 197.118073 \r\nL 70.44701 191.410553 \r\nL 70.637357 198.189464 \r\nL 70.827703 184.764071 \r\nL 71.018049 198.269942 \r\nL 71.208395 199.384624 \r\nL 71.398742 180.634906 \r\nL 71.589088 199.907604 \r\nL 71.779434 184.916189 \r\nL 72.160127 200.71496 \r\nL 72.350473 199.007607 \r\nL 72.540819 201.043392 \r\nL 72.731165 200.80846 \r\nL 72.921511 193.745672 \r\nL 73.111858 180.778563 \r\nL 73.302204 186.862711 \r\nL 73.49255 202.705226 \r\nL 73.682896 196.767976 \r\nL 73.873243 200.109878 \r\nL 74.063589 191.106753 \r\nL 74.253935 203.323824 \r\nL 74.444281 193.8913 \r\nL 74.634628 128.911089 \r\nL 74.824974 204.227145 \r\nL 75.01532 204.587087 \r\nL 75.205666 194.341493 \r\nL 75.396013 194.864696 \r\nL 75.586359 204.989817 \r\nL 75.967051 186.220971 \r\nL 76.157398 182.544252 \r\nL 76.53809 201.982489 \r\nL 76.918783 206.827671 \r\nL 77.109129 205.904796 \r\nL 77.299475 203.054269 \r\nL 77.489821 194.347965 \r\nL 77.680167 207.248066 \r\nL 77.870514 206.347857 \r\nL 78.06086 168.431316 \r\nL 78.251206 185.890592 \r\nL 78.441552 183.901509 \r\nL 78.631899 208.324371 \r\nL 78.822245 208.233101 \r\nL 79.012591 208.858778 \r\nL 79.393284 194.37545 \r\nL 79.58363 205.758368 \r\nL 79.773976 205.602737 \r\nL 79.964322 200.501818 \r\nL 80.154669 208.547505 \r\nL 80.345015 209.178118 \r\nL 80.535361 205.271481 \r\nL 80.725707 209.966463 \r\nL 80.916054 195.069807 \r\nL 81.1064 205.983044 \r\nL 81.487092 181.014048 \r\nL 81.677438 188.532218 \r\nL 81.867785 211.302437 \r\nL 82.058131 210.822535 \r\nL 82.248477 203.544033 \r\nL 82.438823 210.760622 \r\nL 82.62917 211.888378 \r\nL 82.819516 210.543913 \r\nL 83.009862 212.063373 \r\nL 83.200208 191.782804 \r\nL 83.390555 209.704252 \r\nL 83.580901 212.951302 \r\nL 83.771247 208.455923 \r\nL 83.961593 142.660583 \r\nL 84.15194 200.327369 \r\nL 84.532632 203.997086 \r\nL 84.722978 213.019694 \r\nL 84.913325 211.503682 \r\nL 85.294017 198.708702 \r\nL 85.484363 200.954035 \r\nL 85.865056 212.692751 \r\nL 86.055402 194.545644 \r\nL 86.245748 212.994651 \r\nL 86.436094 214.183073 \r\nL 86.626441 212.359194 \r\nL 86.816787 188.50468 \r\nL 87.007133 210.326269 \r\nL 87.197479 209.452639 \r\nL 87.387826 210.519447 \r\nL 87.578172 213.747155 \r\nL 87.768518 198.935449 \r\nL 87.958864 215.451231 \r\nL 88.149211 209.439594 \r\nL 88.339557 215.115733 \r\nL 88.529903 213.003012 \r\nL 88.720249 200.972905 \r\nL 88.910596 212.904599 \r\nL 89.100942 210.386876 \r\nL 89.291288 213.437471 \r\nL 89.671981 201.824811 \r\nL 89.862327 216.355989 \r\nL 90.052673 215.581336 \r\nL 90.243019 200.726658 \r\nL 90.433365 215.198941 \r\nL 90.623712 215.372942 \r\nL 90.814058 172.891231 \r\nL 91.004404 211.91914 \r\nL 91.19475 216.995287 \r\nL 91.385097 214.940373 \r\nL 91.575443 217.111123 \r\nL 91.765789 202.887053 \r\nL 91.956135 209.522843 \r\nL 92.146482 202.628531 \r\nL 92.336828 201.386251 \r\nL 92.527174 217.430163 \r\nL 92.71752 216.994946 \r\nL 92.907867 212.632868 \r\nL 93.098213 215.15711 \r\nL 93.288559 214.547815 \r\nL 93.669252 217.976274 \r\nL 93.859598 201.603048 \r\nL 94.049944 218.033786 \r\nL 94.24029 212.741513 \r\nL 94.430637 217.327102 \r\nL 94.620983 216.067834 \r\nL 94.811329 211.623666 \r\nL 95.001675 218.396928 \r\nL 95.192021 216.581847 \r\nL 95.382368 212.417354 \r\nL 95.572714 217.743608 \r\nL 95.76306 217.985306 \r\nL 95.953406 213.30976 \r\nL 96.143753 211.656406 \r\nL 96.334099 216.792766 \r\nL 96.524445 185.973335 \r\nL 96.714791 219.199154 \r\nL 96.905138 183.932189 \r\nL 97.095484 214.115646 \r\nL 97.28583 218.646018 \r\nL 97.476176 212.231072 \r\nL 97.666523 219.870574 \r\nL 97.856869 219.563097 \r\nL 98.047215 210.197335 \r\nL 98.237561 210.119775 \r\nL 98.427908 219.210975 \r\nL 98.618254 219.561796 \r\nL 98.8086 215.821858 \r\nL 98.998946 215.417103 \r\nL 99.189292 220.310858 \r\nL 99.379639 216.131413 \r\nL 99.569985 218.536389 \r\nL 99.760331 218.251701 \r\nL 99.950677 211.926484 \r\nL 100.141024 217.882881 \r\nL 100.33137 217.912243 \r\nL 100.521716 220.499505 \r\nL 100.712062 218.193859 \r\nL 100.902409 211.928061 \r\nL 101.092755 220.192616 \r\nL 101.283101 212.055989 \r\nL 101.473447 218.874789 \r\nL 101.663794 217.99315 \r\nL 102.044486 207.095083 \r\nL 102.234832 213.746414 \r\nL 102.425179 215.498558 \r\nL 102.615525 219.613953 \r\nL 102.805871 182.441338 \r\nL 102.996217 220.012948 \r\nL 103.186564 220.47159 \r\nL 103.37691 218.519761 \r\nL 103.567256 207.163134 \r\nL 103.757602 220.833632 \r\nL 103.947948 219.654754 \r\nL 104.138295 217.693051 \r\nL 104.328641 221.076596 \r\nL 104.518987 221.59235 \r\nL 104.709333 218.449868 \r\nL 104.89968 219.762429 \r\nL 105.090026 219.735438 \r\nL 105.280372 212.085215 \r\nL 105.470718 213.119801 \r\nL 105.661065 219.807402 \r\nL 106.041757 221.911767 \r\nL 106.232103 221.781921 \r\nL 106.42245 221.389905 \r\nL 106.612796 220.051748 \r\nL 106.803142 204.904691 \r\nL 106.993488 221.036042 \r\nL 107.183835 207.718212 \r\nL 107.374181 209.27476 \r\nL 107.564527 213.513018 \r\nL 107.754873 206.960518 \r\nL 108.135566 221.74162 \r\nL 108.325912 214.314602 \r\nL 108.516258 212.939086 \r\nL 108.706604 218.300516 \r\nL 108.896951 217.33404 \r\nL 109.087297 172.206842 \r\nL 109.277643 220.602078 \r\nL 109.467989 211.504588 \r\nL 109.658336 221.713476 \r\nL 109.848682 212.081744 \r\nL 110.229374 218.693009 \r\nL 110.419721 213.417241 \r\nL 110.610067 222.191919 \r\nL 110.800413 215.743928 \r\nL 110.990759 213.090922 \r\nL 111.181106 219.32384 \r\nL 111.371452 221.749352 \r\nL 111.561798 222.714775 \r\nL 111.752144 220.426241 \r\nL 112.132837 221.544718 \r\nL 112.323183 220.538652 \r\nL 112.513529 217.224723 \r\nL 112.703875 202.192249 \r\nL 113.084568 210.781334 \r\nL 113.274914 222.650149 \r\nL 113.46526 221.022208 \r\nL 113.655607 222.715317 \r\nL 113.845953 222.516979 \r\nL 114.036299 220.426806 \r\nL 114.226645 199.404795 \r\nL 114.416992 220.145725 \r\nL 114.607338 220.891191 \r\nL 114.797684 220.050024 \r\nL 115.178377 213.251183 \r\nL 115.368723 214.514123 \r\nL 115.559069 219.616601 \r\nL 115.749415 220.073979 \r\nL 115.939762 220.189526 \r\nL 116.130108 206.421062 \r\nL 116.320454 219.959367 \r\nL 116.5108 211.136068 \r\nL 116.701146 222.049004 \r\nL 116.891493 210.685787 \r\nL 117.081839 223.408544 \r\nL 117.272185 221.187901 \r\nL 117.462531 222.496343 \r\nL 117.652878 222.754494 \r\nL 117.843224 212.808381 \r\nL 118.03357 220.404787 \r\nL 118.223916 218.979945 \r\nL 118.414263 222.331692 \r\nL 118.604609 216.962383 \r\nL 118.794955 217.24167 \r\nL 118.985301 223.11337 \r\nL 119.175648 202.657781 \r\nL 119.365994 221.063351 \r\nL 119.55634 219.394415 \r\nL 119.746686 220.382563 \r\nL 119.937033 222.836901 \r\nL 120.127379 215.355554 \r\nL 120.317725 222.468693 \r\nL 120.508071 222.537656 \r\nL 120.698418 223.24058 \r\nL 120.888764 223.427161 \r\nL 121.269456 218.406896 \r\nL 121.459802 222.563393 \r\nL 121.650149 221.325703 \r\nL 121.840495 222.931937 \r\nL 122.030841 222.361101 \r\nL 122.221187 222.607772 \r\nL 122.411534 222.44385 \r\nL 122.60188 220.624991 \r\nL 122.792226 217.146264 \r\nL 122.982572 223.055946 \r\nL 123.172919 223.203933 \r\nL 123.363265 221.41769 \r\nL 123.553611 216.373335 \r\nL 123.743957 201.434784 \r\nL 123.934304 220.414796 \r\nL 124.314996 210.610975 \r\nL 124.505342 221.316776 \r\nL 124.695689 213.850234 \r\nL 124.886035 221.191626 \r\nL 125.076381 211.106211 \r\nL 125.266727 220.838781 \r\nL 125.64742 209.856788 \r\nL 125.837766 221.961741 \r\nL 126.028112 219.213011 \r\nL 126.218458 223.272978 \r\nL 126.408805 214.47993 \r\nL 126.599151 221.908984 \r\nL 126.789497 221.644743 \r\nL 126.979843 222.996751 \r\nL 127.17019 215.09172 \r\nL 127.360536 222.93788 \r\nL 127.550882 222.889029 \r\nL 127.741228 222.149382 \r\nL 127.931575 222.804539 \r\nL 128.121921 215.988833 \r\nL 128.312267 222.247042 \r\nL 128.502613 217.316716 \r\nL 128.69296 223.361353 \r\nL 128.883306 223.159613 \r\nL 129.073652 219.967116 \r\nL 129.263998 213.526763 \r\nL 129.454345 220.686316 \r\nL 129.644691 216.964589 \r\nL 129.835037 222.111064 \r\nL 130.025383 222.881509 \r\nL 130.406076 213.001953 \r\nL 130.596422 220.73998 \r\nL 130.786768 223.843679 \r\nL 130.977114 216.172644 \r\nL 131.357807 223.058017 \r\nL 131.548153 222.839802 \r\nL 131.738499 222.981135 \r\nL 131.928846 217.863263 \r\nL 132.309538 224.001063 \r\nL 132.499884 223.532653 \r\nL 132.690231 222.282806 \r\nL 132.880577 217.186953 \r\nL 133.070923 222.865599 \r\nL 133.261269 223.20674 \r\nL 133.451616 223.955608 \r\nL 133.641962 215.274 \r\nL 133.832308 222.133848 \r\nL 134.022654 224.318585 \r\nL 134.213 208.899838 \r\nL 134.403347 224.210469 \r\nL 134.593693 216.073024 \r\nL 134.784039 217.22194 \r\nL 134.974385 222.694751 \r\nL 135.355078 217.817737 \r\nL 135.545424 209.677008 \r\nL 135.73577 223.615067 \r\nL 135.926117 221.069653 \r\nL 136.116463 224.170804 \r\nL 136.306809 224.395021 \r\nL 136.497155 216.051494 \r\nL 136.687502 222.713393 \r\nL 136.877848 214.207933 \r\nL 137.068194 224.31562 \r\nL 137.25854 219.872363 \r\nL 137.448887 224.095386 \r\nL 137.639233 220.37103 \r\nL 137.829579 224.204473 \r\nL 138.019925 203.741553 \r\nL 138.210272 220.37855 \r\nL 138.400618 222.706849 \r\nL 138.590964 221.017695 \r\nL 138.78131 214.100565 \r\nL 138.971656 216.844746 \r\nL 139.162003 224.101565 \r\nL 139.352349 224.315908 \r\nL 139.542695 221.979877 \r\nL 139.733041 223.836277 \r\nL 139.923388 214.723505 \r\nL 140.113734 223.246387 \r\nL 140.30408 223.631795 \r\nL 140.494426 223.344418 \r\nL 140.684773 218.593107 \r\nL 140.875119 223.269818 \r\nL 141.065465 216.25002 \r\nL 141.255811 221.979888 \r\nL 141.446158 216.161587 \r\nL 141.636504 221.62333 \r\nL 141.82685 220.916364 \r\nL 142.017196 222.275192 \r\nL 142.207543 219.384412 \r\nL 142.397889 221.367263 \r\nL 142.588235 218.137571 \r\nL 142.778581 209.257937 \r\nL 142.968927 211.371652 \r\nL 143.159274 221.162481 \r\nL 143.34962 221.272969 \r\nL 143.539966 224.012525 \r\nL 143.730312 224.524602 \r\nL 143.920659 223.617414 \r\nL 144.111005 220.691159 \r\nL 144.301351 201.558834 \r\nL 144.491697 219.927004 \r\nL 144.682044 221.296723 \r\nL 144.87239 218.820813 \r\nL 145.062736 211.667044 \r\nL 145.253082 216.442357 \r\nL 145.443429 224.235665 \r\nL 145.633775 218.263299 \r\nL 145.824121 200.030136 \r\nL 146.014467 220.360132 \r\nL 146.204814 222.886299 \r\nL 146.39516 221.575033 \r\nL 146.585506 223.698993 \r\nL 146.775852 222.788457 \r\nL 146.966199 218.463684 \r\nL 147.156545 221.577728 \r\nL 147.346891 215.891297 \r\nL 147.537237 217.112571 \r\nL 147.727583 223.172129 \r\nL 147.91793 219.020916 \r\nL 148.108276 223.338563 \r\nL 148.298622 223.243498 \r\nL 148.488968 221.768234 \r\nL 148.679315 223.724195 \r\nL 148.869661 223.192653 \r\nL 149.060007 214.388566 \r\nL 149.250353 224.208622 \r\nL 149.4407 221.334358 \r\nL 149.631046 207.732587 \r\nL 150.011738 224.609752 \r\nL 150.202085 207.498838 \r\nL 150.392431 221.846441 \r\nL 150.582777 224.81441 \r\nL 150.773123 214.567669 \r\nL 150.96347 223.446055 \r\nL 151.344162 216.227302 \r\nL 151.534508 224.798752 \r\nL 151.724854 224.69116 \r\nL 151.915201 223.648195 \r\nL 152.295893 222.683536 \r\nL 152.486239 223.358475 \r\nL 152.676586 218.330343 \r\nL 152.866932 224.351478 \r\nL 153.057278 223.096282 \r\nL 153.247624 218.162091 \r\nL 153.437971 222.097884 \r\nL 153.628317 208.83164 \r\nL 153.818663 223.063513 \r\nL 154.009009 218.493264 \r\nL 154.199356 209.571464 \r\nL 154.580048 224.690542 \r\nL 154.770394 223.245911 \r\nL 154.960741 224.406354 \r\nL 155.151087 224.593524 \r\nL 155.341433 224.535523 \r\nL 155.531779 216.70152 \r\nL 155.722126 222.283006 \r\nL 155.912472 223.114994 \r\nL 156.102818 219.66341 \r\nL 156.293164 223.454552 \r\nL 156.48351 221.25165 \r\nL 156.673857 223.342953 \r\nL 156.864203 208.375504 \r\nL 157.054549 222.821785 \r\nL 157.244895 224.353473 \r\nL 157.435242 218.576108 \r\nL 157.625588 222.288778 \r\nL 157.815934 220.889508 \r\nL 158.00628 218.36899 \r\nL 158.196627 223.6649 \r\nL 158.386973 223.961686 \r\nL 158.577319 215.268798 \r\nL 158.767665 224.369678 \r\nL 158.958012 219.991994 \r\nL 159.338704 221.232644 \r\nL 159.52905 222.369639 \r\nL 159.719397 224.255148 \r\nL 159.909743 222.019071 \r\nL 160.100089 222.655475 \r\nL 160.290435 223.80309 \r\nL 160.480781 223.112452 \r\nL 160.671128 224.58455 \r\nL 160.861474 217.5109 \r\nL 161.05182 223.004124 \r\nL 161.242166 214.672819 \r\nL 161.432513 220.701991 \r\nL 161.622859 219.877029 \r\nL 161.813205 220.459957 \r\nL 162.003551 213.149652 \r\nL 162.193898 224.40074 \r\nL 162.384244 217.467963 \r\nL 162.764936 222.575238 \r\nL 163.145629 224.531569 \r\nL 163.335975 224.109844 \r\nL 163.526321 224.618878 \r\nL 163.716668 206.538475 \r\nL 163.907014 211.854903 \r\nL 164.09736 193.59143 \r\nL 164.478053 222.138096 \r\nL 164.668399 223.867551 \r\nL 164.858745 214.659562 \r\nL 165.049091 220.395214 \r\nL 165.239437 222.446439 \r\nL 165.429784 215.68957 \r\nL 165.62013 223.335362 \r\nL 165.810476 218.997992 \r\nL 166.191169 222.52311 \r\nL 166.381515 217.870124 \r\nL 166.571861 224.289058 \r\nL 166.762207 223.758547 \r\nL 166.952554 224.466484 \r\nL 167.1429 223.847821 \r\nL 167.333246 224.355844 \r\nL 167.523592 219.210146 \r\nL 167.713939 222.364902 \r\nL 167.904285 221.088588 \r\nL 168.094631 221.790983 \r\nL 168.284977 224.948122 \r\nL 168.475324 224.453239 \r\nL 168.66567 220.707187 \r\nL 168.856016 223.954307 \r\nL 169.046362 218.045007 \r\nL 169.236708 224.437887 \r\nL 169.427055 211.394877 \r\nL 169.617401 221.09732 \r\nL 169.807747 197.451912 \r\nL 169.998093 225.126271 \r\nL 170.18844 224.403182 \r\nL 170.378786 213.79893 \r\nL 170.569132 224.322745 \r\nL 170.759478 217.496255 \r\nL 170.949825 223.042701 \r\nL 171.140171 225.031448 \r\nL 171.330517 215.761992 \r\nL 171.520863 222.864392 \r\nL 171.71121 217.437495 \r\nL 171.901556 219.594006 \r\nL 172.091902 223.181814 \r\nL 172.282248 223.495965 \r\nL 172.472595 225.354801 \r\nL 172.662941 218.967364 \r\nL 172.853287 217.218768 \r\nL 173.424326 224.568039 \r\nL 173.614672 224.522337 \r\nL 173.805018 219.154746 \r\nL 173.995364 219.308653 \r\nL 174.185711 224.318879 \r\nL 174.376057 221.741526 \r\nL 174.566403 214.934365 \r\nL 174.756749 215.287286 \r\nL 174.947096 221.956387 \r\nL 175.137442 222.214855 \r\nL 175.327788 210.051348 \r\nL 175.708481 223.961768 \r\nL 175.898827 224.078152 \r\nL 176.089173 213.941145 \r\nL 176.469866 221.923247 \r\nL 176.660212 224.205132 \r\nL 176.850558 217.576685 \r\nL 177.040904 223.61988 \r\nL 177.421597 224.369224 \r\nL 177.611943 220.51551 \r\nL 177.802289 219.058705 \r\nL 177.992635 222.770916 \r\nL 178.182982 212.851088 \r\nL 178.373328 223.0773 \r\nL 178.563674 224.133263 \r\nL 178.75402 215.562489 \r\nL 178.944367 220.760486 \r\nL 179.325059 210.453544 \r\nL 179.515405 222.038589 \r\nL 179.705752 224.720363 \r\nL 179.896098 214.600938 \r\nL 180.086444 224.545003 \r\nL 180.27679 223.283687 \r\nL 180.467137 223.182956 \r\nL 180.657483 212.07513 \r\nL 180.847829 216.568013 \r\nL 181.038175 223.823808 \r\nL 181.228522 222.201434 \r\nL 181.418868 224.703652 \r\nL 181.609214 218.728908 \r\nL 181.79956 224.356267 \r\nL 182.180253 224.300897 \r\nL 182.370599 210.284203 \r\nL 182.560945 223.79181 \r\nL 182.751291 222.025755 \r\nL 182.941638 217.431123 \r\nL 183.131984 207.699259 \r\nL 183.703023 221.548778 \r\nL 183.893369 217.007821 \r\nL 184.083715 224.00986 \r\nL 184.274061 223.598397 \r\nL 184.464408 215.419427 \r\nL 184.654754 217.875143 \r\nL 184.8451 224.176971 \r\nL 185.035446 223.752245 \r\nL 185.225793 218.829639 \r\nL 185.416139 222.234473 \r\nL 185.606485 223.163262 \r\nL 185.796831 221.725515 \r\nL 185.987178 224.568557 \r\nL 186.177524 224.937342 \r\nL 186.558216 218.838295 \r\nL 186.748562 224.702422 \r\nL 187.129255 212.69018 \r\nL 187.319601 224.355867 \r\nL 187.509947 223.404301 \r\nL 187.700294 224.818058 \r\nL 187.89064 215.577112 \r\nL 188.080986 223.859849 \r\nL 188.271332 214.415904 \r\nL 188.652025 224.826608 \r\nL 188.842371 216.020814 \r\nL 189.223064 224.457169 \r\nL 189.603756 223.284994 \r\nL 189.794102 220.612923 \r\nL 189.984449 223.181856 \r\nL 190.174795 223.735651 \r\nL 190.365141 216.011005 \r\nL 190.555487 200.898759 \r\nL 190.745834 223.694309 \r\nL 190.93618 220.49661 \r\nL 191.316872 224.442653 \r\nL 191.507218 212.983447 \r\nL 191.697565 224.066648 \r\nL 191.887911 224.12193 \r\nL 192.078257 225.025534 \r\nL 192.268603 223.569082 \r\nL 192.45895 224.669118 \r\nL 192.649296 223.434193 \r\nL 192.839642 224.305134 \r\nL 193.029988 224.312813 \r\nL 193.220335 224.565921 \r\nL 193.410681 221.542517 \r\nL 193.601027 224.399775 \r\nL 193.791373 224.540607 \r\nL 193.98172 224.173687 \r\nL 194.172066 220.747953 \r\nL 194.362412 209.773356 \r\nL 194.552758 221.920287 \r\nL 194.743105 221.61165 \r\nL 195.123797 224.521431 \r\nL 195.314143 224.054662 \r\nL 195.504489 224.163849 \r\nL 195.694836 222.988966 \r\nL 195.885182 217.232143 \r\nL 196.075528 224.433597 \r\nL 196.265874 222.605312 \r\nL 196.456221 224.455581 \r\nL 196.646567 222.700206 \r\nL 196.836913 224.04826 \r\nL 197.217606 216.51016 \r\nL 197.407952 224.40297 \r\nL 197.598298 224.467326 \r\nL 197.788644 223.127633 \r\nL 197.978991 210.892333 \r\nL 198.169337 221.559487 \r\nL 198.359683 191.392806 \r\nL 198.550029 222.93545 \r\nL 198.740376 224.293018 \r\nL 198.930722 215.423958 \r\nL 199.121068 222.588771 \r\nL 199.311414 222.878497 \r\nL 199.501761 222.706938 \r\nL 199.692107 221.576345 \r\nL 199.882453 224.594312 \r\nL 200.072799 217.193396 \r\nL 200.263145 223.450398 \r\nL 200.453492 224.570816 \r\nL 200.643838 224.834916 \r\nL 200.834184 222.403184 \r\nL 201.02453 205.786806 \r\nL 201.214877 224.84612 \r\nL 201.405223 224.338021 \r\nL 201.595569 219.458876 \r\nL 201.785915 223.734875 \r\nL 201.976262 220.799074 \r\nL 202.166608 221.707051 \r\nL 202.356954 224.455551 \r\nL 202.5473 223.513523 \r\nL 202.927993 222.995663 \r\nL 203.118339 225.112173 \r\nL 203.499032 222.824839 \r\nL 203.689378 214.929616 \r\nL 203.879724 221.513208 \r\nL 204.07007 222.53306 \r\nL 204.260416 224.672878 \r\nL 204.450763 224.070343 \r\nL 204.641109 221.6189 \r\nL 204.831455 221.30622 \r\nL 205.212148 223.634037 \r\nL 205.402494 213.468869 \r\nL 205.783186 223.97286 \r\nL 205.973533 223.361853 \r\nL 206.163879 217.209483 \r\nL 206.354225 223.993467 \r\nL 206.544571 222.938957 \r\nL 206.734918 223.612548 \r\nL 206.925264 222.487181 \r\nL 207.11561 217.47892 \r\nL 207.305956 222.600881 \r\nL 207.496303 222.82558 \r\nL 207.686649 224.36753 \r\nL 207.876995 217.267642 \r\nL 208.067341 223.469268 \r\nL 208.257688 225.216464 \r\nL 208.448034 222.35441 \r\nL 208.63838 221.223124 \r\nL 208.828726 217.584829 \r\nL 209.019072 223.960662 \r\nL 209.209419 212.600952 \r\nL 209.590111 224.491251 \r\nL 209.780457 223.975961 \r\nL 209.970804 224.078852 \r\nL 210.16115 223.334733 \r\nL 210.351496 221.107047 \r\nL 210.541842 225.242613 \r\nL 210.732189 222.628796 \r\nL 210.922535 206.699554 \r\nL 211.112881 222.901863 \r\nL 211.303227 217.246918 \r\nL 211.68392 222.035629 \r\nL 211.874266 224.134999 \r\nL 212.064612 222.798507 \r\nL 212.254959 224.520701 \r\nL 212.445305 222.552101 \r\nL 212.635651 223.348443 \r\nL 212.825997 211.227119 \r\nL 213.016343 220.909185 \r\nL 213.20669 217.140838 \r\nL 213.397036 217.609254 \r\nL 213.587382 212.945082 \r\nL 213.777728 218.897955 \r\nL 213.968075 209.382517 \r\nL 214.158421 219.810921 \r\nL 214.348767 222.232649 \r\nL 214.539113 218.525498 \r\nL 214.72946 217.699424 \r\nL 214.919806 207.484792 \r\nL 215.110152 224.462742 \r\nL 215.300498 223.486144 \r\nL 215.490845 215.497475 \r\nL 215.681191 223.543056 \r\nL 215.871537 206.026286 \r\nL 216.061883 223.271872 \r\nL 216.25223 218.89769 \r\nL 216.442576 223.148281 \r\nL 216.632922 223.581086 \r\nL 216.823268 221.977134 \r\nL 217.013615 218.319193 \r\nL 217.203961 221.216416 \r\nL 217.394307 215.178099 \r\nL 217.584653 219.358751 \r\nL 217.774999 216.571456 \r\nL 217.965346 208.463608 \r\nL 218.155692 208.773963 \r\nL 218.536384 224.069143 \r\nL 218.726731 223.393521 \r\nL 218.917077 225.274382 \r\nL 219.107423 211.881058 \r\nL 219.297769 218.816165 \r\nL 219.868808 224.709748 \r\nL 220.059154 214.764377 \r\nL 220.249501 223.54751 \r\nL 220.439847 224.858906 \r\nL 220.630193 222.839738 \r\nL 220.820539 157.800921 \r\nL 221.010886 218.636909 \r\nL 221.201232 217.500144 \r\nL 221.391578 217.31907 \r\nL 221.581924 224.575094 \r\nL 221.77227 223.889705 \r\nL 221.962617 219.996725 \r\nL 222.152963 219.846543 \r\nL 222.343309 222.407527 \r\nL 222.533655 220.266527 \r\nL 222.724002 225.330635 \r\nL 222.914348 223.224139 \r\nL 223.104694 214.466019 \r\nL 223.29504 223.9693 \r\nL 223.485387 206.883429 \r\nL 223.675733 221.965319 \r\nL 223.866079 221.840139 \r\nL 224.056425 221.061844 \r\nL 224.246772 213.598273 \r\nL 224.437118 223.786614 \r\nL 224.627464 224.067884 \r\nL 224.81781 224.80832 \r\nL 225.008157 223.27865 \r\nL 225.198503 205.069177 \r\nL 225.388849 223.223792 \r\nL 225.579195 217.814036 \r\nL 225.769542 221.026157 \r\nL 225.959888 221.551579 \r\nL 226.34058 214.535894 \r\nL 226.530926 210.873274 \r\nL 226.911619 216.532596 \r\nL 227.101965 224.596524 \r\nL 227.292311 223.851428 \r\nL 227.482658 221.067987 \r\nL 227.673004 221.782957 \r\nL 227.86335 224.371049 \r\nL 228.053696 212.539792 \r\nL 228.244043 223.916872 \r\nL 228.434389 224.857953 \r\nL 228.624735 224.109673 \r\nL 228.815081 218.985888 \r\nL 229.005428 223.52977 \r\nL 229.195774 221.429029 \r\nL 229.38612 221.017972 \r\nL 229.576466 224.084695 \r\nL 229.766813 206.492431 \r\nL 230.147505 214.537094 \r\nL 230.337851 207.06854 \r\nL 230.718544 224.430002 \r\nL 230.90889 224.39751 \r\nL 231.099236 223.894453 \r\nL 231.289582 217.642559 \r\nL 231.479929 219.588387 \r\nL 231.670275 223.458648 \r\nL 231.860621 221.217569 \r\nL 232.050967 224.448155 \r\nL 232.241314 222.454777 \r\nL 232.43166 224.558754 \r\nL 232.622006 225.04727 \r\nL 232.812352 214.887321 \r\nL 233.002699 222.572202 \r\nL 233.193045 224.665322 \r\nL 233.383391 224.083789 \r\nL 233.573737 221.071147 \r\nL 233.764084 214.645146 \r\nL 233.95443 219.635707 \r\nL 234.144776 215.848749 \r\nL 234.335122 222.818143 \r\nL 234.525469 223.103726 \r\nL 234.715815 223.610695 \r\nL 235.096507 214.422082 \r\nL 235.286853 222.620934 \r\nL 235.4772 222.793188 \r\nL 235.667546 223.978456 \r\nL 235.857892 222.220804 \r\nL 236.048238 222.221216 \r\nL 236.238585 218.927199 \r\nL 236.619277 223.366531 \r\nL 236.809623 203.66726 \r\nL 236.99997 222.943823 \r\nL 237.190316 217.728127 \r\nL 237.380662 223.680911 \r\nL 237.571008 224.763529 \r\nL 237.761355 223.597049 \r\nL 237.951701 223.656468 \r\nL 238.142047 223.069997 \r\nL 238.332393 223.157307 \r\nL 238.52274 224.720445 \r\nL 238.713086 224.86053 \r\nL 238.903432 201.683279 \r\nL 239.093778 221.710428 \r\nL 239.284124 223.988112 \r\nL 239.474471 224.706823 \r\nL 239.664817 220.306916 \r\nL 239.855163 210.29979 \r\nL 240.045509 223.432781 \r\nL 240.235856 215.405358 \r\nL 240.426202 223.585075 \r\nL 240.616548 212.998311 \r\nL 240.806894 215.498116 \r\nL 240.997241 224.843548 \r\nL 241.187587 210.596429 \r\nL 241.377933 215.141158 \r\nL 241.568279 224.784448 \r\nL 241.758626 215.231345 \r\nL 241.948972 224.4982 \r\nL 242.139318 221.399496 \r\nL 242.329664 213.674991 \r\nL 242.520011 224.409931 \r\nL 242.900703 222.06352 \r\nL 243.091049 224.883425 \r\nL 243.471742 223.002047 \r\nL 243.662088 224.284692 \r\nL 243.852434 223.766667 \r\nL 244.04278 222.49922 \r\nL 244.233127 224.526756 \r\nL 244.613819 216.385845 \r\nL 244.804165 220.523507 \r\nL 244.994512 219.567986 \r\nL 245.184858 224.06586 \r\nL 245.375204 203.732874 \r\nL 245.56555 224.921431 \r\nL 245.755897 224.441482 \r\nL 245.946243 222.32915 \r\nL 246.136589 224.183008 \r\nL 246.517282 221.875309 \r\nL 246.707628 224.372584 \r\nL 246.897974 217.540751 \r\nL 247.08832 224.920143 \r\nL 247.278667 223.414704 \r\nL 247.469013 223.407037 \r\nL 247.659359 221.323926 \r\nL 247.849705 224.497929 \r\nL 248.040051 222.940969 \r\nL 248.230398 224.601167 \r\nL 248.420744 210.77695 \r\nL 248.61109 222.90514 \r\nL 248.801436 223.860667 \r\nL 248.991783 222.713345 \r\nL 249.182129 223.149587 \r\nL 249.372475 222.484763 \r\nL 249.562821 222.272385 \r\nL 249.753168 218.595678 \r\nL 250.13386 224.714485 \r\nL 250.324206 217.900174 \r\nL 250.514553 224.167391 \r\nL 250.895245 212.079561 \r\nL 251.085591 223.765914 \r\nL 251.275938 217.182634 \r\nL 251.466284 223.622404 \r\nL 251.65663 217.041643 \r\nL 251.846976 224.411279 \r\nL 252.037323 222.091711 \r\nL 252.227669 205.69263 \r\nL 252.418015 222.251973 \r\nL 252.608361 214.598619 \r\nL 252.798707 224.311301 \r\nL 252.989054 219.103383 \r\nL 253.1794 224.486125 \r\nL 253.369746 215.648916 \r\nL 253.560092 215.269281 \r\nL 253.750439 219.368972 \r\nL 253.940785 208.103473 \r\nL 254.131131 219.735944 \r\nL 254.321477 216.457114 \r\nL 254.511824 222.080284 \r\nL 254.70217 223.694891 \r\nL 254.892516 222.087898 \r\nL 255.082862 224.734444 \r\nL 255.273209 219.275872 \r\nL 255.463555 224.848185 \r\nL 255.653901 218.448227 \r\nL 255.844247 220.443794 \r\nL 256.034594 217.072888 \r\nL 256.22494 223.588223 \r\nL 256.415286 199.153611 \r\nL 256.605632 222.523828 \r\nL 256.795978 199.537418 \r\nL 256.986325 221.657235 \r\nL 257.176671 222.193866 \r\nL 257.367017 224.878059 \r\nL 257.74771 220.756667 \r\nL 257.938056 224.332784 \r\nL 258.128402 223.383101 \r\nL 258.318748 221.750811 \r\nL 258.509095 222.514472 \r\nL 258.699441 224.47917 \r\nL 258.889787 224.36427 \r\nL 259.080133 204.18888 \r\nL 259.460826 224.817776 \r\nL 259.651172 207.435554 \r\nL 259.841518 224.532534 \r\nL 260.031865 219.02317 \r\nL 260.222211 222.872371 \r\nL 260.412557 218.378399 \r\nL 260.602903 224.772626 \r\nL 260.79325 224.854699 \r\nL 260.983596 220.350453 \r\nL 261.173942 224.997302 \r\nL 261.364288 220.602131 \r\nL 261.744981 224.222055 \r\nL 261.935327 224.905544 \r\nL 262.125673 191.07389 \r\nL 262.316019 223.720841 \r\nL 262.506366 221.472019 \r\nL 262.696712 223.702523 \r\nL 262.887058 210.398992 \r\nL 263.267751 223.723547 \r\nL 263.458097 217.822832 \r\nL 263.648443 222.272091 \r\nL 263.838789 203.252501 \r\nL 264.029136 217.710021 \r\nL 264.219482 215.422552 \r\nL 264.409828 224.295378 \r\nL 264.600174 223.08499 \r\nL 264.790521 213.570624 \r\nL 264.980867 224.491651 \r\nL 265.171213 222.388533 \r\nL 265.361559 224.166638 \r\nL 265.551905 224.261309 \r\nL 265.742252 221.836797 \r\nL 265.932598 213.98031 \r\nL 266.122944 223.904715 \r\nL 266.31329 215.457445 \r\nL 266.503637 224.640091 \r\nL 266.693983 222.42994 \r\nL 266.884329 222.743378 \r\nL 267.074675 222.330138 \r\nL 267.265022 220.826577 \r\nL 267.645714 224.11491 \r\nL 267.83606 218.214019 \r\nL 268.026407 218.34027 \r\nL 268.216753 216.072901 \r\nL 268.407099 223.920261 \r\nL 268.597445 214.197118 \r\nL 268.787792 219.719051 \r\nL 269.168484 215.935105 \r\nL 269.35883 223.29465 \r\nL 269.549177 224.604715 \r\nL 269.739523 211.381197 \r\nL 269.929869 224.376132 \r\nL 270.120215 218.687277 \r\nL 270.310561 222.159473 \r\nL 270.500908 222.119844 \r\nL 270.691254 218.344012 \r\nL 270.8816 210.39745 \r\nL 271.071946 222.618769 \r\nL 271.262293 204.74001 \r\nL 271.452639 223.733056 \r\nL 271.642985 219.32597 \r\nL 271.833331 212.173525 \r\nL 272.023678 221.473772 \r\nL 272.214024 220.978677 \r\nL 272.40437 221.764327 \r\nL 272.594716 217.438325 \r\nL 272.785063 223.067361 \r\nL 272.975409 223.590235 \r\nL 273.165755 222.89579 \r\nL 273.356101 214.364606 \r\nL 273.546448 221.747522 \r\nL 273.736794 222.757283 \r\nL 273.92714 221.842116 \r\nL 274.117486 217.914673 \r\nL 274.307832 222.247766 \r\nL 274.688525 223.281475 \r\nL 274.878871 223.638115 \r\nL 275.069217 225.066971 \r\nL 275.44991 223.907752 \r\nL 275.640256 221.675182 \r\nL 275.830602 223.437306 \r\nL 276.020949 205.914152 \r\nL 276.211295 213.484503 \r\nL 276.401641 209.573671 \r\nL 276.782334 222.09004 \r\nL 276.97268 222.707756 \r\nL 277.163026 222.313468 \r\nL 277.353372 224.638279 \r\nL 277.543719 224.07531 \r\nL 277.924411 212.949184 \r\nL 278.114757 222.045103 \r\nL 278.305104 215.031248 \r\nL 278.49545 215.824706 \r\nL 278.685796 224.117923 \r\nL 278.876142 217.670332 \r\nL 279.066488 204.354856 \r\nL 279.447181 217.937321 \r\nL 279.637527 223.793257 \r\nL 279.827873 222.694039 \r\nL 280.01822 209.342246 \r\nL 280.208566 214.582367 \r\nL 280.398912 213.153447 \r\nL 280.779605 222.804191 \r\nL 281.160297 202.803733 \r\nL 281.350643 220.620031 \r\nL 281.54099 223.915283 \r\nL 281.731336 222.576221 \r\nL 281.921682 215.757309 \r\nL 282.302375 224.5375 \r\nL 282.492721 224.128503 \r\nL 282.873413 217.466545 \r\nL 283.063759 221.88104 \r\nL 283.254106 222.516008 \r\nL 283.444452 214.254201 \r\nL 283.825144 224.390543 \r\nL 284.015491 224.396704 \r\nL 284.205837 224.614736 \r\nL 284.396183 224.517929 \r\nL 284.586529 221.792771 \r\nL 284.967222 207.743826 \r\nL 285.157568 223.289154 \r\nL 285.538261 215.24189 \r\nL 285.728607 218.633673 \r\nL 285.918953 206.577099 \r\nL 286.109299 223.049991 \r\nL 286.299646 216.780509 \r\nL 286.489992 222.278787 \r\nL 286.680338 222.742443 \r\nL 286.870684 224.315543 \r\nL 287.061031 219.583179 \r\nL 287.441723 224.574488 \r\nL 287.632069 221.759173 \r\nL 287.822415 223.873641 \r\nL 288.012762 224.543661 \r\nL 288.393454 210.37785 \r\nL 288.5838 223.209558 \r\nL 288.774147 218.668419 \r\nL 288.964493 219.765754 \r\nL 289.154839 206.586766 \r\nL 289.345185 221.246472 \r\nL 289.535532 224.017027 \r\nL 289.725878 223.910205 \r\nL 289.916224 220.402604 \r\nL 290.10657 213.042571 \r\nL 290.296917 221.4306 \r\nL 290.487263 213.659157 \r\nL 290.677609 223.256814 \r\nL 290.867955 223.233795 \r\nL 291.058302 221.720596 \r\nL 291.248648 222.301618 \r\nL 291.438994 221.928861 \r\nL 291.62934 222.555573 \r\nL 291.819686 220.294029 \r\nL 292.010033 221.843181 \r\nL 292.581071 214.840506 \r\nL 292.771418 217.441644 \r\nL 292.961764 222.715746 \r\nL 293.15211 222.783838 \r\nL 293.342456 223.459707 \r\nL 293.532803 211.520646 \r\nL 293.913495 223.826544 \r\nL 294.103841 224.271206 \r\nL 294.294188 222.809487 \r\nL 294.484534 224.302151 \r\nL 294.67488 201.901341 \r\nL 294.865226 223.765472 \r\nL 295.055573 223.274173 \r\nL 295.245919 222.155808 \r\nL 295.436265 218.760512 \r\nL 295.626611 220.348676 \r\nL 295.816958 181.963743 \r\nL 296.007304 219.35372 \r\nL 296.19765 221.04358 \r\nL 296.387996 224.43295 \r\nL 296.578342 225.027876 \r\nL 296.768689 221.165276 \r\nL 296.959035 222.028074 \r\nL 297.149381 223.595431 \r\nL 297.530074 214.831539 \r\nL 297.72042 222.858226 \r\nL 297.910766 218.506092 \r\nL 298.101112 224.030643 \r\nL 298.291459 217.238269 \r\nL 298.481805 222.951396 \r\nL 298.672151 221.396007 \r\nL 298.862497 223.954019 \r\nL 299.24319 216.017384 \r\nL 299.433536 222.712263 \r\nL 299.623882 222.905552 \r\nL 300.004575 212.733422 \r\nL 300.194921 220.398868 \r\nL 300.575613 224.063447 \r\nL 300.76596 223.964381 \r\nL 300.956306 221.891325 \r\nL 301.146652 221.867859 \r\nL 301.336998 215.943878 \r\nL 301.527345 223.117753 \r\nL 301.717691 224.135046 \r\nL 301.908037 221.844988 \r\nL 302.098383 215.336248 \r\nL 302.28873 222.553272 \r\nL 302.479076 223.066296 \r\nL 302.669422 213.684847 \r\nL 303.050115 224.383947 \r\nL 303.240461 220.40697 \r\nL 303.430807 224.549857 \r\nL 303.621153 223.750609 \r\nL 303.8115 218.576149 \r\nL 304.192192 224.837423 \r\nL 304.382538 209.31449 \r\nL 304.572885 219.878324 \r\nL 304.763231 219.675343 \r\nL 304.953577 224.234606 \r\nL 305.143923 210.331906 \r\nL 305.334269 222.338535 \r\nL 305.524616 218.207064 \r\nL 305.714962 220.218282 \r\nL 305.905308 223.494412 \r\nL 306.095654 220.017944 \r\nL 306.286001 213.565463 \r\nL 306.476347 223.555142 \r\nL 306.666693 222.960393 \r\nL 306.857039 213.988918 \r\nL 307.047386 224.432903 \r\nL 307.237732 224.235742 \r\nL 307.428078 222.158526 \r\nL 307.618424 223.976938 \r\nL 307.999117 221.940282 \r\nL 308.189463 222.336481 \r\nL 308.570156 224.164084 \r\nL 308.760502 217.371745 \r\nL 308.950848 223.805938 \r\nL 309.141194 224.562855 \r\nL 309.33154 223.399306 \r\nL 309.521887 222.934626 \r\nL 309.712233 222.791529 \r\nL 309.902579 222.48807 \r\nL 310.092925 216.610238 \r\nL 310.283272 224.832721 \r\nL 310.473618 219.955224 \r\nL 310.663964 219.655219 \r\nL 310.85431 198.622328 \r\nL 311.044657 223.936837 \r\nL 311.235003 220.283556 \r\nL 311.425349 221.248467 \r\nL 311.615695 215.618042 \r\nL 311.806042 204.950529 \r\nL 311.996388 223.952919 \r\nL 312.186734 224.643186 \r\nL 312.37708 215.937294 \r\nL 312.757773 224.02154 \r\nL 312.948119 221.048858 \r\nL 313.138465 222.192666 \r\nL 313.328812 220.057168 \r\nL 313.519158 221.683532 \r\nL 313.709504 224.359457 \r\nL 314.090196 220.265738 \r\nL 314.280543 223.908576 \r\nL 314.470889 224.574147 \r\nL 314.661235 223.395569 \r\nL 314.851581 215.110678 \r\nL 315.041928 195.268445 \r\nL 315.232274 217.029274 \r\nL 315.42262 223.506768 \r\nL 315.612966 219.339486 \r\nL 315.803313 224.049437 \r\nL 315.993659 220.770301 \r\nL 316.184005 223.683888 \r\nL 316.374351 219.098299 \r\nL 316.564698 223.721088 \r\nL 316.755044 219.012961 \r\nL 316.94539 222.944788 \r\nL 317.135736 219.139406 \r\nL 317.326083 224.048166 \r\nL 317.516429 216.107923 \r\nL 317.706775 223.361564 \r\nL 317.897121 217.647372 \r\nL 318.087467 224.504202 \r\nL 318.277814 223.788862 \r\nL 318.46816 214.384188 \r\nL 318.658506 213.271172 \r\nL 319.039199 224.386595 \r\nL 319.229545 215.860753 \r\nL 319.419891 224.246628 \r\nL 319.800584 218.677939 \r\nL 319.99093 222.96377 \r\nL 320.181276 224.237501 \r\nL 320.371622 211.347892 \r\nL 320.561969 223.913336 \r\nL 320.942661 222.06941 \r\nL 321.133007 223.211994 \r\nL 321.323354 223.114905 \r\nL 321.5137 221.588573 \r\nL 321.704046 221.623531 \r\nL 321.894392 224.709424 \r\nL 322.084739 223.521779 \r\nL 322.275085 216.949626 \r\nL 322.465431 223.300969 \r\nL 322.846123 221.049158 \r\nL 323.03647 224.76433 \r\nL 323.226816 220.70754 \r\nL 323.417162 223.676068 \r\nL 323.607508 203.102402 \r\nL 323.988201 215.990181 \r\nL 324.178547 217.661753 \r\nL 324.368893 217.173407 \r\nL 324.55924 223.842173 \r\nL 324.939932 210.336425 \r\nL 325.510971 222.526599 \r\nL 325.701317 215.155198 \r\nL 325.891663 217.475501 \r\nL 326.08201 222.724643 \r\nL 326.272356 223.097741 \r\nL 326.462702 224.243738 \r\nL 326.653048 224.362793 \r\nL 327.033741 217.392063 \r\nL 327.224087 221.162028 \r\nL 327.414433 221.941653 \r\nL 327.795126 224.58931 \r\nL 327.985472 223.591324 \r\nL 328.175818 220.681132 \r\nL 328.366164 222.030204 \r\nL 328.556511 221.341414 \r\nL 328.746857 208.889829 \r\nL 328.937203 224.201596 \r\nL 329.127549 222.506475 \r\nL 329.317896 217.668173 \r\nL 329.508242 199.362429 \r\nL 329.698588 224.018133 \r\nL 330.079281 220.123259 \r\nL 330.269627 195.883236 \r\nL 330.459973 222.712975 \r\nL 330.650319 224.082665 \r\nL 330.840666 223.609965 \r\nL 331.221358 224.0829 \r\nL 331.411704 221.730876 \r\nL 331.60205 224.416274 \r\nL 331.792397 223.192665 \r\nL 332.173089 224.489044 \r\nL 332.363435 224.413173 \r\nL 332.553782 212.707797 \r\nL 332.744128 221.643878 \r\nL 332.934474 221.588979 \r\nL 333.315167 224.467484 \r\nL 333.505513 215.988492 \r\nL 333.695859 224.349665 \r\nL 333.886205 224.425536 \r\nL 334.076552 214.762258 \r\nL 334.266898 214.14259 \r\nL 334.457244 220.510208 \r\nL 334.64759 223.052857 \r\nL 334.837937 216.85329 \r\nL 335.028283 224.469232 \r\nL 335.218629 212.635068 \r\nL 335.408975 213.132317 \r\nL 335.789668 224.661292 \r\nL 335.980014 209.075545 \r\nL 336.17036 218.906793 \r\nL 336.360706 222.710097 \r\nL 336.551053 214.969287 \r\nL 336.741399 224.089126 \r\nL 336.931745 223.715892 \r\nL 337.122091 224.295048 \r\nL 337.312438 220.098527 \r\nL 337.502784 198.47989 \r\nL 337.69313 215.956982 \r\nL 337.883476 222.300735 \r\nL 338.073823 215.675889 \r\nL 338.264169 216.363297 \r\nL 338.454515 223.284688 \r\nL 338.644861 212.556821 \r\nL 338.835208 221.619659 \r\nL 339.025554 217.919863 \r\nL 339.2159 199.294684 \r\nL 339.406246 221.828559 \r\nL 339.596593 214.318038 \r\nL 339.786939 195.579289 \r\nL 339.977285 221.804622 \r\nL 340.167631 208.459513 \r\nL 340.357977 223.289925 \r\nL 340.548324 214.459694 \r\nL 340.73867 222.729551 \r\nL 340.929016 201.59907 \r\nL 341.119362 223.130716 \r\nL 341.309709 222.385314 \r\nL 341.500055 222.323277 \r\nL 341.690401 214.502042 \r\nL 341.880747 223.645564 \r\nL 342.071094 215.407235 \r\nL 342.26144 223.7971 \r\nL 342.451786 219.625728 \r\nL 342.642132 223.807397 \r\nL 343.022825 221.154279 \r\nL 343.403517 224.13414 \r\nL 343.593864 224.622021 \r\nL 343.78421 224.066089 \r\nL 343.974556 222.952796 \r\nL 344.164902 215.928909 \r\nL 344.355248 219.99729 \r\nL 344.545595 204.640833 \r\nL 344.926287 223.188876 \r\nL 345.116633 223.372538 \r\nL 345.30698 214.522296 \r\nL 345.497326 220.456339 \r\nL 345.687672 221.463952 \r\nL 345.878018 221.618152 \r\nL 346.068365 223.63845 \r\nL 346.258711 223.176995 \r\nL 346.449057 210.324639 \r\nL 346.639403 219.406913 \r\nL 346.82975 215.379344 \r\nL 347.020096 224.591617 \r\nL 347.210442 216.273557 \r\nL 347.400788 223.125526 \r\nL 347.591135 222.65132 \r\nL 347.781481 223.233942 \r\nL 347.971827 215.24572 \r\nL 348.162173 221.799044 \r\nL 348.35252 218.997044 \r\nL 348.542866 224.281786 \r\nL 348.733212 224.332395 \r\nL 348.923558 211.11818 \r\nL 349.113904 224.26934 \r\nL 349.304251 221.37736 \r\nL 349.494597 222.435483 \r\nL 349.684943 196.705086 \r\nL 349.684943 196.705086 \r\n\" style=\"fill:none;stroke:#1f77b4;stroke-linecap:square;stroke-width:1.5;\"/>\r\n   </g>\r\n   <g id=\"patch_3\">\r\n    <path d=\"M 30.103125 235.238438 \r\nL 30.103125 17.798437 \r\n\" style=\"fill:none;stroke:#000000;stroke-linecap:square;stroke-linejoin:miter;stroke-width:0.8;\"/>\r\n   </g>\r\n   <g id=\"patch_4\">\r\n    <path d=\"M 364.903125 235.238438 \r\nL 364.903125 17.798437 \r\n\" style=\"fill:none;stroke:#000000;stroke-linecap:square;stroke-linejoin:miter;stroke-width:0.8;\"/>\r\n   </g>\r\n   <g id=\"patch_5\">\r\n    <path d=\"M 30.103125 235.238437 \r\nL 364.903125 235.238437 \r\n\" style=\"fill:none;stroke:#000000;stroke-linecap:square;stroke-linejoin:miter;stroke-width:0.8;\"/>\r\n   </g>\r\n   <g id=\"patch_6\">\r\n    <path d=\"M 30.103125 17.798437 \r\nL 364.903125 17.798437 \r\n\" style=\"fill:none;stroke:#000000;stroke-linecap:square;stroke-linejoin:miter;stroke-width:0.8;\"/>\r\n   </g>\r\n  </g>\r\n </g>\r\n <defs>\r\n  <clipPath id=\"pde39abe78c\">\r\n   <rect height=\"217.44\" width=\"334.8\" x=\"30.103125\" y=\"17.798437\"/>\r\n  </clipPath>\r\n </defs>\r\n</svg>\r\n",
      "image/png": "[encoded data removed]"
     },
     "metadata": {
      "needs_background": "light"
     }
    }
   ],
   "source": [
    "%matplotlib inline\n",
    "import matplotlib.pyplot as plt\n",
    "\n",
    "\n",
    "loss = [data['val_loss'] for data in history3]\n",
    "plt.plot(loss)\n"
   ]
  },
  {
   "cell_type": "markdown",
   "metadata": {},
   "source": [
    "## Step 5: Make predictions using the trained model\n",
    "\n",
    "**Q: Complete the following function definition to make predictions on a single input**"
   ]
  },
  {
   "cell_type": "code",
   "execution_count": 345,
   "metadata": {},
   "outputs": [],
   "source": [
    "def predict_single(input, target, model):\n",
    "    inputs = input.unsqueeze(0)\n",
    "    predictions = model(inputs)                # fill this\n",
    "    prediction = predictions[0].detach()\n",
    "    print(\"Input:\", input)\n",
    "    print(\"Target:\", target)\n",
    "    print(\"Prediction:\", prediction)"
   ]
  },
  {
   "cell_type": "code",
   "execution_count": 346,
   "metadata": {},
   "outputs": [
    {
     "output_type": "stream",
     "name": "stdout",
     "text": "Input: tensor([50.0000,  0.0000, 27.6336,  0.0000,  0.0000,  0.0000], device='cuda:0')\nTarget: tensor([24886.8789], device='cuda:0')\nPrediction: tensor([5730.6572], device='cuda:0')\n"
    }
   ],
   "source": [
    "input, target = val_ds[0]\n",
    "predict_single(input, target, model)"
   ]
  },
  {
   "cell_type": "code",
   "execution_count": 347,
   "metadata": {},
   "outputs": [
    {
     "output_type": "stream",
     "name": "stdout",
     "text": "Input: tensor([26.0000,  0.0000, 40.5868,  0.0000,  0.0000,  1.0000], device='cuda:0')\nTarget: tensor([3105.2078], device='cuda:0')\nPrediction: tensor([4180.6953], device='cuda:0')\n"
    }
   ],
   "source": [
    "input, target = val_ds[10]\n",
    "predict_single(input, target, model)"
   ]
  },
  {
   "cell_type": "code",
   "execution_count": 348,
   "metadata": {},
   "outputs": [
    {
     "output_type": "stream",
     "name": "stdout",
     "text": "Input: tensor([58.0000,  1.0000, 38.3800,  0.0000,  0.0000,  3.0000], device='cuda:0')\nTarget: tensor([11024.9736], device='cuda:0')\nPrediction: tensor([8403.8701], device='cuda:0')\n"
    }
   ],
   "source": [
    "input, target = val_ds[23]\n",
    "predict_single(input, target, model)"
   ]
  },
  {
   "cell_type": "markdown",
   "metadata": {},
   "source": [
    "Are you happy with your model's predictions? Try to improve them further."
   ]
  },
  {
   "cell_type": "markdown",
   "metadata": {},
   "source": [
    "## (Optional) Step 6: Try another dataset & blog about it\n",
    "\n",
    "While this last step is optional for the submission of your assignment, we highly recommend that you do it. Try to clean up & replicate this notebook (or [this one](https://jovian.ml/aakashns/housing-linear-minimal), or [this one](https://jovian.ml/aakashns/mnist-logistic-minimal) ) for a different linear regression or logistic regression problem. This will help solidify your understanding, and give you a chance to differentiate the generic patters in machine learning from problem-specific details.\n",
    "\n",
    "Here are some sources to find good datasets:\n",
    "\n",
    "- https://lionbridge.ai/datasets/10-open-datasets-for-linear-regression/\n",
    "- https://www.kaggle.com/rtatman/datasets-for-regression-analysis\n",
    "- https://archive.ics.uci.edu/ml/datasets.php?format=&task=reg&att=&area=&numAtt=&numIns=&type=&sort=nameUp&view=table\n",
    "- https://people.sc.fsu.edu/~jburkardt/datasets/regression/regression.html\n",
    "- https://archive.ics.uci.edu/ml/datasets/wine+quality\n",
    "- https://pytorch.org/docs/stable/torchvision/datasets.html\n",
    "\n",
    "We also recommend that you write a blog about your approach to the problem. Here is a suggested structure for your post (feel free to experiment with it):\n",
    "\n",
    "- Interesting title & subtitle\n",
    "- Overview of what the blog covers (which dataset, linear regression or logistic regression, intro to PyTorch)\n",
    "- Downloading & exploring the data\n",
    "- Preparing the data for training\n",
    "- Creating a model using PyTorch\n",
    "- Training the model to fit the data\n",
    "- Your thoughts on how to experiment with different hyperparmeters to reduce loss\n",
    "- Making predictions using the model\n",
    "\n",
    "As with the previous assignment, you can [embed Juptyer notebook cells & outputs from Jovian](https://medium.com/jovianml/share-and-embed-jupyter-notebooks-online-with-jovian-ml-df709a03064e) into your blog. \n",
    "\n",
    "Don't forget to share your work on the forum: https://jovian.ml/forum/t/share-your-work-here-assignment-2/4931"
   ]
  },
  {
   "cell_type": "code",
   "execution_count": 349,
   "metadata": {},
   "outputs": [
    {
     "output_type": "display_data",
     "data": {
      "text/plain": "<IPython.core.display.Javascript object>",
      "application/javascript": "window.require && require([\"base/js/namespace\"],function(Jupyter){Jupyter.notebook.save_checkpoint()})"
     },
     "metadata": {}
    },
    {
     "output_type": "stream",
     "name": "stdout",
     "text": "[jovian] Attempting to save notebook..\n[jovian] Updating notebook \"leosf/02-insurance-linear-regression\" on https://jovian.ml/\n[jovian] Uploading notebook..\n[jovian] Attaching records (metrics, hyperparameters, dataset etc.)\n[jovian] Committed successfully! https://jovian.ml/leosf/02-insurance-linear-regression\n"
    },
    {
     "output_type": "execute_result",
     "data": {
      "text/plain": "'https://jovian.ml/leosf/02-insurance-linear-regression'"
     },
     "metadata": {},
     "execution_count": 349
    }
   ],
   "source": [
    "#jovian.commit(project=project_name, environment=None)\n",
    "#jovian.commit(project=project_name, environment=None) # try again, kaggle fails sometimes\n",
    "jovian.commit(message=\"Assignment week 2 complete\", filename=\"02-insurance-linear\", project=\"leosf/\" + project_name, environment=None)"
   ]
  },
  {
   "cell_type": "code",
   "execution_count": null,
   "metadata": {},
   "outputs": [],
   "source": []
  }
 ],
 "metadata": {
  "kernelspec": {
   "display_name": "Python 3.6.10 64-bit ('jovian-gpu': conda)",
   "language": "python",
   "name": "python361064bitjoviangpucondae72b4a7721164555b3b95453eb4091c7"
  },
  "language_info": {
   "codemirror_mode": {
    "name": "ipython",
    "version": 3
   },
   "file_extension": ".py",
   "mimetype": "text/x-python",
   "name": "python",
   "nbconvert_exporter": "python",
   "pygments_lexer": "ipython3",
   "version": "3.6.10-final"
  }
 },
 "nbformat": 4,
 "nbformat_minor": 4
}