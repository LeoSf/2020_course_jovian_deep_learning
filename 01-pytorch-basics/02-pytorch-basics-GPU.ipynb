{
 "cells": [
  {
   "cell_type": "markdown",
   "metadata": {},
   "source": [
    "# PyTorch Basics: Tensors & Gradients\n",
    "\n",
    "#### *Part 1 of \"Pytorch: Zero to GANs\"*\n",
    "\n",
    "*This post is the first in a series of tutorials on building deep learning models with PyTorch, an open source neural networks library developed and maintained by Facebook. Check out the full series:*\n",
    "\n",
    "1. [PyTorch Basics: Tensors & Gradients](https://jovian.ml/aakashns/01-pytorch-basics)\n",
    "2. [Linear Regression & Gradient Descent](https://jovian.ml/aakashns/02-linear-regression)\n",
    "3. [Image Classfication using Logistic Regression](https://jovian.ml/aakashns/03-logistic-regression) \n",
    "4. [Training Deep Neural Networks on a GPU](https://jovian.ml/aakashns/04-feedforward-nn)\n",
    "5. [Image Classification using Convolutional Neural Networks](https://jovian.ml/aakashns/05-cifar10-cnn)\n",
    "6. [Data Augmentation, Regularization and ResNets](https://jovian.ml/aakashns/05b-cifar10-resnet)\n",
    "7. [Generating Images using Generative Adverserial Networks](https://jovian.ml/aakashns/06-mnist-gan)\n",
    "\n",
    "This series attempts to make PyTorch a bit more approachable for people starting out with deep learning and neural networks. In this notebook, we’ll cover the basic building blocks of PyTorch models: tensors and gradients."
   ]
  },
  {
   "cell_type": "markdown",
   "metadata": {},
   "source": [
    "## System setup\n",
    "\n",
    "This tutorial takes a code-first approach towards learning PyTorch, and you should try to follow along by running and experimenting with the code yourself. The easiest way to start executing this notebook is to click the **\"Run\"** button at the top of this page, and select **\"Run on Binder\"**. This will run the notebook on [mybinder.org](https://mybinder.org), a free online service for running Jupyter notebooks.\n",
    "\n",
    "**NOTE**: *If you're running this notebook on Binder, please skip ahead to the next section.*\n",
    "\n",
    "### Running on your computer locally\n",
    "\n",
    "We'll use the [Anaconda distribution](https://www.anaconda.com/distribution/) of Python to install libraries and manage virtual environments. For interactive coding and experimentation, we'll use [Jupyter notebooks](https://jupyter.org/). All the tutorials in this series are available as Jupyter notebooks hosted on [Jovian.ml](https://www.jovian.ml): a sharing and collaboration platform for Jupyter notebooks & machine learning experiments.\n",
    "\n",
    "Jovian.ml makes it easy to share Jupyter notebooks on the cloud by running a single command directly within Jupyter. It also captures the Python environment and libraries required to run your notebook, so anyone (including you) can reproduce your work.\n",
    "\n",
    "Here's what you need to do to get started:\n",
    "\n",
    "1. Install Anaconda by following the [instructions given here](https://conda.io/projects/conda/en/latest/user-guide/install/index.html). You might also need to add Anaconda binaries to your system PATH to be able to run the `conda` command line tool.\n",
    "\n",
    "\n",
    "2. Install the `jovian` Python library by the running the following command (without the `$`) on your Mac/Linux terminal or Windows command prompt:\n",
    "\n",
    "```\n",
    "$ pip install jovian --upgrade\n",
    "```\n",
    "\n",
    "3. Download the notebook for this tutorial using the `jovian clone` command:\n",
    "\n",
    "```\n",
    "$ jovian clone aakashns/01-pytorch-basics\n",
    "```\n",
    "\n",
    "(You can copy this command to clipboard by clicking the 'Clone' button at the top of this page on Jovian.ml)\n",
    "\n",
    "Running the clone command creates a directory `01-pytorch-basics` containing a Jupyter notebook and an Anaconda environment file.\n",
    "\n",
    "```\n",
    "$ ls 01-pytorch-basics\n",
    "01-pytorch-basics.ipynb  environment.yml\n",
    "```\n",
    "\n",
    "4. Now we can enter the directory and install the required Python libraries (Jupyter, PyTorch etc.) with a single command using `jovian`:\n",
    "\n",
    "```\n",
    "$ cd 01-pytorch-basics\n",
    "$ jovian install\n",
    "```\n",
    "\n",
    "`jovian install` reads the `environment.yml` file, identifies the right dependencies for your operating system, creates a virtual environment with the given name (`01-pytorch-basics` by default) and installs all the required libraries inside the environment, to avoid modifying your system-wide installation of Python. It uses `conda` internally. If you face issues with `jovian install`, try running `conda env update` instead.\n",
    "\n",
    "5. We can activate the virtual environment by running\n",
    "\n",
    "```\n",
    "$ conda activate 01-pytorch-basics\n",
    "```\n",
    "\n",
    "For older installations of `conda`, you might need to run the command: `source activate 01-pytorch-basics`.\n",
    "\n",
    "6. Once the virtual environment is active, we can start Jupyter by running\n",
    "\n",
    "```\n",
    "$ jupyter notebook\n",
    "```\n",
    "\n",
    "7. You can now access Jupyter's web interface by clicking the link that shows up on the terminal or by visiting http://localhost:8888 on your browser. At this point, you can click on the notebook `01-pytorch-basics.ipynb` to open it and run the code. If you want to type out the code yourself, you can also create a new notebook using the 'New' button."
   ]
  },
  {
   "cell_type": "markdown",
   "metadata": {},
   "source": [
    "Markdown code"
   ]
  },
  {
   "cell_type": "code",
   "execution_count": null,
   "metadata": {},
   "outputs": [],
   "source": []
  },
  {
   "cell_type": "markdown",
   "metadata": {},
   "source": [
    "We begin by importing PyTorch:"
   ]
  },
  {
   "cell_type": "markdown",
   "metadata": {},
   "source": [
    "the next two cells show that the console output is not permanet"
   ]
  },
  {
   "cell_type": "code",
   "execution_count": 1,
   "metadata": {},
   "outputs": [
    {
     "output_type": "stream",
     "name": "stdout",
     "text": "\n     active environment : jovian\n    active env location : C:\\Programas\\Microsoft Visual Studio\\Shared\\Anaconda3_64\\envs\\jovian\n            shell level : 2\n       user config file : C:\\Users\\DIMSAI\\.condarc\n populated config files : C:\\Users\\DIMSAI\\.condarc\n          conda version : 4.8.3\n    conda-build version : 3.4.1\n         python version : 3.6.4.final.0\n       virtual packages : __cuda=9.2\n       base environment : C:\\Programas\\Microsoft Visual Studio\\Shared\\Anaconda3_64  (writable)\n           channel URLs : https://repo.anaconda.com/pkgs/main/win-64\n                          https://repo.anaconda.com/pkgs/main/noarch\n                          https://repo.anaconda.com/pkgs/r/win-64\n                          https://repo.anaconda.com/pkgs/r/noarch\n                          https://repo.anaconda.com/pkgs/msys2/win-64\n                          https://repo.anaconda.com/pkgs/msys2/noarch\n          package cache : C:\\Programas\\Microsoft Visual Studio\\Shared\\Anaconda3_64\\pkgs\n                          C:\\Users\\DIMSAI\\.conda\\pkgs\n                          C:\\Users\\DIMSAI\\AppData\\Local\\conda\\conda\\pkgs\n       envs directories : C:\\Programas\\Microsoft Visual Studio\\Shared\\Anaconda3_64\\envs\n                          C:\\Users\\DIMSAI\\.conda\\envs\n                          C:\\Users\\DIMSAI\\AppData\\Local\\conda\\conda\\envs\n               platform : win-64\n             user-agent : conda/4.8.3 requests/2.23.0 CPython/3.6.4 Windows/10 Windows/10.0.18362\n          administrator : False\n             netrc file : None\n           offline mode : False\n\n"
    }
   ],
   "source": [
    "!conda activate jovian && conda info"
   ]
  },
  {
   "cell_type": "markdown",
   "metadata": {},
   "source": [
    "to display the right environment, it has to be selected from the IDE or tool"
   ]
  },
  {
   "cell_type": "code",
   "execution_count": 1,
   "metadata": {},
   "outputs": [
    {
     "output_type": "stream",
     "name": "stdout",
     "text": "\n     active environment : jovian-gpu\n    active env location : C:\\Programas\\Microsoft Visual Studio\\Shared\\Anaconda3_64\\envs\\jovian-gpu\n            shell level : 2\n       user config file : C:\\Users\\DIMSAI\\.condarc\n populated config files : C:\\Users\\DIMSAI\\.condarc\n          conda version : 4.8.3\n    conda-build version : 3.4.1\n         python version : 3.6.4.final.0\n       virtual packages : __cuda=9.2\n       base environment : C:\\Programas\\Microsoft Visual Studio\\Shared\\Anaconda3_64  (writable)\n           channel URLs : https://repo.anaconda.com/pkgs/main/win-64\n                          https://repo.anaconda.com/pkgs/main/noarch\n                          https://repo.anaconda.com/pkgs/r/win-64\n                          https://repo.anaconda.com/pkgs/r/noarch\n                          https://repo.anaconda.com/pkgs/msys2/win-64\n                          https://repo.anaconda.com/pkgs/msys2/noarch\n          package cache : C:\\Programas\\Microsoft Visual Studio\\Shared\\Anaconda3_64\\pkgs\n                          C:\\Users\\DIMSAI\\.conda\\pkgs\n                          C:\\Users\\DIMSAI\\AppData\\Local\\conda\\conda\\pkgs\n       envs directories : C:\\Programas\\Microsoft Visual Studio\\Shared\\Anaconda3_64\\envs\n                          C:\\Users\\DIMSAI\\.conda\\envs\n                          C:\\Users\\DIMSAI\\AppData\\Local\\conda\\conda\\envs\n               platform : win-64\n             user-agent : conda/4.8.3 requests/2.23.0 CPython/3.6.4 Windows/10 Windows/10.0.18362\n          administrator : False\n             netrc file : None\n           offline mode : False\n\n"
    }
   ],
   "source": [
    "!conda info"
   ]
  },
  {
   "cell_type": "code",
   "execution_count": 2,
   "metadata": {},
   "outputs": [
    {
     "output_type": "stream",
     "name": "stdout",
     "text": "# packages in environment at C:\\Programas\\Microsoft Visual Studio\\Shared\\Anaconda3_64:\n#\n# Name                    Version                   Build  Channel\n_ipyw_jlab_nb_ext_conf    0.1.0            py36he6757f0_0  \nalabaster                 0.7.10           py36hcd07829_0  \nanaconda-client           1.7.2                    py36_0  \nanaconda-navigator        1.9.12                   py36_0  \nanaconda-project          0.8.2            py36hfad2e28_0  \nasn1crypto                0.24.0                   py36_0  \nastroid                   1.6.1                    py36_0  \nastropy                   2.0.3            py36hfa6e2cd_0  \nattrs                     17.4.0                   py36_0  \nbabel                     2.5.3                    py36_0  \nbackports                 1.0              py36h81696a8_1  \nbackports.shutil_get_terminal_size 1.0.0            py36h79ab834_2  \nbeautifulsoup4            4.6.0            py36hd4cc5e8_1  \nbitarray                  0.8.1            py36hfa6e2cd_1  \nbkcharts                  0.2              py36h7e685f7_0  \nblas                      1.0                         mkl  \nblaze                     0.11.3           py36h8a29ca5_0  \nbleach                    2.1.2                    py36_0  \nbokeh                     0.12.13          py36h047fa9f_0  \nboto                      2.48.0           py36h1a776d2_1  \nbottleneck                1.2.1            py36hd119dfa_0  \nbzip2                     1.0.6                hbe05fcf_4  \nca-certificates           2020.1.1                      0  \ncertifi                   2020.4.5.2               pypi_0    pypi\ncffi                      1.11.4           py36hfa6e2cd_0  \nchardet                   3.0.4            py36h420ce6e_1  \nclick                     7.1.2                    pypi_0    pypi\ncloudpickle               0.5.2                    py36_1  \nclyent                    1.2.2            py36hb10d595_1  \ncolorama                  0.3.9            py36h029ae33_0  \ncomtypes                  1.1.4                    py36_0  \nconda                     4.8.3                    py36_0  \nconda-build               3.4.1                    py36_0  \nconda-env                 2.6.0                h36134e3_1  \nconda-package-handling    1.6.1            py36h62dcd97_0  \nconda-verify              2.0.0            py36h065de53_0  \nconsole_shortcut          0.1.1                h6bb2dd7_3  \ncontextlib2               0.5.5            py36he5d52c0_0  \ncpuonly                   1.0                           0    pytorch\ncryptography              2.1.4            py36he1d7878_0  \ncurl                      7.58.0               h7602738_0  \ncycler                    0.10.0           py36h009560c_0  \ncython                    0.27.3           py36h22f4c84_0  \ncytoolz                   0.9.0            py36hfa6e2cd_0  \ndask                      0.16.1                   py36_0  \ndask-core                 0.16.1                   py36_0  \ndatashape                 0.5.4            py36h5770b85_0  \ndecorator                 4.2.1                    py36_0  \ndistributed               1.20.2                   py36_0  \ndocutils                  0.14             py36h6012d8f_0  \nentrypoints               0.2.3            py36hfd66bb0_2  \net_xmlfile                1.0.1            py36h3d2d736_0  \nfastcache                 1.0.2            py36hfa6e2cd_2  \nfilelock                  2.0.13           py36h20000bf_0  \nflask                     0.12.2           py36h98b5e8f_0  \nflask-cors                3.0.3            py36h8a3855d_0  \nfreetype                  2.8                  h51f8f2c_1  \nget_terminal_size         1.0.0                h38e98db_0  \ngevent                    1.2.2            py36h342a76c_0  \nglob2                     0.6              py36hdf76b57_0  \ngreenlet                  0.4.12           py36ha00ad21_0  \nh5py                      2.7.1            py36he54a1c3_0  \nhdf5                      1.10.1               h98b8871_1  \nheapdict                  1.0.0                    py36_2  \nhtml5lib                  1.0.1            py36h047fa9f_0  \nicc_rt                    2017.0.4             h97af966_0  \nicu                       58.2                 ha66f8fd_1  \nidna                      2.9                      pypi_0    pypi\nimageio                   2.2.0            py36had6c2d2_0  \nimagesize                 0.7.1            py36he29f638_0  \nintel-openmp              2018.0.0             hd92c6cd_8  \nipykernel                 4.8.0                    py36_0  \nipython                   6.2.1            py36h9cf0123_1  \nipython_genutils          0.2.0            py36h3c5d0ee_0  \nipywidgets                7.1.1                    py36_0  \nisort                     4.2.15           py36h6198cc5_0  \nitsdangerous              0.24             py36hb6c5a24_1  \njdcal                     1.3              py36h64a5255_0  \njedi                      0.11.1                   py36_0  \njinja2                    2.10             py36h292fed1_0  \njovian                    0.2.14                   pypi_0    pypi\njpeg                      9b                   hb83a4c4_2  \njsonschema                2.6.0            py36h7636477_0  \njupyter                   1.0.0                    py36_4  \njupyter_client            5.2.2                    py36_0  \njupyter_console           5.2.0            py36h6d89b47_1  \njupyter_core              4.4.0            py36h56e9d50_0  \njupyterlab                0.31.4                   py36_0  \njupyterlab_launcher       0.10.2                   py36_0  \nlazy-object-proxy         1.3.1            py36hd1c21d2_0  \nlibcurl                   7.58.0               h7602738_0  \nlibiconv                  1.15                 h1df5818_7  \nlibpng                    1.6.34               h79bbb47_0  \nlibssh2                   1.8.0                hd619d38_4  \nlibtiff                   4.0.9                h0f13578_0  \nlibxml2                   2.9.7                h79bbb47_0  \nlibxslt                   1.1.32               hf6f1972_0  \nllvmlite                  0.21.0           py36he0b0552_0  \nlocket                    0.2.0            py36hfed976d_1  \nlxml                      4.1.1            py36hef2cd61_1  \nlzo                       2.10                 h6df0209_2  \nmarkupsafe                1.0              py36h0e26971_1  \nmatplotlib                2.1.2            py36h016c42a_0  \nmccabe                    0.6.1            py36hb41005a_1  \nmenuinst                  1.4.11           py36hfa6e2cd_0  \nmistune                   0.8.3                    py36_0  \nmkl                       2018.0.1             h2108138_4  \nmkl-service               1.1.2            py36h57e144c_4  \nmpmath                    1.0.0            py36hacc8adf_2  \nmsgpack-python            0.5.1            py36he980bc4_0  \nmultipledispatch          0.4.9            py36he44c36e_0  \nnavigator-updater         0.1.0            py36h8a7b86b_0  \nnbconvert                 5.3.1            py36h8dc0fde_0  \nnbformat                  4.4.0            py36h3a5bc1b_0  \nnetworkx                  2.1                      py36_0  \nninja                     1.9.0            py36h74a9793_0  \nnltk                      3.2.5            py36h76d52bb_0  \nnose                      1.3.7            py36h1c3779e_2  \nnotebook                  5.4.0                    py36_0  \nnumba                     0.36.2          np114py36h12cb543_0  \nnumexpr                   2.6.4            py36h30784b8_0  \nnumpy                     1.14.0           py36h4a99626_1  \nnumpydoc                  0.7.0            py36ha25429e_0  \nodo                       0.5.1            py36h7560279_0  \nolefile                   0.45.1                   py36_0  \nopenpyxl                  2.4.10                   py36_0  \nopenssl                   1.0.2u               he774522_0  \npackaging                 16.8             py36ha0986f6_1  \npandas                    0.22.0           py36h6538335_0  \npandoc                    1.19.2.1             hb2460c7_1  \npandocfilters             1.4.2            py36h3ef6317_1  \nparso                     0.1.1            py36hae3edee_0  \npartd                     0.3.8            py36hc8e763b_0  \npath.py                   10.5             py36h2b94a8f_0  \npathlib2                  2.3.0            py36h7bfb78b_0  \npatsy                     0.5.0                    py36_0  \npep8                      1.7.1                    py36_0  \npickleshare               0.7.4            py36h9de030f_0  \npillow                    5.0.0            py36h0738816_0  \npip                       9.0.1            py36h226ae91_4  \npkginfo                   1.4.1            py36hb0f9cfa_1  \nplotly                    4.5.0                      py_0  \nplotly-orca               1.2.1                         1    plotly\npluggy                    0.6.0            py36hc7daf1e_0  \nply                       3.10             py36h1211beb_0  \nprompt_toolkit            1.0.15           py36h60b8f86_0  \npsutil                    5.4.3            py36hfa6e2cd_0  \npy                        1.5.2            py36hbcfbabc_0  \npycodestyle               2.3.1            py36h7cc55cd_0  \npycosat                   0.6.3            py36h413d8a4_0  \npycparser                 2.18             py36hd053e01_1  \npycrypto                  2.6.1            py36hfa6e2cd_7  \npycurl                    7.43.0.1         py36h74b6da3_0  \npyflakes                  1.6.0            py36h0b975d6_0  \npygments                  2.2.0            py36hb010967_0  \npylint                    1.8.2                    py36_0  \npyodbc                    4.0.22           py36h6538335_0  \npyopenssl                 17.5.0           py36h5b7d817_0  \npyparsing                 2.2.0            py36h785a196_1  \npyqt                      5.6.0            py36hb5ed885_5  \npysocks                   1.6.7            py36h698d350_1  \npytables                  3.4.2            py36h71138e3_2  \npytest                    3.3.2                    py36_0  \npython                    3.6.4                h6538335_1  \npython-dateutil           2.6.1            py36h509ddcb_1  \npytorch                   1.5.0               py3.6_cpu_0  [cpuonly]  pytorch\npytz                      2017.3           py36h1d3fa6b_0  \npywavelets                0.5.2            py36hc649158_0  \npywin32                   222              py36hfa6e2cd_0  \npywinpty                  0.5              py36h6538335_1  \npyyaml                    5.3.1            py36he774522_0  \npyzmq                     16.0.3           py36he714bf5_0  \nqt                        5.6.2           vc14h6f8c307_12  [vc14]\nqtawesome                 0.4.4            py36h5aa48f6_0  \nqtconsole                 4.3.1            py36h99a29a9_0  \nqtpy                      1.9.0                      py_0  \nrequests                  2.23.0                   pypi_0    pypi\nretrying                  1.3.3                      py_2  \nrope                      0.10.7           py36had63a69_0  \nruamel_yaml               0.15.35          py36hfa6e2cd_1  \nscikit-image              0.13.1           py36hfa6e2cd_1  \nscikit-learn              0.19.1           py36h53aea1b_0  \nscipy                     1.0.0            py36h1260518_0  \nseaborn                   0.8.1            py36h9b69545_0  \nsend2trash                1.4.2                    py36_0  \nsetuptools                38.4.0                   py36_0  \nsimplegeneric             0.8.1                    py36_2  \nsingledispatch            3.4.0.3          py36h17d0c80_0  \nsip                       4.18.1           py36h9c25514_2  \nsix                       1.11.0           py36h4db2310_1  \nsnowballstemmer           1.2.1            py36h763602f_0  \nsortedcollections         0.5.3            py36hbefa0ab_0  \nsortedcontainers          1.5.9                    py36_0  \nsphinx                    1.6.6                    py36_0  \nsphinxcontrib             1.0              py36hbbac3d2_1  \nsphinxcontrib-websupport  1.0.1            py36hb5e5916_1  \nspyder                    3.2.6                    py36_0  \nsqlalchemy                1.2.1            py36hfa6e2cd_0  \nsqlite                    3.22.0               h9d3ae62_0  \nstatsmodels               0.8.0            py36h6189b4c_0  \nsympy                     1.1.1            py36h96708e0_0  \ntblib                     1.3.2            py36h30f5020_0  \nterminado                 0.8.1                    py36_1  \ntestpath                  0.3.1            py36h2698cfe_0  \ntk                        8.6.7                hcb92d03_3  \ntoolz                     0.9.0                    py36_0  \ntornado                   4.5.3                    py36_0  \ntqdm                      4.46.0                     py_0  \ntraitlets                 4.3.2            py36h096827d_0  \ntyping                    3.6.2            py36hb035bda_0  \nunicodecsv                0.14.1           py36h6450c06_0  \nurllib3                   1.25.9                   pypi_0    pypi\nuuid                      1.30                     pypi_0    pypi\nvc                        14.1                 h0510ff6_4  \nvs2015_runtime            14.16.27012          hf0eaf9b_2  \nwcwidth                   0.1.7            py36h3d5aa90_0  \nwebencodings              0.5.1            py36h67c50ae_1  \nwerkzeug                  0.14.1                   py36_0  \nwheel                     0.30.0           py36h6c3ec14_1  \nwidgetsnbextension        3.1.0                    py36_0  \nwin_inet_pton             1.0.1            py36he67d7fd_1  \nwin_unicode_console       0.5              py36hcdbd4b5_0  \nwincertstore              0.2              py36h7fe50ca_0  \nwinpty                    0.4.3                         4  \nwrapt                     1.10.11          py36he5f5981_0  \nxlrd                      1.1.0            py36h1cb58dc_1  \nxlsxwriter                1.0.2            py36hf723b7d_0  \nxlwings                   0.11.5                   py36_0  \nxlwt                      1.3.0            py36h1a4751e_0  \nxmltodict                 0.12.0                     py_0  \nyaml                      0.1.7                hc54c509_2  \nzict                      0.1.3            py36h2d8e73e_0  \nzlib                      1.2.11               h8395fce_2  \n"
    }
   ],
   "source": [
    "!conda list"
   ]
  },
  {
   "cell_type": "code",
   "execution_count": 11,
   "metadata": {},
   "outputs": [
    {
     "name": "stdout",
     "output_type": "stream",
     "text": [
      "Package      Version            \n",
      "------------ -------------------\n",
      "certifi      2020.4.5.1         \n",
      "mkl-fft      1.0.15             \n",
      "mkl-random   1.1.1              \n",
      "mkl-service  2.3.0              \n",
      "numpy        1.18.1             \n",
      "pip          20.0.2             \n",
      "setuptools   46.4.0.post20200518\n",
      "six          1.14.0             \n",
      "torch        1.5.0              \n",
      "wheel        0.34.2             \n",
      "wincertstore 0.2                \n"
     ]
    }
   ],
   "source": [
    "!pip list"
   ]
  },
  {
   "cell_type": "code",
   "execution_count": 17,
   "metadata": {},
   "outputs": [
    {
     "output_type": "stream",
     "name": "stdout",
     "text": "Collecting package metadata (repodata.json): ...working... done\nSolving environment: ...working... \nWarning: >10 possible package resolutions (only showing differing packages):\n  - https://repo.continuum.io/pkgs/main/win-64/conda-env-2.6.0-h36134e3_1.tar.bz2/win-64::conda-env-2.6.0-h36134e3_1, https://repo.continuum.io/pkgs/main/win-64/console_shortcut-0.1.1-h6bb2dd7_3.tar.bz2/win-64::console_shortcut-0.1.1-h6bb2dd7_3, https://repo.continuum.io/pkgs/main/win-64/intel-openmp-2018.0.0-hd92c6cd_8.tar.bz2/win-64::intel-openmp-2018.0.0-hd92c6cd_8, https://repo.continuum.io/pkgs/main/win-64/pandoc-1.19.2.1-hb2460c7_1.tar.bz2/win-64::pandoc-1.19.2.1-hb2460c7_1\n  - defaults/win-64::conda-env-2.6.0-h36134e3_1, https://repo.continuum.io/pkgs/main/win-64/console_shortcut-0.1.1-h6bb2dd7_3.tar.bz2/win-64::console_shortcut-0.1.1-h6bb2dd7_3, https://repo.continuum.io/pkgs/main/win-64/intel-openmp-2018.0.0-hd92c6cd_8.tar.bz2/win-64::intel-openmp-2018.0.0-hd92c6cd_8, https://repo.continuum.io/pkgs/main/win-64/pandoc-1.19.2.1-hb2460c7_1.tar.bz2/win-64::pandoc-1.19.2.1-hb2460c7_1\n  - defaults/win-64::intel-openmp-2018.0.0-hd92c6cd_8, https://repo.continuum.io/pkgs/main/win-64/conda-env-2.6.0-h36134e3_1.tar.bz2/win-64::conda-env-2.6.0-h36134e3_1, https://repo.continuum.io/pkgs/main/win-64/console_shortcut-0.1.1-h6bb2dd7_3.tar.bz2/win-64::console_shortcut-0.1.1-h6bb2dd7_3, https://repo.continuum.io/pkgs/main/win-64/pandoc-1.19.2.1-hb2460c7_1.tar.bz2/win-64::pandoc-1.19.2.1-hb2460c7_1\n  - defaults/win-64::conda-env-2.6.0-h36134e3_1, defaults/win-64::intel-openmp-2018.0.0-hd92c6cd_8, https://repo.continuum.io/pkgs/main/win-64/console_shortcut-0.1.1-h6bb2dd7_3.tar.bz2/win-64::console_shortcut-0.1.1-h6bb2dd7_3, https://repo.continuum.io/pkgs/main/win-64/pandoc-1.19.2.1-hb2460c7_1.tar.bz2/win-64::pandoc-1.19.2.1-hb2460c7_1\n  - defaults/win-64::intel-openmp-2018.0.0-hd92c6cd_8, defaults/win-64::pandoc-1.19.2.1-hb2460c7_1, https://repo.continuum.io/pkgs/main/win-64/conda-env-2.6.0-h36134e3_1.tar.bz2/win-64::conda-env-2.6.0-h36134e3_1, https://repo.continuum.io/pkgs/main/win-64/console_shortcut-0.1.1-h6bb2dd7_3.tar.bz2/win-64::console_shortcut-0.1.1-h6bb2dd7_3\n  - defaults/win-64::conda-env-2.6.0-h36134e3_1, defaults/win-64::intel-openmp-2018.0.0-hd92c6cd_8, defaults/win-64::pandoc-1.19.2.1-hb2460c7_1, https://repo.continuum.io/pkgs/main/win-64/console_shortcut-0.1.1-h6bb2dd7_3.tar.bz2/win-64::console_shortcut-0.1.1-h6bb2dd7_3\n  - defaults/win-64::pandoc-1.19.2.1-hb2460c7_1, https://repo.continuum.io/pkgs/main/win-64/conda-env-2.6.0-h36134e3_1.tar.bz2/win-64::conda-env-2.6.0-h36134e3_1, https://repo.continuum.io/pkgs/main/win-64/console_shortcut-0.1.1-h6bb2dd7_3.tar.bz2/win-64::console_shortcut-0.1.1-h6bb2dd7_3, https://repo.continuum.io/pkgs/main/win-64/intel-openmp-2018.0.0-hd92c6cd_8.tar.bz2/win-64::intel-openmp-2018.0.0-hd92c6cd_8\n  - defaults/win-64::conda-env-2.6.0-h36134e3_1, defaults/win-64::pandoc-1.19.2.1-hb2460c7_1, https://repo.continuum.io/pkgs/main/win-64/console_shortcut-0.1.1-h6bb2dd7_3.tar.bz2/win-64::console_shortcut-0.1.1-h6bb2dd7_3, https://repo.continuum.io/pkgs/main/win-64/intel-openmp-2018.0.0-hd92c6cd_8.tar.bz2/win-64::intel-openmp-2018.0.0-hd92c6cd_8\n  - defaults/win-64::console_shortcut-0.1.1-h6bb2dd7_3, defaults/win-64::pandoc-1.19.2.1-hb2460c7_1, https://repo.continuum.io/pkgs/main/win-64/conda-env-2.6.0-h36134e3_1.tar.bz2/win-64::conda-env-2.6.0-h36134e3_1, https://repo.continuum.io/pkgs/main/win-64/intel-openmp-2018.0.0-hd92c6cd_8.tar.bz2/win-64::intel-openmp-2018.0.0-hd92c6cd_8\n  - defaults/win-64::console_shortcut-0.1.1-h6bb2dd7_3, https://repo.continuum.io/pkgs/main/win-64/conda-env-2.6.0-h36134e3_1.tar.bz2/win-64::conda-env-2.6.0-h36134e3_1, https://repo.continuum.io/pkgs/main/win-64/intel-openmp-2018.0.0-hd92c6cd_8.tar.bz2/win-64::intel-openmp-2018.0.0-hd92c6cd_8, https://repo.continuum.io/pkgs/main/win-64/pandoc-1.19.2.1-hb2460c7_1.tar.bz2/win-64::pandoc-1.19.2.1-hb2460c7_1\n  ... and othersdone\n\n## Package Plan ##\n\n  environment location: C:\\Programas\\Microsoft Visual Studio\\Shared\\Anaconda3_64\n\n  added / updated specs:\n    - cpuonly\n    - pytorch\n\n\nThe following packages will be downloaded:\n\n    package                    |            build\n    ---------------------------|-----------------\n    pytorch-1.5.0              |      py3.6_cpu_0        90.5 MB  pytorch\n    ------------------------------------------------------------\n                                           Total:        90.5 MB\n\nThe following NEW packages will be INSTALLED:\n\n  blas               pkgs/main/win-64::blas-1.0-mkl\n  cpuonly            pytorch/noarch::cpuonly-1.0-0\n  ninja              pkgs/main/win-64::ninja-1.9.0-py36h74a9793_0\n  pytorch            pytorch/win-64::pytorch-1.5.0-py3.6_cpu_0\n\n\n\nDownloading and Extracting Packages\n\npytorch-1.5.0        | 90.5 MB   |            |   0% \npytorch-1.5.0        | 90.5 MB   |            |   0% \npytorch-1.5.0        | 90.5 MB   |            |   0% \npytorch-1.5.0        | 90.5 MB   |            |   0% \npytorch-1.5.0        | 90.5 MB   |            |   0% \npytorch-1.5.0        | 90.5 MB   |            |   0% \npytorch-1.5.0        | 90.5 MB   |            |   1% \npytorch-1.5.0        | 90.5 MB   | 1          |   1% \npytorch-1.5.0        | 90.5 MB   | 2          |   3% \npytorch-1.5.0        | 90.5 MB   | 3          |   3% \npytorch-1.5.0        | 90.5 MB   | 4          |   4% \npytorch-1.5.0        | 90.5 MB   | 7          |   7% \npytorch-1.5.0        | 90.5 MB   | 8          |   9% \npytorch-1.5.0        | 90.5 MB   | #1         |  11% \npytorch-1.5.0        | 90.5 MB   | #2         |  13% \npytorch-1.5.0        | 90.5 MB   | #4         |  14% \npytorch-1.5.0        | 90.5 MB   | #5         |  15% \npytorch-1.5.0        | 90.5 MB   | #6         |  17% \npytorch-1.5.0        | 90.5 MB   | #7         |  18% \npytorch-1.5.0        | 90.5 MB   | #8         |  19% \npytorch-1.5.0        | 90.5 MB   | #9         |  20% \npytorch-1.5.0        | 90.5 MB   | ##         |  21% \npytorch-1.5.0        | 90.5 MB   | ##1        |  22% \npytorch-1.5.0        | 90.5 MB   | ##2        |  23% \npytorch-1.5.0        | 90.5 MB   | ##3        |  24% \npytorch-1.5.0        | 90.5 MB   | ##4        |  25% \npytorch-1.5.0        | 90.5 MB   | ##5        |  26% \npytorch-1.5.0        | 90.5 MB   | ##6        |  27% \npytorch-1.5.0        | 90.5 MB   | ##7        |  28% \npytorch-1.5.0        | 90.5 MB   | ##8        |  29% \npytorch-1.5.0        | 90.5 MB   | ##9        |  29% \npytorch-1.5.0        | 90.5 MB   | ###        |  30% \npytorch-1.5.0        | 90.5 MB   | ###1       |  32% \npytorch-1.5.0        | 90.5 MB   | ###2       |  32% \npytorch-1.5.0        | 90.5 MB   | ###3       |  33% \npytorch-1.5.0        | 90.5 MB   | ###3       |  34% \npytorch-1.5.0        | 90.5 MB   | ###4       |  35% \npytorch-1.5.0        | 90.5 MB   | ###5       |  35% \npytorch-1.5.0        | 90.5 MB   | ###6       |  36% \npytorch-1.5.0        | 90.5 MB   | ###7       |  37% \npytorch-1.5.0        | 90.5 MB   | ###7       |  38% \npytorch-1.5.0        | 90.5 MB   | ###8       |  39% \npytorch-1.5.0        | 90.5 MB   | ###9       |  40% \npytorch-1.5.0        | 90.5 MB   | ####       |  41% \npytorch-1.5.0        | 90.5 MB   | ####1      |  41% \npytorch-1.5.0        | 90.5 MB   | ####2      |  42% \npytorch-1.5.0        | 90.5 MB   | ####3      |  43% \npytorch-1.5.0        | 90.5 MB   | ####4      |  44% \npytorch-1.5.0        | 90.5 MB   | ####4      |  45% \npytorch-1.5.0        | 90.5 MB   | ####5      |  46% \npytorch-1.5.0        | 90.5 MB   | ####6      |  47% \npytorch-1.5.0        | 90.5 MB   | ####7      |  47% \npytorch-1.5.0        | 90.5 MB   | ####8      |  48% \npytorch-1.5.0        | 90.5 MB   | ####9      |  49% \npytorch-1.5.0        | 90.5 MB   | ####9      |  50% \npytorch-1.5.0        | 90.5 MB   | #####      |  51% \npytorch-1.5.0        | 90.5 MB   | #####1     |  51% \npytorch-1.5.0        | 90.5 MB   | #####2     |  52% \npytorch-1.5.0        | 90.5 MB   | #####3     |  53% \npytorch-1.5.0        | 90.5 MB   | #####3     |  54% \npytorch-1.5.0        | 90.5 MB   | #####4     |  55% \npytorch-1.5.0        | 90.5 MB   | #####5     |  55% \npytorch-1.5.0        | 90.5 MB   | #####6     |  56% \npytorch-1.5.0        | 90.5 MB   | #####7     |  57% \npytorch-1.5.0        | 90.5 MB   | #####8     |  58% \npytorch-1.5.0        | 90.5 MB   | #####9     |  59% \npytorch-1.5.0        | 90.5 MB   | ######     |  60% \npytorch-1.5.0        | 90.5 MB   | ######1    |  61% \npytorch-1.5.0        | 90.5 MB   | ######1    |  62% \npytorch-1.5.0        | 90.5 MB   | ######2    |  63% \npytorch-1.5.0        | 90.5 MB   | ######3    |  64% \npytorch-1.5.0        | 90.5 MB   | ######4    |  64% \npytorch-1.5.0        | 90.5 MB   | ######5    |  65% \npytorch-1.5.0        | 90.5 MB   | ######6    |  66% \npytorch-1.5.0        | 90.5 MB   | ######6    |  67% \npytorch-1.5.0        | 90.5 MB   | ######7    |  68% \npytorch-1.5.0        | 90.5 MB   | ######8    |  69% \npytorch-1.5.0        | 90.5 MB   | ######9    |  69% \npytorch-1.5.0        | 90.5 MB   | #######    |  70% \npytorch-1.5.0        | 90.5 MB   | #######    |  71% \npytorch-1.5.0        | 90.5 MB   | #######1   |  72% \npytorch-1.5.0        | 90.5 MB   | #######2   |  73% \npytorch-1.5.0        | 90.5 MB   | #######3   |  74% \npytorch-1.5.0        | 90.5 MB   | #######4   |  75% \npytorch-1.5.0        | 90.5 MB   | #######5   |  76% \npytorch-1.5.0        | 90.5 MB   | #######6   |  77% \npytorch-1.5.0        | 90.5 MB   | #######7   |  78% \npytorch-1.5.0        | 90.5 MB   | #######8   |  78% \npytorch-1.5.0        | 90.5 MB   | #######9   |  79% \npytorch-1.5.0        | 90.5 MB   | ########   |  80% \npytorch-1.5.0        | 90.5 MB   | ########1  |  81% \npytorch-1.5.0        | 90.5 MB   | ########1  |  82% \npytorch-1.5.0        | 90.5 MB   | ########2  |  83% \npytorch-1.5.0        | 90.5 MB   | ########3  |  84% \npytorch-1.5.0        | 90.5 MB   | ########4  |  85% \npytorch-1.5.0        | 90.5 MB   | ########5  |  86% \npytorch-1.5.0        | 90.5 MB   | ########6  |  86% \npytorch-1.5.0        | 90.5 MB   | ########7  |  87% \npytorch-1.5.0        | 90.5 MB   | ########8  |  88% \npytorch-1.5.0        | 90.5 MB   | ########9  |  89% \npytorch-1.5.0        | 90.5 MB   | #########  |  90% \npytorch-1.5.0        | 90.5 MB   | #########1 |  91% \npytorch-1.5.0        | 90.5 MB   | #########2 |  92% \npytorch-1.5.0        | 90.5 MB   | #########3 |  93% \npytorch-1.5.0        | 90.5 MB   | #########3 |  94% \npytorch-1.5.0        | 90.5 MB   | #########4 |  95% \npytorch-1.5.0        | 90.5 MB   | #########5 |  96% \npytorch-1.5.0        | 90.5 MB   | #########6 |  96% \npytorch-1.5.0        | 90.5 MB   | #########7 |  97% \npytorch-1.5.0        | 90.5 MB   | #########8 |  98% \npytorch-1.5.0        | 90.5 MB   | #########8 |  99% \npytorch-1.5.0        | 90.5 MB   | #########9 | 100% \npytorch-1.5.0        | 90.5 MB   | ########## | 100% \nPreparing transaction: ...working... done\nVerifying transaction: ...working... done\nExecuting transaction: ...working... done\n"
    }
   ],
   "source": [
    "# Uncomment the command below if PyTorch is not installed\n",
    "#!conda install pytorch cpuonly -c pytorch -y"
   ]
  },
  {
   "cell_type": "markdown",
   "metadata": {},
   "source": [
    "**trying to install pytorch GPU**"
   ]
  },
  {
   "cell_type": "code",
   "execution_count": 3,
   "metadata": {},
   "outputs": [],
   "source": [
    "!conda install pytorch torchvision cudatoolkit=9.0 -c pytorch -c defaults -c numba/label/dev"
   ]
  },
  {
   "cell_type": "code",
   "execution_count": 4,
   "metadata": {},
   "outputs": [
    {
     "output_type": "stream",
     "name": "stdout",
     "text": "cuda:0\n"
    }
   ],
   "source": [
    "# testing current instalation\n",
    "import torch\n",
    "device = torch.device(\"cuda:0\" if torch.cuda.is_available() else \"cpu\")\n",
    "print(device)"
   ]
  },
  {
   "cell_type": "code",
   "execution_count": 5,
   "metadata": {},
   "outputs": [
    {
     "output_type": "execute_result",
     "data": {
      "text/plain": "True"
     },
     "metadata": {},
     "execution_count": 5
    }
   ],
   "source": [
    "torch.cuda.is_available()"
   ]
  },
  {
   "cell_type": "code",
   "execution_count": 2,
   "metadata": {},
   "outputs": [
    {
     "output_type": "execute_result",
     "data": {
      "text/plain": "sys.version_info(major=3, minor=6, micro=10, releaselevel='final', serial=0)"
     },
     "metadata": {},
     "execution_count": 2
    }
   ],
   "source": [
    "sys.version_info"
   ]
  },
  {
   "cell_type": "code",
   "execution_count": 4,
   "metadata": {},
   "outputs": [],
   "source": [
    "import torch"
   ]
  },
  {
   "cell_type": "markdown",
   "metadata": {},
   "source": [
    "## Tensors\n",
    "\n",
    "At its core, PyTorch is a library for processing tensors. A tensor is a number, vector, matrix or any n-dimensional array. Let's create a tensor with a single number:"
   ]
  },
  {
   "cell_type": "code",
   "execution_count": 19,
   "metadata": {},
   "outputs": [
    {
     "output_type": "execute_result",
     "data": {
      "text/plain": "tensor(4.)"
     },
     "metadata": {},
     "execution_count": 19
    }
   ],
   "source": [
    "# Number\n",
    "t1 = torch.tensor(4.)\n",
    "t1"
   ]
  },
  {
   "cell_type": "markdown",
   "metadata": {},
   "source": [
    "`4.` is a shorthand for `4.0`. It is used to indicate to Python (and PyTorch) that you want to create a floating point number. We can verify this by checking the `dtype` attribute of our tensor:"
   ]
  },
  {
   "cell_type": "code",
   "execution_count": 20,
   "metadata": {},
   "outputs": [
    {
     "output_type": "execute_result",
     "data": {
      "text/plain": "torch.float32"
     },
     "metadata": {},
     "execution_count": 20
    }
   ],
   "source": [
    "t1.dtype"
   ]
  },
  {
   "cell_type": "markdown",
   "metadata": {},
   "source": [
    "Let's try creating slightly more complex tensors:"
   ]
  },
  {
   "cell_type": "code",
   "execution_count": 21,
   "metadata": {},
   "outputs": [
    {
     "output_type": "execute_result",
     "data": {
      "text/plain": "tensor([1., 2., 3., 4.])"
     },
     "metadata": {},
     "execution_count": 21
    }
   ],
   "source": [
    "# Vector\n",
    "t2 = torch.tensor([1., 2, 3, 4])\n",
    "t2"
   ]
  },
  {
   "cell_type": "code",
   "execution_count": 22,
   "metadata": {},
   "outputs": [
    {
     "output_type": "execute_result",
     "data": {
      "text/plain": "tensor([[ 5.,  6.],\n        [ 7.,  8.],\n        [ 9., 10.]])"
     },
     "metadata": {},
     "execution_count": 22
    }
   ],
   "source": [
    "# Matrix\n",
    "t3 = torch.tensor([[5., 6], \n",
    "                   [7, 8], \n",
    "                   [9, 10]])\n",
    "t3"
   ]
  },
  {
   "cell_type": "code",
   "execution_count": 23,
   "metadata": {},
   "outputs": [
    {
     "output_type": "execute_result",
     "data": {
      "text/plain": "tensor([[[11., 12., 13.],\n         [13., 14., 15.]],\n\n        [[15., 16., 17.],\n         [17., 18., 19.]]])"
     },
     "metadata": {},
     "execution_count": 23
    }
   ],
   "source": [
    "# 3-dimensional array\n",
    "t4 = torch.tensor([\n",
    "    [[11, 12, 13], \n",
    "     [13, 14, 15]], \n",
    "    [[15, 16, 17], \n",
    "     [17, 18, 19.]]])\n",
    "t4"
   ]
  },
  {
   "cell_type": "markdown",
   "metadata": {},
   "source": [
    "Tensors can have any number of dimensions, and different lengths along each dimension. We can inspect the length along each dimension using the `.shape` property of a tensor."
   ]
  },
  {
   "cell_type": "code",
   "execution_count": 24,
   "metadata": {},
   "outputs": [
    {
     "output_type": "stream",
     "name": "stdout",
     "text": "tensor(4.)\n"
    },
    {
     "output_type": "execute_result",
     "data": {
      "text/plain": "torch.Size([])"
     },
     "metadata": {},
     "execution_count": 24
    }
   ],
   "source": [
    "print(t1)\n",
    "t1.shape"
   ]
  },
  {
   "cell_type": "code",
   "execution_count": 25,
   "metadata": {},
   "outputs": [
    {
     "output_type": "stream",
     "name": "stdout",
     "text": "tensor([1., 2., 3., 4.])\n"
    },
    {
     "output_type": "execute_result",
     "data": {
      "text/plain": "torch.Size([4])"
     },
     "metadata": {},
     "execution_count": 25
    }
   ],
   "source": [
    "print(t2)\n",
    "t2.shape"
   ]
  },
  {
   "cell_type": "code",
   "execution_count": 26,
   "metadata": {},
   "outputs": [
    {
     "output_type": "stream",
     "name": "stdout",
     "text": "tensor([[ 5.,  6.],\n        [ 7.,  8.],\n        [ 9., 10.]])\n"
    },
    {
     "output_type": "execute_result",
     "data": {
      "text/plain": "torch.Size([3, 2])"
     },
     "metadata": {},
     "execution_count": 26
    }
   ],
   "source": [
    "print(t3)\n",
    "t3.shape"
   ]
  },
  {
   "cell_type": "code",
   "execution_count": 27,
   "metadata": {},
   "outputs": [
    {
     "output_type": "stream",
     "name": "stdout",
     "text": "tensor([[[11., 12., 13.],\n         [13., 14., 15.]],\n\n        [[15., 16., 17.],\n         [17., 18., 19.]]])\n"
    },
    {
     "output_type": "execute_result",
     "data": {
      "text/plain": "torch.Size([2, 2, 3])"
     },
     "metadata": {},
     "execution_count": 27
    }
   ],
   "source": [
    "print(t4)\n",
    "t4.shape"
   ]
  },
  {
   "cell_type": "markdown",
   "metadata": {},
   "source": [
    "## Tensor operations and gradients\n",
    "\n",
    "We can combine tensors with the usual arithmetic operations. Let's look an example:"
   ]
  },
  {
   "cell_type": "code",
   "execution_count": 28,
   "metadata": {},
   "outputs": [
    {
     "output_type": "execute_result",
     "data": {
      "text/plain": "(tensor(3.), tensor(4., requires_grad=True), tensor(5., requires_grad=True))"
     },
     "metadata": {},
     "execution_count": 28
    }
   ],
   "source": [
    "# Create tensors.\n",
    "x = torch.tensor(3.)\n",
    "w = torch.tensor(4., requires_grad=True)\n",
    "b = torch.tensor(5., requires_grad=True)\n",
    "x, w, b"
   ]
  },
  {
   "cell_type": "markdown",
   "metadata": {},
   "source": [
    "We've created 3 tensors `x`, `w` and `b`, all numbers. `w` and `b` have an additional parameter `requires_grad` set to `True`. We'll see what it does in just a moment. \n",
    "\n",
    "Let's create a new tensor `y` by combining these tensors:"
   ]
  },
  {
   "cell_type": "code",
   "execution_count": 29,
   "metadata": {},
   "outputs": [
    {
     "output_type": "execute_result",
     "data": {
      "text/plain": "tensor(17., grad_fn=<AddBackward0>)"
     },
     "metadata": {},
     "execution_count": 29
    }
   ],
   "source": [
    "# Arithmetic operations\n",
    "y = w * x + b\n",
    "y"
   ]
  },
  {
   "cell_type": "markdown",
   "metadata": {},
   "source": [
    "As expected, `y` is a tensor with the value `3 * 4 + 5 = 17`. What makes PyTorch special is that we can automatically compute the derivative of `y` w.r.t. the tensors that have `requires_grad` set to `True` i.e. w and b. To compute the derivatives, we can call the `.backward` method on our result `y`."
   ]
  },
  {
   "cell_type": "code",
   "execution_count": 30,
   "metadata": {},
   "outputs": [],
   "source": [
    "# Compute derivatives\n",
    "y.backward()"
   ]
  },
  {
   "cell_type": "markdown",
   "metadata": {},
   "source": [
    "The derivates of `y` w.r.t the input tensors are stored in the `.grad` property of the respective tensors."
   ]
  },
  {
   "cell_type": "code",
   "execution_count": 31,
   "metadata": {},
   "outputs": [
    {
     "output_type": "stream",
     "name": "stdout",
     "text": "dy/dx: None\ndy/dw: tensor(3.)\ndy/db: tensor(1.)\n"
    }
   ],
   "source": [
    "# Display gradients\n",
    "print('dy/dx:', x.grad)\n",
    "print('dy/dw:', w.grad)\n",
    "print('dy/db:', b.grad)"
   ]
  },
  {
   "cell_type": "markdown",
   "metadata": {},
   "source": [
    "As expected, `dy/dw` has the same value as `x` i.e. `3`, and `dy/db` has the value `1`. Note that `x.grad` is `None`, because `x` doesn't have `requires_grad` set to `True`. \n",
    "\n",
    "The \"grad\" in `w.grad` stands for gradient, which is another term for derivative, used mainly when dealing with matrices. "
   ]
  },
  {
   "cell_type": "markdown",
   "metadata": {},
   "source": [
    "## Interoperability with Numpy\n",
    "\n",
    "[Numpy](http://www.numpy.org/) is a popular open source library used for mathematical and scientific computing in Python. It enables efficient operations on large multi-dimensional arrays, and has a large ecosystem of supporting libraries:\n",
    "\n",
    "* [Matplotlib](https://matplotlib.org/) for plotting and visualization\n",
    "* [OpenCV](https://opencv.org/) for image and video processing\n",
    "* [Pandas](https://pandas.pydata.org/) for file I/O and data analysis\n",
    "\n",
    "Instead of reinventing the wheel, PyTorch interoperates really well with Numpy to leverage its existing ecosystem of tools and libraries."
   ]
  },
  {
   "cell_type": "markdown",
   "metadata": {},
   "source": [
    "Here's how we create an array in Numpy:"
   ]
  },
  {
   "cell_type": "code",
   "execution_count": 32,
   "metadata": {},
   "outputs": [
    {
     "output_type": "execute_result",
     "data": {
      "text/plain": "array([[1., 2.],\n       [3., 4.]])"
     },
     "metadata": {},
     "execution_count": 32
    }
   ],
   "source": [
    "import numpy as np\n",
    "\n",
    "x = np.array([[1, 2], [3, 4.]])\n",
    "x"
   ]
  },
  {
   "cell_type": "markdown",
   "metadata": {},
   "source": [
    "We can convert a Numpy array to a PyTorch tensor using `torch.from_numpy`."
   ]
  },
  {
   "cell_type": "code",
   "execution_count": 33,
   "metadata": {},
   "outputs": [
    {
     "output_type": "execute_result",
     "data": {
      "text/plain": "tensor([[1., 2.],\n        [3., 4.]], dtype=torch.float64)"
     },
     "metadata": {},
     "execution_count": 33
    }
   ],
   "source": [
    "# Convert the numpy array to a torch tensor.\n",
    "y = torch.from_numpy(x)\n",
    "y"
   ]
  },
  {
   "cell_type": "markdown",
   "metadata": {},
   "source": [
    "Let's verify that the numpy array and torch tensor have similar data types."
   ]
  },
  {
   "cell_type": "code",
   "execution_count": 34,
   "metadata": {},
   "outputs": [
    {
     "output_type": "execute_result",
     "data": {
      "text/plain": "(dtype('float64'), torch.float64)"
     },
     "metadata": {},
     "execution_count": 34
    }
   ],
   "source": [
    "x.dtype, y.dtype"
   ]
  },
  {
   "cell_type": "markdown",
   "metadata": {},
   "source": [
    "We can convert a PyTorch tensor to a Numpy array using the `.numpy` method of a tensor."
   ]
  },
  {
   "cell_type": "code",
   "execution_count": 35,
   "metadata": {},
   "outputs": [
    {
     "output_type": "execute_result",
     "data": {
      "text/plain": "array([[1., 2.],\n       [3., 4.]])"
     },
     "metadata": {},
     "execution_count": 35
    }
   ],
   "source": [
    "# Convert a torch tensor to a numpy array\n",
    "z = y.numpy()\n",
    "z"
   ]
  },
  {
   "cell_type": "markdown",
   "metadata": {},
   "source": [
    "The interoperability between PyTorch and Numpy is really important because most datasets you'll work with will likely be read and preprocessed as Numpy arrays."
   ]
  },
  {
   "cell_type": "markdown",
   "metadata": {},
   "source": [
    "## Commit and upload the notebook\n",
    "\n",
    "As a final step, we can save and commit out work using the `jovian` library."
   ]
  },
  {
   "cell_type": "code",
   "execution_count": 36,
   "metadata": {},
   "outputs": [],
   "source": [
    "!pip install jovian --upgrade --quiet"
   ]
  },
  {
   "cell_type": "code",
   "execution_count": 37,
   "metadata": {},
   "outputs": [
    {
     "output_type": "display_data",
     "data": {
      "text/plain": "<IPython.core.display.Javascript object>",
      "application/javascript": "if (window.IPython && IPython.notebook.kernel) IPython.notebook.kernel.execute('jovian.utils.jupyter.get_notebook_name_saved = lambda: \"' + IPython.notebook.notebook_name + '\"')"
     },
     "metadata": {}
    }
   ],
   "source": [
    "import jovian"
   ]
  },
  {
   "cell_type": "code",
   "execution_count": null,
   "metadata": {},
   "outputs": [
    {
     "data": {
      "application/javascript": [
       "window.require && require([\"base/js/namespace\"],function(Jupyter){Jupyter.notebook.save_checkpoint()})"
      ],
      "text/plain": [
       "<IPython.core.display.Javascript object>"
      ]
     },
     "metadata": {},
     "output_type": "display_data"
    },
    {
     "name": "stdout",
     "output_type": "stream",
     "text": [
      "[jovian] Attempting to save notebook..\u001b[0m\n"
     ]
    }
   ],
   "source": [
    "jovian.commit()"
   ]
  },
  {
   "cell_type": "markdown",
   "metadata": {},
   "source": [
    "`jovian.commit` uploads the notebook to your [Jovian.ml](https://www.jovian.ml) account, captures the Python environment and creates a sharable link for your notebook as shown above. You can use this link to share your work and let anyone reproduce it easily with the `jovian clone` command. Jovian also includes a powerful commenting interface, so you (and others) can discuss & comment on specific parts of your notebook:\n",
    "\n",
    "![commenting on jovian](https://cdn-images-1.medium.com/max/1600/1*b4snnr_5Ve5Nyq60iDtuuw.png)"
   ]
  },
  {
   "cell_type": "markdown",
   "metadata": {},
   "source": [
    "## Further Reading\n",
    "\n",
    "Tensors in PyTorch support a variety of operations, and what we've covered here is by no means exhaustive. You can learn more about tensors and tensor operations here: https://pytorch.org/docs/stable/tensors.html\n",
    "\n",
    "You can take advantage of the interactive Jupyter environment to experiment with tensors and try different combinations of operations discussed above. Here are some things to try out:\n",
    "\n",
    "1. What if one or more `x`, `w` or `b` were matrices, instead of numbers, in the above example? What would the result `y` and the gradients `w.grad` and `b.grad` look like in this case?\n",
    "\n",
    "2. What if `y` was a matrix created using `torch.tensor`, with each element of the matrix expressed as a combination of numeric tensors `x`, `w` and `b`?\n",
    "\n",
    "3. What if we had a chain of operations instead of just one i.e. `y = x * w + b`, `z = l * y + m`, `w = c * z + d` and so on? What would calling `w.grad` do?\n",
    "\n",
    "If you're interested, you can learn more about matrix derivates on Wikipedia (although it's not necessary for following along with this series of tutorials): https://en.wikipedia.org/wiki/Matrix_calculus#Derivatives_with_matrices "
   ]
  },
  {
   "cell_type": "markdown",
   "metadata": {},
   "source": [
    "With this, we complete our discussion of tensors and gradients in PyTorch, and we're ready to move on to the next topic: *Linear regression*.\n",
    "\n",
    "## Credits\n",
    "\n",
    "The material in this series is heavily inspired by the following resources:\n",
    "\n",
    "1. [PyTorch Tutorial for Deep Learning Researchers](https://github.com/yunjey/pytorch-tutorial) by Yunjey Choi: \n",
    "\n",
    "2. [FastAI development notebooks](https://github.com/fastai/fastai_docs/tree/master/dev_nb) by Jeremy Howard: \n"
   ]
  }
 ],
 "metadata": {
  "kernelspec": {
   "display_name": "Python 3.6.10 64-bit ('jovian-gpu': conda)",
   "language": "python",
   "name": "python361064bitjoviangpucondae72b4a7721164555b3b95453eb4091c7"
  },
  "language_info": {
   "codemirror_mode": {
    "name": "ipython",
    "version": 3
   },
   "file_extension": ".py",
   "mimetype": "text/x-python",
   "name": "python",
   "nbconvert_exporter": "python",
   "pygments_lexer": "ipython3",
   "version": "3.6.10-final"
  }
 },
 "nbformat": 4,
 "nbformat_minor": 2
}